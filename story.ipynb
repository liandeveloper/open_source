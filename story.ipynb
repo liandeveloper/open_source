{
 "cells": [
  {
   "cell_type": "markdown",
   "id": "780a64b2",
   "metadata": {},
   "source": [
    "# Repo Radar | FOSS Analytics"
   ]
  },
  {
   "cell_type": "code",
   "execution_count": 77,
   "id": "6d1a3d9b",
   "metadata": {},
   "outputs": [],
   "source": [
    "import pandas as pd\n",
    "import plotly as ply\n",
    "import plotly.subplots as plys\n",
    "import plotly.graph_objects as go\n",
    "import plotly.express as px\n",
    "from datetime import datetime"
   ]
  },
  {
   "cell_type": "code",
   "execution_count": 78,
   "id": "8d65e330",
   "metadata": {},
   "outputs": [],
   "source": [
    "data = pd.read_csv('repo_data_clean.csv', sep=';')\n",
    "data[['created_at', 'updated_at', 'pushed_at']] = data[['created_at', 'updated_at', 'pushed_at']].map(lambda x: datetime.strptime(x[:10], '%Y-%m-%d').year)\n",
    "data.iloc[:,-9:-3] = data.iloc[:,-9:-3].map(lambda x: x.split('//') if isinstance(x,str) else x)"
   ]
  },
  {
   "cell_type": "markdown",
   "id": "92f98802",
   "metadata": {},
   "source": [
    "## The industry standard\n",
    "\n",
    "GitHub has become the heart of open-source software (OSS) development, hosting millions of projects that power modern technology. But how has open source evolved on GitHub over the years? Let’s explore the trends, growth, and impact of OSS through data.\n",
    "\n",
    "### The Rise of Github\n",
    "\n",
    "GitHub was founded in 2008, and since then, it has grown exponentially:  \n",
    "- [**2010**](https://github.blog/news-insights/one-million-repositories/): ~1M repositories  \n",
    "- **2015**: ~20M repositories\n",
    "- [**2023**](https://octoverse.github.com/2023): **Over 420M repositories** (with ~28M public ones)"
   ]
  },
  {
   "cell_type": "markdown",
   "id": "05981dc6",
   "metadata": {},
   "source": [
    "## Open-source adoption has skyrocketed\n",
    "\n",
    "For our analysis we have scrapped the top 1000 open source repositories with the most stars and forks, obviously there is a lot of overlap in these areas and we ended up with a total of 1505 repositories to analyze."
   ]
  },
  {
   "cell_type": "code",
   "execution_count": 79,
   "id": "b4319d8e",
   "metadata": {},
   "outputs": [
    {
     "data": {
      "application/vnd.plotly.v1+json": {
       "config": {
        "plotlyServerURL": "https://plot.ly"
       },
       "data": [
        {
         "hovertemplate": "created_at=%{x}<br>count=%{y}<extra></extra>",
         "legendgroup": "",
         "marker": {
          "color": "#636efa",
          "pattern": {
           "shape": ""
          }
         },
         "name": "",
         "orientation": "v",
         "showlegend": false,
         "textposition": "auto",
         "type": "bar",
         "x": {
          "bdata": "2gfbB9wH3QfeB98H4AfhB+IH4wfkB+UH5gfnB+gH6Qc=",
          "dtype": "i2"
         },
         "xaxis": "x",
         "y": {
          "bdata": "LgA7AEMAWwB8AIUAlwCBAH4AcgBwAGsASgBkADQABQA=",
          "dtype": "i2"
         },
         "yaxis": "y"
        }
       ],
       "layout": {
        "barmode": "relative",
        "legend": {
         "tracegroupgap": 0
        },
        "template": {
         "data": {
          "bar": [
           {
            "error_x": {
             "color": "#2a3f5f"
            },
            "error_y": {
             "color": "#2a3f5f"
            },
            "marker": {
             "line": {
              "color": "#E5ECF6",
              "width": 0.5
             },
             "pattern": {
              "fillmode": "overlay",
              "size": 10,
              "solidity": 0.2
             }
            },
            "type": "bar"
           }
          ],
          "barpolar": [
           {
            "marker": {
             "line": {
              "color": "#E5ECF6",
              "width": 0.5
             },
             "pattern": {
              "fillmode": "overlay",
              "size": 10,
              "solidity": 0.2
             }
            },
            "type": "barpolar"
           }
          ],
          "carpet": [
           {
            "aaxis": {
             "endlinecolor": "#2a3f5f",
             "gridcolor": "white",
             "linecolor": "white",
             "minorgridcolor": "white",
             "startlinecolor": "#2a3f5f"
            },
            "baxis": {
             "endlinecolor": "#2a3f5f",
             "gridcolor": "white",
             "linecolor": "white",
             "minorgridcolor": "white",
             "startlinecolor": "#2a3f5f"
            },
            "type": "carpet"
           }
          ],
          "choropleth": [
           {
            "colorbar": {
             "outlinewidth": 0,
             "ticks": ""
            },
            "type": "choropleth"
           }
          ],
          "contour": [
           {
            "colorbar": {
             "outlinewidth": 0,
             "ticks": ""
            },
            "colorscale": [
             [
              0,
              "#0d0887"
             ],
             [
              0.1111111111111111,
              "#46039f"
             ],
             [
              0.2222222222222222,
              "#7201a8"
             ],
             [
              0.3333333333333333,
              "#9c179e"
             ],
             [
              0.4444444444444444,
              "#bd3786"
             ],
             [
              0.5555555555555556,
              "#d8576b"
             ],
             [
              0.6666666666666666,
              "#ed7953"
             ],
             [
              0.7777777777777778,
              "#fb9f3a"
             ],
             [
              0.8888888888888888,
              "#fdca26"
             ],
             [
              1,
              "#f0f921"
             ]
            ],
            "type": "contour"
           }
          ],
          "contourcarpet": [
           {
            "colorbar": {
             "outlinewidth": 0,
             "ticks": ""
            },
            "type": "contourcarpet"
           }
          ],
          "heatmap": [
           {
            "colorbar": {
             "outlinewidth": 0,
             "ticks": ""
            },
            "colorscale": [
             [
              0,
              "#0d0887"
             ],
             [
              0.1111111111111111,
              "#46039f"
             ],
             [
              0.2222222222222222,
              "#7201a8"
             ],
             [
              0.3333333333333333,
              "#9c179e"
             ],
             [
              0.4444444444444444,
              "#bd3786"
             ],
             [
              0.5555555555555556,
              "#d8576b"
             ],
             [
              0.6666666666666666,
              "#ed7953"
             ],
             [
              0.7777777777777778,
              "#fb9f3a"
             ],
             [
              0.8888888888888888,
              "#fdca26"
             ],
             [
              1,
              "#f0f921"
             ]
            ],
            "type": "heatmap"
           }
          ],
          "histogram": [
           {
            "marker": {
             "pattern": {
              "fillmode": "overlay",
              "size": 10,
              "solidity": 0.2
             }
            },
            "type": "histogram"
           }
          ],
          "histogram2d": [
           {
            "colorbar": {
             "outlinewidth": 0,
             "ticks": ""
            },
            "colorscale": [
             [
              0,
              "#0d0887"
             ],
             [
              0.1111111111111111,
              "#46039f"
             ],
             [
              0.2222222222222222,
              "#7201a8"
             ],
             [
              0.3333333333333333,
              "#9c179e"
             ],
             [
              0.4444444444444444,
              "#bd3786"
             ],
             [
              0.5555555555555556,
              "#d8576b"
             ],
             [
              0.6666666666666666,
              "#ed7953"
             ],
             [
              0.7777777777777778,
              "#fb9f3a"
             ],
             [
              0.8888888888888888,
              "#fdca26"
             ],
             [
              1,
              "#f0f921"
             ]
            ],
            "type": "histogram2d"
           }
          ],
          "histogram2dcontour": [
           {
            "colorbar": {
             "outlinewidth": 0,
             "ticks": ""
            },
            "colorscale": [
             [
              0,
              "#0d0887"
             ],
             [
              0.1111111111111111,
              "#46039f"
             ],
             [
              0.2222222222222222,
              "#7201a8"
             ],
             [
              0.3333333333333333,
              "#9c179e"
             ],
             [
              0.4444444444444444,
              "#bd3786"
             ],
             [
              0.5555555555555556,
              "#d8576b"
             ],
             [
              0.6666666666666666,
              "#ed7953"
             ],
             [
              0.7777777777777778,
              "#fb9f3a"
             ],
             [
              0.8888888888888888,
              "#fdca26"
             ],
             [
              1,
              "#f0f921"
             ]
            ],
            "type": "histogram2dcontour"
           }
          ],
          "mesh3d": [
           {
            "colorbar": {
             "outlinewidth": 0,
             "ticks": ""
            },
            "type": "mesh3d"
           }
          ],
          "parcoords": [
           {
            "line": {
             "colorbar": {
              "outlinewidth": 0,
              "ticks": ""
             }
            },
            "type": "parcoords"
           }
          ],
          "pie": [
           {
            "automargin": true,
            "type": "pie"
           }
          ],
          "scatter": [
           {
            "fillpattern": {
             "fillmode": "overlay",
             "size": 10,
             "solidity": 0.2
            },
            "type": "scatter"
           }
          ],
          "scatter3d": [
           {
            "line": {
             "colorbar": {
              "outlinewidth": 0,
              "ticks": ""
             }
            },
            "marker": {
             "colorbar": {
              "outlinewidth": 0,
              "ticks": ""
             }
            },
            "type": "scatter3d"
           }
          ],
          "scattercarpet": [
           {
            "marker": {
             "colorbar": {
              "outlinewidth": 0,
              "ticks": ""
             }
            },
            "type": "scattercarpet"
           }
          ],
          "scattergeo": [
           {
            "marker": {
             "colorbar": {
              "outlinewidth": 0,
              "ticks": ""
             }
            },
            "type": "scattergeo"
           }
          ],
          "scattergl": [
           {
            "marker": {
             "colorbar": {
              "outlinewidth": 0,
              "ticks": ""
             }
            },
            "type": "scattergl"
           }
          ],
          "scattermap": [
           {
            "marker": {
             "colorbar": {
              "outlinewidth": 0,
              "ticks": ""
             }
            },
            "type": "scattermap"
           }
          ],
          "scattermapbox": [
           {
            "marker": {
             "colorbar": {
              "outlinewidth": 0,
              "ticks": ""
             }
            },
            "type": "scattermapbox"
           }
          ],
          "scatterpolar": [
           {
            "marker": {
             "colorbar": {
              "outlinewidth": 0,
              "ticks": ""
             }
            },
            "type": "scatterpolar"
           }
          ],
          "scatterpolargl": [
           {
            "marker": {
             "colorbar": {
              "outlinewidth": 0,
              "ticks": ""
             }
            },
            "type": "scatterpolargl"
           }
          ],
          "scatterternary": [
           {
            "marker": {
             "colorbar": {
              "outlinewidth": 0,
              "ticks": ""
             }
            },
            "type": "scatterternary"
           }
          ],
          "surface": [
           {
            "colorbar": {
             "outlinewidth": 0,
             "ticks": ""
            },
            "colorscale": [
             [
              0,
              "#0d0887"
             ],
             [
              0.1111111111111111,
              "#46039f"
             ],
             [
              0.2222222222222222,
              "#7201a8"
             ],
             [
              0.3333333333333333,
              "#9c179e"
             ],
             [
              0.4444444444444444,
              "#bd3786"
             ],
             [
              0.5555555555555556,
              "#d8576b"
             ],
             [
              0.6666666666666666,
              "#ed7953"
             ],
             [
              0.7777777777777778,
              "#fb9f3a"
             ],
             [
              0.8888888888888888,
              "#fdca26"
             ],
             [
              1,
              "#f0f921"
             ]
            ],
            "type": "surface"
           }
          ],
          "table": [
           {
            "cells": {
             "fill": {
              "color": "#EBF0F8"
             },
             "line": {
              "color": "white"
             }
            },
            "header": {
             "fill": {
              "color": "#C8D4E3"
             },
             "line": {
              "color": "white"
             }
            },
            "type": "table"
           }
          ]
         },
         "layout": {
          "annotationdefaults": {
           "arrowcolor": "#2a3f5f",
           "arrowhead": 0,
           "arrowwidth": 1
          },
          "autotypenumbers": "strict",
          "coloraxis": {
           "colorbar": {
            "outlinewidth": 0,
            "ticks": ""
           }
          },
          "colorscale": {
           "diverging": [
            [
             0,
             "#8e0152"
            ],
            [
             0.1,
             "#c51b7d"
            ],
            [
             0.2,
             "#de77ae"
            ],
            [
             0.3,
             "#f1b6da"
            ],
            [
             0.4,
             "#fde0ef"
            ],
            [
             0.5,
             "#f7f7f7"
            ],
            [
             0.6,
             "#e6f5d0"
            ],
            [
             0.7,
             "#b8e186"
            ],
            [
             0.8,
             "#7fbc41"
            ],
            [
             0.9,
             "#4d9221"
            ],
            [
             1,
             "#276419"
            ]
           ],
           "sequential": [
            [
             0,
             "#0d0887"
            ],
            [
             0.1111111111111111,
             "#46039f"
            ],
            [
             0.2222222222222222,
             "#7201a8"
            ],
            [
             0.3333333333333333,
             "#9c179e"
            ],
            [
             0.4444444444444444,
             "#bd3786"
            ],
            [
             0.5555555555555556,
             "#d8576b"
            ],
            [
             0.6666666666666666,
             "#ed7953"
            ],
            [
             0.7777777777777778,
             "#fb9f3a"
            ],
            [
             0.8888888888888888,
             "#fdca26"
            ],
            [
             1,
             "#f0f921"
            ]
           ],
           "sequentialminus": [
            [
             0,
             "#0d0887"
            ],
            [
             0.1111111111111111,
             "#46039f"
            ],
            [
             0.2222222222222222,
             "#7201a8"
            ],
            [
             0.3333333333333333,
             "#9c179e"
            ],
            [
             0.4444444444444444,
             "#bd3786"
            ],
            [
             0.5555555555555556,
             "#d8576b"
            ],
            [
             0.6666666666666666,
             "#ed7953"
            ],
            [
             0.7777777777777778,
             "#fb9f3a"
            ],
            [
             0.8888888888888888,
             "#fdca26"
            ],
            [
             1,
             "#f0f921"
            ]
           ]
          },
          "colorway": [
           "#636efa",
           "#EF553B",
           "#00cc96",
           "#ab63fa",
           "#FFA15A",
           "#19d3f3",
           "#FF6692",
           "#B6E880",
           "#FF97FF",
           "#FECB52"
          ],
          "font": {
           "color": "#2a3f5f"
          },
          "geo": {
           "bgcolor": "white",
           "lakecolor": "white",
           "landcolor": "#E5ECF6",
           "showlakes": true,
           "showland": true,
           "subunitcolor": "white"
          },
          "hoverlabel": {
           "align": "left"
          },
          "hovermode": "closest",
          "mapbox": {
           "style": "light"
          },
          "paper_bgcolor": "white",
          "plot_bgcolor": "#E5ECF6",
          "polar": {
           "angularaxis": {
            "gridcolor": "white",
            "linecolor": "white",
            "ticks": ""
           },
           "bgcolor": "#E5ECF6",
           "radialaxis": {
            "gridcolor": "white",
            "linecolor": "white",
            "ticks": ""
           }
          },
          "scene": {
           "xaxis": {
            "backgroundcolor": "#E5ECF6",
            "gridcolor": "white",
            "gridwidth": 2,
            "linecolor": "white",
            "showbackground": true,
            "ticks": "",
            "zerolinecolor": "white"
           },
           "yaxis": {
            "backgroundcolor": "#E5ECF6",
            "gridcolor": "white",
            "gridwidth": 2,
            "linecolor": "white",
            "showbackground": true,
            "ticks": "",
            "zerolinecolor": "white"
           },
           "zaxis": {
            "backgroundcolor": "#E5ECF6",
            "gridcolor": "white",
            "gridwidth": 2,
            "linecolor": "white",
            "showbackground": true,
            "ticks": "",
            "zerolinecolor": "white"
           }
          },
          "shapedefaults": {
           "line": {
            "color": "#2a3f5f"
           }
          },
          "ternary": {
           "aaxis": {
            "gridcolor": "white",
            "linecolor": "white",
            "ticks": ""
           },
           "baxis": {
            "gridcolor": "white",
            "linecolor": "white",
            "ticks": ""
           },
           "bgcolor": "#E5ECF6",
           "caxis": {
            "gridcolor": "white",
            "linecolor": "white",
            "ticks": ""
           }
          },
          "title": {
           "x": 0.05
          },
          "xaxis": {
           "automargin": true,
           "gridcolor": "white",
           "linecolor": "white",
           "ticks": "",
           "title": {
            "standoff": 15
           },
           "zerolinecolor": "white",
           "zerolinewidth": 2
          },
          "yaxis": {
           "automargin": true,
           "gridcolor": "white",
           "linecolor": "white",
           "ticks": "",
           "title": {
            "standoff": 15
           },
           "zerolinecolor": "white",
           "zerolinewidth": 2
          }
         }
        },
        "title": {
         "subtitle": {
          "text": "Top repositories are the 1505 repos with the most amount of stars and forks as of 2025"
         },
         "text": "Birth years of the Top repositories of 20245"
        },
        "xaxis": {
         "anchor": "y",
         "domain": [
          0,
          1
         ],
         "title": {
          "text": "created_at"
         }
        },
        "yaxis": {
         "anchor": "x",
         "domain": [
          0,
          1
         ],
         "title": {
          "text": "count"
         }
        }
       }
      }
     },
     "metadata": {},
     "output_type": "display_data"
    }
   ],
   "source": [
    "date_data = data.value_counts('created_at').sort_index().reset_index()\n",
    "fig = px.bar(date_data[(date_data['created_at'] >= 2010) & (date_data['created_at'] <=2025)],\n",
    "    x='created_at',\n",
    "    y='count',\n",
    "    title='Birth years of the Top repositories of 20245',\n",
    "    subtitle='Top repositories are the 1505 repos with the most amount of stars and forks as of 2025'\n",
    ")\n",
    "fig.show()"
   ]
  },
  {
   "cell_type": "markdown",
   "id": "0dd09377",
   "metadata": {},
   "source": [
    "### Notice the bump around 2016?\n",
    "2016 was a year of many changes for the open source community characterized by:\n",
    "- The requirement from many schools and universities to use GitHub for student projects in STEM fields.\n",
    "- A cultural shift in the developer world towards open source software.\n",
    "  - Developers began treating their GitHub profiles like LinkedIn profiles. Stars became social proof, and \"GitHub famous\" became a real phenomenon. The most-starred repository? That would be freeCodeCamp's curriculum, with over 400,000 stars—a testament to coding education's mass appeal.\n",
    "- The adoption of open source software from big tech companies like Microsoft, Google, Facebook, IBM. \n",
    "  - Companies realized that open-sourcing tools could drive adoption, attract talent, and improve software quality through community contributions.\n",
    "  - Projects like Kubernetes (Google, 2014) and React (Facebook, 2013) were gaining training on the octocat platform.\n",
    "\n",
    "This led to an inmense growth in open source project in this year making those repositories stand out in terms of stars and forks which are the metrics we chose to analyze."
   ]
  },
  {
   "cell_type": "markdown",
   "id": "192dff4c",
   "metadata": {},
   "source": [
    "## The Battle of Languages. What developers loved ... and what they hated"
   ]
  },
  {
   "cell_type": "code",
   "execution_count": 92,
   "id": "636bf39b",
   "metadata": {},
   "outputs": [
    {
     "data": {
      "application/vnd.plotly.v1+json": {
       "config": {
        "plotlyServerURL": "https://plot.ly"
       },
       "data": [
        {
         "hovertemplate": "index=%{y}<br>value=%{x}<extra></extra>",
         "legendgroup": "JavaScript",
         "marker": {
          "color": "#636efa",
          "opacity": 0.5,
          "pattern": {
           "shape": ""
          }
         },
         "name": "JavaScript",
         "orientation": "h",
         "showlegend": true,
         "textposition": "auto",
         "type": "bar",
         "x": {
          "bdata": "FQMbAQ==",
          "dtype": "i2"
         },
         "xaxis": "x",
         "y": [
          "JavaScript",
          "JavaScript"
         ],
         "yaxis": "y"
        },
        {
         "hovertemplate": "index=%{y}<br>value=%{x}<extra></extra>",
         "legendgroup": "Python",
         "marker": {
          "color": "#EF553B",
          "opacity": 0.5,
          "pattern": {
           "shape": ""
          }
         },
         "name": "Python",
         "orientation": "h",
         "showlegend": true,
         "textposition": "auto",
         "type": "bar",
         "x": {
          "bdata": "BALnAA==",
          "dtype": "i2"
         },
         "xaxis": "x",
         "y": [
          "Python",
          "Python"
         ],
         "yaxis": "y"
        },
        {
         "hovertemplate": "index=%{y}<br>value=%{x}<extra></extra>",
         "legendgroup": "TypeScript",
         "marker": {
          "color": "#00cc96",
          "opacity": 0.5,
          "pattern": {
           "shape": ""
          }
         },
         "name": "TypeScript",
         "orientation": "h",
         "showlegend": true,
         "textposition": "auto",
         "type": "bar",
         "x": {
          "bdata": "/QCcAA==",
          "dtype": "i2"
         },
         "xaxis": "x",
         "y": [
          "TypeScript",
          "TypeScript"
         ],
         "yaxis": "y"
        },
        {
         "hovertemplate": "index=%{y}<br>value=%{x}<extra></extra>",
         "legendgroup": "Java",
         "marker": {
          "color": "#ab63fa",
          "opacity": 0.5,
          "pattern": {
           "shape": ""
          }
         },
         "name": "Java",
         "orientation": "h",
         "showlegend": true,
         "textposition": "auto",
         "type": "bar",
         "x": {
          "bdata": "5ABhAA==",
          "dtype": "i2"
         },
         "xaxis": "x",
         "y": [
          "Java",
          "Java"
         ],
         "yaxis": "y"
        },
        {
         "hovertemplate": "index=%{y}<br>value=%{x}<extra></extra>",
         "legendgroup": "HTML",
         "marker": {
          "color": "#FFA15A",
          "opacity": 0.5,
          "pattern": {
           "shape": ""
          }
         },
         "name": "HTML",
         "orientation": "h",
         "showlegend": true,
         "textposition": "auto",
         "type": "bar",
         "x": {
          "bdata": "2wA+AA==",
          "dtype": "i2"
         },
         "xaxis": "x",
         "y": [
          "HTML",
          "HTML"
         ],
         "yaxis": "y"
        },
        {
         "hovertemplate": "index=%{y}<br>value=%{x}<extra></extra>",
         "legendgroup": "C++",
         "marker": {
          "color": "#19d3f3",
          "opacity": 0.5,
          "pattern": {
           "shape": ""
          }
         },
         "name": "C++",
         "orientation": "h",
         "showlegend": true,
         "textposition": "auto",
         "type": "bar",
         "x": {
          "bdata": "vQAHAA==",
          "dtype": "i2"
         },
         "xaxis": "x",
         "y": [
          "C++",
          "C++"
         ],
         "yaxis": "y"
        },
        {
         "hovertemplate": "index=%{y}<br>value=%{x}<extra></extra>",
         "legendgroup": "CSS",
         "marker": {
          "color": "#FF6692",
          "opacity": 0.5,
          "pattern": {
           "shape": ""
          }
         },
         "name": "CSS",
         "orientation": "h",
         "showlegend": true,
         "textposition": "auto",
         "type": "bar",
         "x": {
          "bdata": "tAAMAA==",
          "dtype": "i2"
         },
         "xaxis": "x",
         "y": [
          "CSS",
          "CSS"
         ],
         "yaxis": "y"
        },
        {
         "hovertemplate": "index=%{y}<br>value=%{x}<extra></extra>",
         "legendgroup": "Go",
         "marker": {
          "color": "#B6E880",
          "opacity": 0.5,
          "pattern": {
           "shape": ""
          }
         },
         "name": "Go",
         "orientation": "h",
         "showlegend": true,
         "textposition": "auto",
         "type": "bar",
         "x": {
          "bdata": "oABVAA==",
          "dtype": "i2"
         },
         "xaxis": "x",
         "y": [
          "Go",
          "Go"
         ],
         "yaxis": "y"
        },
        {
         "hovertemplate": "index=%{y}<br>value=%{x}<extra></extra>",
         "legendgroup": "Bash",
         "marker": {
          "color": "#FF97FF",
          "opacity": 0.5,
          "pattern": {
           "shape": ""
          }
         },
         "name": "Bash",
         "orientation": "h",
         "showlegend": true,
         "textposition": "auto",
         "type": "bar",
         "x": {
          "bdata": "nwAmAA==",
          "dtype": "i2"
         },
         "xaxis": "x",
         "y": [
          "Bash",
          "Bash"
         ],
         "yaxis": "y"
        },
        {
         "hovertemplate": "index=%{y}<br>value=%{x}<extra></extra>",
         "legendgroup": "C",
         "marker": {
          "color": "#FECB52",
          "opacity": 0.5,
          "pattern": {
           "shape": ""
          }
         },
         "name": "C",
         "orientation": "h",
         "showlegend": true,
         "textposition": "auto",
         "type": "bar",
         "x": {
          "bdata": "WCQ=",
          "dtype": "i1"
         },
         "xaxis": "x",
         "y": [
          "C",
          "C"
         ],
         "yaxis": "y"
        },
        {
         "hovertemplate": "index=%{y}<br>value=%{x}<extra></extra>",
         "legendgroup": "Rust",
         "marker": {
          "color": "#636efa",
          "opacity": 0.5,
          "pattern": {
           "shape": ""
          }
         },
         "name": "Rust",
         "orientation": "h",
         "showlegend": true,
         "textposition": "auto",
         "type": "bar",
         "x": {
          "bdata": "USk=",
          "dtype": "i1"
         },
         "xaxis": "x",
         "y": [
          "Rust",
          "Rust"
         ],
         "yaxis": "y"
        },
        {
         "hovertemplate": "index=%{y}<br>value=%{x}<extra></extra>",
         "legendgroup": "C#",
         "marker": {
          "color": "#EF553B",
          "opacity": 0.5,
          "pattern": {
           "shape": ""
          }
         },
         "name": "C#",
         "orientation": "h",
         "showlegend": true,
         "textposition": "auto",
         "type": "bar",
         "x": {
          "bdata": "MxI=",
          "dtype": "i1"
         },
         "xaxis": "x",
         "y": [
          "C#",
          "C#"
         ],
         "yaxis": "y"
        },
        {
         "hovertemplate": "index=%{y}<br>value=%{x}<extra></extra>",
         "legendgroup": "Ruby",
         "marker": {
          "color": "#00cc96",
          "opacity": 0.5,
          "pattern": {
           "shape": ""
          }
         },
         "name": "Ruby",
         "orientation": "h",
         "showlegend": true,
         "textposition": "auto",
         "type": "bar",
         "x": {
          "bdata": "MhQ=",
          "dtype": "i1"
         },
         "xaxis": "x",
         "y": [
          "Ruby",
          "Ruby"
         ],
         "yaxis": "y"
        },
        {
         "hovertemplate": "index=%{y}<br>value=%{x}<extra></extra>",
         "legendgroup": "PHP",
         "marker": {
          "color": "#ab63fa",
          "opacity": 0.5,
          "pattern": {
           "shape": ""
          }
         },
         "name": "PHP",
         "orientation": "h",
         "showlegend": true,
         "textposition": "auto",
         "type": "bar",
         "x": {
          "bdata": "IRA=",
          "dtype": "i1"
         },
         "xaxis": "x",
         "y": [
          "PHP",
          "PHP"
         ],
         "yaxis": "y"
        },
        {
         "hovertemplate": "index=%{y}<br>value=%{x}<extra></extra>",
         "legendgroup": "Kotlin",
         "marker": {
          "color": "#FFA15A",
          "opacity": 0.5,
          "pattern": {
           "shape": ""
          }
         },
         "name": "Kotlin",
         "orientation": "h",
         "showlegend": true,
         "textposition": "auto",
         "type": "bar",
         "x": {
          "bdata": "Hw4=",
          "dtype": "i1"
         },
         "xaxis": "x",
         "y": [
          "Kotlin",
          "Kotlin"
         ],
         "yaxis": "y"
        },
        {
         "hovertemplate": "index=%{y}<br>value=%{x}<extra></extra>",
         "legendgroup": "Other",
         "marker": {
          "color": "#19d3f3",
          "opacity": 0.5,
          "pattern": {
           "shape": ""
          }
         },
         "name": "Other",
         "orientation": "h",
         "showlegend": true,
         "textposition": "auto",
         "type": "bar",
         "x": {
          "bdata": "HRcODQwLCwgGBgQDAgICAQEJAgINAQkBAQEGAwEBAQIBAQ==",
          "dtype": "i1"
         },
         "xaxis": "x",
         "y": [
          "Other",
          "Other",
          "Other",
          "Other",
          "Other",
          "Other",
          "Other",
          "Other",
          "Other",
          "Other",
          "Other",
          "Other",
          "Other",
          "Other",
          "Other",
          "Other",
          "Other",
          "Other",
          "Other",
          "Other",
          "Other",
          "Other",
          "Other",
          "Other",
          "Other",
          "Other",
          "Other",
          "Other",
          "Other",
          "Other",
          "Other",
          "Other",
          "Other",
          "Other"
         ],
         "yaxis": "y"
        }
       ],
       "layout": {
        "barmode": "overlay",
        "legend": {
         "title": {
          "text": "index"
         },
         "tracegroupgap": 0
        },
        "template": {
         "data": {
          "bar": [
           {
            "error_x": {
             "color": "#2a3f5f"
            },
            "error_y": {
             "color": "#2a3f5f"
            },
            "marker": {
             "line": {
              "color": "#E5ECF6",
              "width": 0.5
             },
             "pattern": {
              "fillmode": "overlay",
              "size": 10,
              "solidity": 0.2
             }
            },
            "type": "bar"
           }
          ],
          "barpolar": [
           {
            "marker": {
             "line": {
              "color": "#E5ECF6",
              "width": 0.5
             },
             "pattern": {
              "fillmode": "overlay",
              "size": 10,
              "solidity": 0.2
             }
            },
            "type": "barpolar"
           }
          ],
          "carpet": [
           {
            "aaxis": {
             "endlinecolor": "#2a3f5f",
             "gridcolor": "white",
             "linecolor": "white",
             "minorgridcolor": "white",
             "startlinecolor": "#2a3f5f"
            },
            "baxis": {
             "endlinecolor": "#2a3f5f",
             "gridcolor": "white",
             "linecolor": "white",
             "minorgridcolor": "white",
             "startlinecolor": "#2a3f5f"
            },
            "type": "carpet"
           }
          ],
          "choropleth": [
           {
            "colorbar": {
             "outlinewidth": 0,
             "ticks": ""
            },
            "type": "choropleth"
           }
          ],
          "contour": [
           {
            "colorbar": {
             "outlinewidth": 0,
             "ticks": ""
            },
            "colorscale": [
             [
              0,
              "#0d0887"
             ],
             [
              0.1111111111111111,
              "#46039f"
             ],
             [
              0.2222222222222222,
              "#7201a8"
             ],
             [
              0.3333333333333333,
              "#9c179e"
             ],
             [
              0.4444444444444444,
              "#bd3786"
             ],
             [
              0.5555555555555556,
              "#d8576b"
             ],
             [
              0.6666666666666666,
              "#ed7953"
             ],
             [
              0.7777777777777778,
              "#fb9f3a"
             ],
             [
              0.8888888888888888,
              "#fdca26"
             ],
             [
              1,
              "#f0f921"
             ]
            ],
            "type": "contour"
           }
          ],
          "contourcarpet": [
           {
            "colorbar": {
             "outlinewidth": 0,
             "ticks": ""
            },
            "type": "contourcarpet"
           }
          ],
          "heatmap": [
           {
            "colorbar": {
             "outlinewidth": 0,
             "ticks": ""
            },
            "colorscale": [
             [
              0,
              "#0d0887"
             ],
             [
              0.1111111111111111,
              "#46039f"
             ],
             [
              0.2222222222222222,
              "#7201a8"
             ],
             [
              0.3333333333333333,
              "#9c179e"
             ],
             [
              0.4444444444444444,
              "#bd3786"
             ],
             [
              0.5555555555555556,
              "#d8576b"
             ],
             [
              0.6666666666666666,
              "#ed7953"
             ],
             [
              0.7777777777777778,
              "#fb9f3a"
             ],
             [
              0.8888888888888888,
              "#fdca26"
             ],
             [
              1,
              "#f0f921"
             ]
            ],
            "type": "heatmap"
           }
          ],
          "histogram": [
           {
            "marker": {
             "pattern": {
              "fillmode": "overlay",
              "size": 10,
              "solidity": 0.2
             }
            },
            "type": "histogram"
           }
          ],
          "histogram2d": [
           {
            "colorbar": {
             "outlinewidth": 0,
             "ticks": ""
            },
            "colorscale": [
             [
              0,
              "#0d0887"
             ],
             [
              0.1111111111111111,
              "#46039f"
             ],
             [
              0.2222222222222222,
              "#7201a8"
             ],
             [
              0.3333333333333333,
              "#9c179e"
             ],
             [
              0.4444444444444444,
              "#bd3786"
             ],
             [
              0.5555555555555556,
              "#d8576b"
             ],
             [
              0.6666666666666666,
              "#ed7953"
             ],
             [
              0.7777777777777778,
              "#fb9f3a"
             ],
             [
              0.8888888888888888,
              "#fdca26"
             ],
             [
              1,
              "#f0f921"
             ]
            ],
            "type": "histogram2d"
           }
          ],
          "histogram2dcontour": [
           {
            "colorbar": {
             "outlinewidth": 0,
             "ticks": ""
            },
            "colorscale": [
             [
              0,
              "#0d0887"
             ],
             [
              0.1111111111111111,
              "#46039f"
             ],
             [
              0.2222222222222222,
              "#7201a8"
             ],
             [
              0.3333333333333333,
              "#9c179e"
             ],
             [
              0.4444444444444444,
              "#bd3786"
             ],
             [
              0.5555555555555556,
              "#d8576b"
             ],
             [
              0.6666666666666666,
              "#ed7953"
             ],
             [
              0.7777777777777778,
              "#fb9f3a"
             ],
             [
              0.8888888888888888,
              "#fdca26"
             ],
             [
              1,
              "#f0f921"
             ]
            ],
            "type": "histogram2dcontour"
           }
          ],
          "mesh3d": [
           {
            "colorbar": {
             "outlinewidth": 0,
             "ticks": ""
            },
            "type": "mesh3d"
           }
          ],
          "parcoords": [
           {
            "line": {
             "colorbar": {
              "outlinewidth": 0,
              "ticks": ""
             }
            },
            "type": "parcoords"
           }
          ],
          "pie": [
           {
            "automargin": true,
            "type": "pie"
           }
          ],
          "scatter": [
           {
            "fillpattern": {
             "fillmode": "overlay",
             "size": 10,
             "solidity": 0.2
            },
            "type": "scatter"
           }
          ],
          "scatter3d": [
           {
            "line": {
             "colorbar": {
              "outlinewidth": 0,
              "ticks": ""
             }
            },
            "marker": {
             "colorbar": {
              "outlinewidth": 0,
              "ticks": ""
             }
            },
            "type": "scatter3d"
           }
          ],
          "scattercarpet": [
           {
            "marker": {
             "colorbar": {
              "outlinewidth": 0,
              "ticks": ""
             }
            },
            "type": "scattercarpet"
           }
          ],
          "scattergeo": [
           {
            "marker": {
             "colorbar": {
              "outlinewidth": 0,
              "ticks": ""
             }
            },
            "type": "scattergeo"
           }
          ],
          "scattergl": [
           {
            "marker": {
             "colorbar": {
              "outlinewidth": 0,
              "ticks": ""
             }
            },
            "type": "scattergl"
           }
          ],
          "scattermap": [
           {
            "marker": {
             "colorbar": {
              "outlinewidth": 0,
              "ticks": ""
             }
            },
            "type": "scattermap"
           }
          ],
          "scattermapbox": [
           {
            "marker": {
             "colorbar": {
              "outlinewidth": 0,
              "ticks": ""
             }
            },
            "type": "scattermapbox"
           }
          ],
          "scatterpolar": [
           {
            "marker": {
             "colorbar": {
              "outlinewidth": 0,
              "ticks": ""
             }
            },
            "type": "scatterpolar"
           }
          ],
          "scatterpolargl": [
           {
            "marker": {
             "colorbar": {
              "outlinewidth": 0,
              "ticks": ""
             }
            },
            "type": "scatterpolargl"
           }
          ],
          "scatterternary": [
           {
            "marker": {
             "colorbar": {
              "outlinewidth": 0,
              "ticks": ""
             }
            },
            "type": "scatterternary"
           }
          ],
          "surface": [
           {
            "colorbar": {
             "outlinewidth": 0,
             "ticks": ""
            },
            "colorscale": [
             [
              0,
              "#0d0887"
             ],
             [
              0.1111111111111111,
              "#46039f"
             ],
             [
              0.2222222222222222,
              "#7201a8"
             ],
             [
              0.3333333333333333,
              "#9c179e"
             ],
             [
              0.4444444444444444,
              "#bd3786"
             ],
             [
              0.5555555555555556,
              "#d8576b"
             ],
             [
              0.6666666666666666,
              "#ed7953"
             ],
             [
              0.7777777777777778,
              "#fb9f3a"
             ],
             [
              0.8888888888888888,
              "#fdca26"
             ],
             [
              1,
              "#f0f921"
             ]
            ],
            "type": "surface"
           }
          ],
          "table": [
           {
            "cells": {
             "fill": {
              "color": "#EBF0F8"
             },
             "line": {
              "color": "white"
             }
            },
            "header": {
             "fill": {
              "color": "#C8D4E3"
             },
             "line": {
              "color": "white"
             }
            },
            "type": "table"
           }
          ]
         },
         "layout": {
          "annotationdefaults": {
           "arrowcolor": "#2a3f5f",
           "arrowhead": 0,
           "arrowwidth": 1
          },
          "autotypenumbers": "strict",
          "coloraxis": {
           "colorbar": {
            "outlinewidth": 0,
            "ticks": ""
           }
          },
          "colorscale": {
           "diverging": [
            [
             0,
             "#8e0152"
            ],
            [
             0.1,
             "#c51b7d"
            ],
            [
             0.2,
             "#de77ae"
            ],
            [
             0.3,
             "#f1b6da"
            ],
            [
             0.4,
             "#fde0ef"
            ],
            [
             0.5,
             "#f7f7f7"
            ],
            [
             0.6,
             "#e6f5d0"
            ],
            [
             0.7,
             "#b8e186"
            ],
            [
             0.8,
             "#7fbc41"
            ],
            [
             0.9,
             "#4d9221"
            ],
            [
             1,
             "#276419"
            ]
           ],
           "sequential": [
            [
             0,
             "#0d0887"
            ],
            [
             0.1111111111111111,
             "#46039f"
            ],
            [
             0.2222222222222222,
             "#7201a8"
            ],
            [
             0.3333333333333333,
             "#9c179e"
            ],
            [
             0.4444444444444444,
             "#bd3786"
            ],
            [
             0.5555555555555556,
             "#d8576b"
            ],
            [
             0.6666666666666666,
             "#ed7953"
            ],
            [
             0.7777777777777778,
             "#fb9f3a"
            ],
            [
             0.8888888888888888,
             "#fdca26"
            ],
            [
             1,
             "#f0f921"
            ]
           ],
           "sequentialminus": [
            [
             0,
             "#0d0887"
            ],
            [
             0.1111111111111111,
             "#46039f"
            ],
            [
             0.2222222222222222,
             "#7201a8"
            ],
            [
             0.3333333333333333,
             "#9c179e"
            ],
            [
             0.4444444444444444,
             "#bd3786"
            ],
            [
             0.5555555555555556,
             "#d8576b"
            ],
            [
             0.6666666666666666,
             "#ed7953"
            ],
            [
             0.7777777777777778,
             "#fb9f3a"
            ],
            [
             0.8888888888888888,
             "#fdca26"
            ],
            [
             1,
             "#f0f921"
            ]
           ]
          },
          "colorway": [
           "#636efa",
           "#EF553B",
           "#00cc96",
           "#ab63fa",
           "#FFA15A",
           "#19d3f3",
           "#FF6692",
           "#B6E880",
           "#FF97FF",
           "#FECB52"
          ],
          "font": {
           "color": "#2a3f5f"
          },
          "geo": {
           "bgcolor": "white",
           "lakecolor": "white",
           "landcolor": "#E5ECF6",
           "showlakes": true,
           "showland": true,
           "subunitcolor": "white"
          },
          "hoverlabel": {
           "align": "left"
          },
          "hovermode": "closest",
          "mapbox": {
           "style": "light"
          },
          "paper_bgcolor": "white",
          "plot_bgcolor": "#E5ECF6",
          "polar": {
           "angularaxis": {
            "gridcolor": "white",
            "linecolor": "white",
            "ticks": ""
           },
           "bgcolor": "#E5ECF6",
           "radialaxis": {
            "gridcolor": "white",
            "linecolor": "white",
            "ticks": ""
           }
          },
          "scene": {
           "xaxis": {
            "backgroundcolor": "#E5ECF6",
            "gridcolor": "white",
            "gridwidth": 2,
            "linecolor": "white",
            "showbackground": true,
            "ticks": "",
            "zerolinecolor": "white"
           },
           "yaxis": {
            "backgroundcolor": "#E5ECF6",
            "gridcolor": "white",
            "gridwidth": 2,
            "linecolor": "white",
            "showbackground": true,
            "ticks": "",
            "zerolinecolor": "white"
           },
           "zaxis": {
            "backgroundcolor": "#E5ECF6",
            "gridcolor": "white",
            "gridwidth": 2,
            "linecolor": "white",
            "showbackground": true,
            "ticks": "",
            "zerolinecolor": "white"
           }
          },
          "shapedefaults": {
           "line": {
            "color": "#2a3f5f"
           }
          },
          "ternary": {
           "aaxis": {
            "gridcolor": "white",
            "linecolor": "white",
            "ticks": ""
           },
           "baxis": {
            "gridcolor": "white",
            "linecolor": "white",
            "ticks": ""
           },
           "bgcolor": "#E5ECF6",
           "caxis": {
            "gridcolor": "white",
            "linecolor": "white",
            "ticks": ""
           }
          },
          "title": {
           "x": 0.05
          },
          "xaxis": {
           "automargin": true,
           "gridcolor": "white",
           "linecolor": "white",
           "ticks": "",
           "title": {
            "standoff": 15
           },
           "zerolinecolor": "white",
           "zerolinewidth": 2
          },
          "yaxis": {
           "automargin": true,
           "gridcolor": "white",
           "linecolor": "white",
           "ticks": "",
           "title": {
            "standoff": 15
           },
           "zerolinecolor": "white",
           "zerolinewidth": 2
          }
         }
        },
        "title": {
         "subtitle": {
          "text": "The big bar indicates usage of the language, the small bar indicates usage as Main Programming Language"
         },
         "text": "Bar Chart of Languages used in Top Repos"
        },
        "xaxis": {
         "anchor": "y",
         "domain": [
          0,
          1
         ],
         "title": {
          "text": "value"
         }
        },
        "yaxis": {
         "anchor": "x",
         "categoryarray": [
          "Other",
          "Kotlin",
          "PHP",
          "Ruby",
          "C#",
          "Rust",
          "C",
          "Bash",
          "Go",
          "CSS",
          "C++",
          "HTML",
          "Java",
          "TypeScript",
          "Python",
          "JavaScript"
         ],
         "categoryorder": "array",
         "domain": [
          0,
          1
         ],
         "title": {
          "text": "index"
         }
        }
       }
      }
     },
     "metadata": {},
     "output_type": "display_data"
    }
   ],
   "source": [
    "lang_data = pd.merge(\n",
    "                pd.merge(data.explode('Programming Languages used').value_counts('Programming Languages used'),\n",
    "                        data.explode('Programming Languages used').value_counts('Programming Languages used', normalize=True),\n",
    "                        left_index=True, right_index=True\n",
    "                    ),\n",
    "                pd.merge(data.explode('Main Programming Language').value_counts('Main Programming Language'),\n",
    "                     data.explode('Main Programming Language').value_counts('Main Programming Language', normalize=True),\n",
    "                     left_index=True, right_index=True\n",
    "                     ),\n",
    "                     left_index=True, right_index=True).reset_index()\n",
    "\n",
    "lang_data['index'] = lang_data.apply(lambda x: 'Other' if x['count_x'] < 30 else x['index'],axis=1)\n",
    "\n",
    "fig1 = px.bar(lang_data,\n",
    "       y='index',\n",
    "       x=['count_x', 'count_y'],\n",
    "       barmode='overlay',\n",
    "       color='index',\n",
    "       title='Bar Chart of Languages used in Top Repos',\n",
    "       subtitle='The big bar indicates usage of the language, the small bar indicates usage as Main Programming Language',\n",
    ")\n",
    "\n",
    "fig2 = px.pie(lang_data,\n",
    "              names='index',\n",
    "              values='count_x',\n",
    "              title='Pie Chart of Language usage',\n",
    "              \n",
    "              )\n",
    "fig1"
   ]
  },
  {
   "cell_type": "code",
   "execution_count": 81,
   "id": "277aca06",
   "metadata": {},
   "outputs": [
    {
     "data": {
      "application/vnd.plotly.v1+json": {
       "config": {
        "plotlyServerURL": "https://plot.ly"
       },
       "data": [
        {
         "domain": {
          "x": [
           0,
           1
          ],
          "y": [
           0,
           1
          ]
         },
         "hovertemplate": "index=%{label}<br>count_x=%{value}<extra></extra>",
         "labels": [
          "JavaScript",
          "Python",
          "TypeScript",
          "Java",
          "HTML",
          "C++",
          "CSS",
          "Go",
          "Bash",
          "C",
          "Rust",
          "C#",
          "Ruby",
          "Other",
          "Other",
          "Other",
          "Other",
          "Other",
          "Other",
          "Other",
          "Other",
          "Other",
          "Other",
          "Other",
          "Other",
          "Other",
          "Other",
          "Other",
          "Other",
          "Other",
          "Other",
          "Other"
         ],
         "legendgroup": "",
         "name": "",
         "showlegend": true,
         "textinfo": "percent+label",
         "textposition": "outside",
         "type": "pie",
         "values": {
          "bdata": "FQMEAv0A5ADbAL0AtACgAJ8AWABRADMAMgAhAB8AHQAXAA4ADQAMAAsACwAIAAYABgAEAAMAAgACAAIAAQABAA==",
          "dtype": "i2"
         }
        }
       ],
       "layout": {
        "legend": {
         "tracegroupgap": 0
        },
        "template": {
         "data": {
          "bar": [
           {
            "error_x": {
             "color": "#2a3f5f"
            },
            "error_y": {
             "color": "#2a3f5f"
            },
            "marker": {
             "line": {
              "color": "#E5ECF6",
              "width": 0.5
             },
             "pattern": {
              "fillmode": "overlay",
              "size": 10,
              "solidity": 0.2
             }
            },
            "type": "bar"
           }
          ],
          "barpolar": [
           {
            "marker": {
             "line": {
              "color": "#E5ECF6",
              "width": 0.5
             },
             "pattern": {
              "fillmode": "overlay",
              "size": 10,
              "solidity": 0.2
             }
            },
            "type": "barpolar"
           }
          ],
          "carpet": [
           {
            "aaxis": {
             "endlinecolor": "#2a3f5f",
             "gridcolor": "white",
             "linecolor": "white",
             "minorgridcolor": "white",
             "startlinecolor": "#2a3f5f"
            },
            "baxis": {
             "endlinecolor": "#2a3f5f",
             "gridcolor": "white",
             "linecolor": "white",
             "minorgridcolor": "white",
             "startlinecolor": "#2a3f5f"
            },
            "type": "carpet"
           }
          ],
          "choropleth": [
           {
            "colorbar": {
             "outlinewidth": 0,
             "ticks": ""
            },
            "type": "choropleth"
           }
          ],
          "contour": [
           {
            "colorbar": {
             "outlinewidth": 0,
             "ticks": ""
            },
            "colorscale": [
             [
              0,
              "#0d0887"
             ],
             [
              0.1111111111111111,
              "#46039f"
             ],
             [
              0.2222222222222222,
              "#7201a8"
             ],
             [
              0.3333333333333333,
              "#9c179e"
             ],
             [
              0.4444444444444444,
              "#bd3786"
             ],
             [
              0.5555555555555556,
              "#d8576b"
             ],
             [
              0.6666666666666666,
              "#ed7953"
             ],
             [
              0.7777777777777778,
              "#fb9f3a"
             ],
             [
              0.8888888888888888,
              "#fdca26"
             ],
             [
              1,
              "#f0f921"
             ]
            ],
            "type": "contour"
           }
          ],
          "contourcarpet": [
           {
            "colorbar": {
             "outlinewidth": 0,
             "ticks": ""
            },
            "type": "contourcarpet"
           }
          ],
          "heatmap": [
           {
            "colorbar": {
             "outlinewidth": 0,
             "ticks": ""
            },
            "colorscale": [
             [
              0,
              "#0d0887"
             ],
             [
              0.1111111111111111,
              "#46039f"
             ],
             [
              0.2222222222222222,
              "#7201a8"
             ],
             [
              0.3333333333333333,
              "#9c179e"
             ],
             [
              0.4444444444444444,
              "#bd3786"
             ],
             [
              0.5555555555555556,
              "#d8576b"
             ],
             [
              0.6666666666666666,
              "#ed7953"
             ],
             [
              0.7777777777777778,
              "#fb9f3a"
             ],
             [
              0.8888888888888888,
              "#fdca26"
             ],
             [
              1,
              "#f0f921"
             ]
            ],
            "type": "heatmap"
           }
          ],
          "histogram": [
           {
            "marker": {
             "pattern": {
              "fillmode": "overlay",
              "size": 10,
              "solidity": 0.2
             }
            },
            "type": "histogram"
           }
          ],
          "histogram2d": [
           {
            "colorbar": {
             "outlinewidth": 0,
             "ticks": ""
            },
            "colorscale": [
             [
              0,
              "#0d0887"
             ],
             [
              0.1111111111111111,
              "#46039f"
             ],
             [
              0.2222222222222222,
              "#7201a8"
             ],
             [
              0.3333333333333333,
              "#9c179e"
             ],
             [
              0.4444444444444444,
              "#bd3786"
             ],
             [
              0.5555555555555556,
              "#d8576b"
             ],
             [
              0.6666666666666666,
              "#ed7953"
             ],
             [
              0.7777777777777778,
              "#fb9f3a"
             ],
             [
              0.8888888888888888,
              "#fdca26"
             ],
             [
              1,
              "#f0f921"
             ]
            ],
            "type": "histogram2d"
           }
          ],
          "histogram2dcontour": [
           {
            "colorbar": {
             "outlinewidth": 0,
             "ticks": ""
            },
            "colorscale": [
             [
              0,
              "#0d0887"
             ],
             [
              0.1111111111111111,
              "#46039f"
             ],
             [
              0.2222222222222222,
              "#7201a8"
             ],
             [
              0.3333333333333333,
              "#9c179e"
             ],
             [
              0.4444444444444444,
              "#bd3786"
             ],
             [
              0.5555555555555556,
              "#d8576b"
             ],
             [
              0.6666666666666666,
              "#ed7953"
             ],
             [
              0.7777777777777778,
              "#fb9f3a"
             ],
             [
              0.8888888888888888,
              "#fdca26"
             ],
             [
              1,
              "#f0f921"
             ]
            ],
            "type": "histogram2dcontour"
           }
          ],
          "mesh3d": [
           {
            "colorbar": {
             "outlinewidth": 0,
             "ticks": ""
            },
            "type": "mesh3d"
           }
          ],
          "parcoords": [
           {
            "line": {
             "colorbar": {
              "outlinewidth": 0,
              "ticks": ""
             }
            },
            "type": "parcoords"
           }
          ],
          "pie": [
           {
            "automargin": true,
            "type": "pie"
           }
          ],
          "scatter": [
           {
            "fillpattern": {
             "fillmode": "overlay",
             "size": 10,
             "solidity": 0.2
            },
            "type": "scatter"
           }
          ],
          "scatter3d": [
           {
            "line": {
             "colorbar": {
              "outlinewidth": 0,
              "ticks": ""
             }
            },
            "marker": {
             "colorbar": {
              "outlinewidth": 0,
              "ticks": ""
             }
            },
            "type": "scatter3d"
           }
          ],
          "scattercarpet": [
           {
            "marker": {
             "colorbar": {
              "outlinewidth": 0,
              "ticks": ""
             }
            },
            "type": "scattercarpet"
           }
          ],
          "scattergeo": [
           {
            "marker": {
             "colorbar": {
              "outlinewidth": 0,
              "ticks": ""
             }
            },
            "type": "scattergeo"
           }
          ],
          "scattergl": [
           {
            "marker": {
             "colorbar": {
              "outlinewidth": 0,
              "ticks": ""
             }
            },
            "type": "scattergl"
           }
          ],
          "scattermap": [
           {
            "marker": {
             "colorbar": {
              "outlinewidth": 0,
              "ticks": ""
             }
            },
            "type": "scattermap"
           }
          ],
          "scattermapbox": [
           {
            "marker": {
             "colorbar": {
              "outlinewidth": 0,
              "ticks": ""
             }
            },
            "type": "scattermapbox"
           }
          ],
          "scatterpolar": [
           {
            "marker": {
             "colorbar": {
              "outlinewidth": 0,
              "ticks": ""
             }
            },
            "type": "scatterpolar"
           }
          ],
          "scatterpolargl": [
           {
            "marker": {
             "colorbar": {
              "outlinewidth": 0,
              "ticks": ""
             }
            },
            "type": "scatterpolargl"
           }
          ],
          "scatterternary": [
           {
            "marker": {
             "colorbar": {
              "outlinewidth": 0,
              "ticks": ""
             }
            },
            "type": "scatterternary"
           }
          ],
          "surface": [
           {
            "colorbar": {
             "outlinewidth": 0,
             "ticks": ""
            },
            "colorscale": [
             [
              0,
              "#0d0887"
             ],
             [
              0.1111111111111111,
              "#46039f"
             ],
             [
              0.2222222222222222,
              "#7201a8"
             ],
             [
              0.3333333333333333,
              "#9c179e"
             ],
             [
              0.4444444444444444,
              "#bd3786"
             ],
             [
              0.5555555555555556,
              "#d8576b"
             ],
             [
              0.6666666666666666,
              "#ed7953"
             ],
             [
              0.7777777777777778,
              "#fb9f3a"
             ],
             [
              0.8888888888888888,
              "#fdca26"
             ],
             [
              1,
              "#f0f921"
             ]
            ],
            "type": "surface"
           }
          ],
          "table": [
           {
            "cells": {
             "fill": {
              "color": "#EBF0F8"
             },
             "line": {
              "color": "white"
             }
            },
            "header": {
             "fill": {
              "color": "#C8D4E3"
             },
             "line": {
              "color": "white"
             }
            },
            "type": "table"
           }
          ]
         },
         "layout": {
          "annotationdefaults": {
           "arrowcolor": "#2a3f5f",
           "arrowhead": 0,
           "arrowwidth": 1
          },
          "autotypenumbers": "strict",
          "coloraxis": {
           "colorbar": {
            "outlinewidth": 0,
            "ticks": ""
           }
          },
          "colorscale": {
           "diverging": [
            [
             0,
             "#8e0152"
            ],
            [
             0.1,
             "#c51b7d"
            ],
            [
             0.2,
             "#de77ae"
            ],
            [
             0.3,
             "#f1b6da"
            ],
            [
             0.4,
             "#fde0ef"
            ],
            [
             0.5,
             "#f7f7f7"
            ],
            [
             0.6,
             "#e6f5d0"
            ],
            [
             0.7,
             "#b8e186"
            ],
            [
             0.8,
             "#7fbc41"
            ],
            [
             0.9,
             "#4d9221"
            ],
            [
             1,
             "#276419"
            ]
           ],
           "sequential": [
            [
             0,
             "#0d0887"
            ],
            [
             0.1111111111111111,
             "#46039f"
            ],
            [
             0.2222222222222222,
             "#7201a8"
            ],
            [
             0.3333333333333333,
             "#9c179e"
            ],
            [
             0.4444444444444444,
             "#bd3786"
            ],
            [
             0.5555555555555556,
             "#d8576b"
            ],
            [
             0.6666666666666666,
             "#ed7953"
            ],
            [
             0.7777777777777778,
             "#fb9f3a"
            ],
            [
             0.8888888888888888,
             "#fdca26"
            ],
            [
             1,
             "#f0f921"
            ]
           ],
           "sequentialminus": [
            [
             0,
             "#0d0887"
            ],
            [
             0.1111111111111111,
             "#46039f"
            ],
            [
             0.2222222222222222,
             "#7201a8"
            ],
            [
             0.3333333333333333,
             "#9c179e"
            ],
            [
             0.4444444444444444,
             "#bd3786"
            ],
            [
             0.5555555555555556,
             "#d8576b"
            ],
            [
             0.6666666666666666,
             "#ed7953"
            ],
            [
             0.7777777777777778,
             "#fb9f3a"
            ],
            [
             0.8888888888888888,
             "#fdca26"
            ],
            [
             1,
             "#f0f921"
            ]
           ]
          },
          "colorway": [
           "#636efa",
           "#EF553B",
           "#00cc96",
           "#ab63fa",
           "#FFA15A",
           "#19d3f3",
           "#FF6692",
           "#B6E880",
           "#FF97FF",
           "#FECB52"
          ],
          "font": {
           "color": "#2a3f5f"
          },
          "geo": {
           "bgcolor": "white",
           "lakecolor": "white",
           "landcolor": "#E5ECF6",
           "showlakes": true,
           "showland": true,
           "subunitcolor": "white"
          },
          "hoverlabel": {
           "align": "left"
          },
          "hovermode": "closest",
          "mapbox": {
           "style": "light"
          },
          "paper_bgcolor": "white",
          "plot_bgcolor": "#E5ECF6",
          "polar": {
           "angularaxis": {
            "gridcolor": "white",
            "linecolor": "white",
            "ticks": ""
           },
           "bgcolor": "#E5ECF6",
           "radialaxis": {
            "gridcolor": "white",
            "linecolor": "white",
            "ticks": ""
           }
          },
          "scene": {
           "xaxis": {
            "backgroundcolor": "#E5ECF6",
            "gridcolor": "white",
            "gridwidth": 2,
            "linecolor": "white",
            "showbackground": true,
            "ticks": "",
            "zerolinecolor": "white"
           },
           "yaxis": {
            "backgroundcolor": "#E5ECF6",
            "gridcolor": "white",
            "gridwidth": 2,
            "linecolor": "white",
            "showbackground": true,
            "ticks": "",
            "zerolinecolor": "white"
           },
           "zaxis": {
            "backgroundcolor": "#E5ECF6",
            "gridcolor": "white",
            "gridwidth": 2,
            "linecolor": "white",
            "showbackground": true,
            "ticks": "",
            "zerolinecolor": "white"
           }
          },
          "shapedefaults": {
           "line": {
            "color": "#2a3f5f"
           }
          },
          "ternary": {
           "aaxis": {
            "gridcolor": "white",
            "linecolor": "white",
            "ticks": ""
           },
           "baxis": {
            "gridcolor": "white",
            "linecolor": "white",
            "ticks": ""
           },
           "bgcolor": "#E5ECF6",
           "caxis": {
            "gridcolor": "white",
            "linecolor": "white",
            "ticks": ""
           }
          },
          "title": {
           "x": 0.05
          },
          "xaxis": {
           "automargin": true,
           "gridcolor": "white",
           "linecolor": "white",
           "ticks": "",
           "title": {
            "standoff": 15
           },
           "zerolinecolor": "white",
           "zerolinewidth": 2
          },
          "yaxis": {
           "automargin": true,
           "gridcolor": "white",
           "linecolor": "white",
           "ticks": "",
           "title": {
            "standoff": 15
           },
           "zerolinecolor": "white",
           "zerolinewidth": 2
          }
         }
        },
        "title": {
         "text": "Pie Chart of Language usage"
        }
       }
      }
     },
     "metadata": {},
     "output_type": "display_data"
    }
   ],
   "source": [
    "fig2.update_traces(textposition='outside', \n",
    "                 textinfo='percent+label')\n",
    "fig2"
   ]
  },
  {
   "cell_type": "markdown",
   "id": "135e8f32",
   "metadata": {},
   "source": [
    "#### JavaScript's Unshakable Throne\n",
    "With 28% of top repositories, JavaScript remains king. The web boom (React, Vue, Node.js) made it unavoidable. Even as critics called it messy, its flexibility won out.\n",
    "\n",
    "#### Python's Silent Coup\n",
    "Machine learning propelled Python from scripting language to powerhouse. Libraries like TensorFlow (Google) and PyTorch (Facebook) turned Python into AI's lingua franca.\n",
    "\n",
    "### The Corporate Challengers\n",
    "\n",
    "TypeScript (Microsoft): Brought structure to JavaScript\n",
    "\n",
    "Go (Google): Became the cloud's favorite language\n",
    "\n",
    "Rust (Mozilla): Promised safety without sacrifice\n",
    "\n",
    "### The Fallen\n",
    "Remember Perl? Ruby? Their decline in our dataset mirrors industry trends—a reminder that no language stays on top forever."
   ]
  },
  {
   "cell_type": "markdown",
   "id": "de0c3fd4",
   "metadata": {},
   "source": [
    "### Stars vs. Forks: The Two Faces of Success\n",
    "Not all popularity is equal. Our graphs reveal fascinating divides:"
   ]
  },
  {
   "cell_type": "code",
   "execution_count": 100,
   "id": "ec4d3aed",
   "metadata": {},
   "outputs": [
    {
     "data": {
      "application/vnd.plotly.v1+json": {
       "config": {
        "plotlyServerURL": "https://plot.ly"
       },
       "data": [
        {
         "hovertemplate": "stars=%{x}<br>forks=%{y}<extra></extra>",
         "legendgroup": "",
         "marker": {
          "color": "#636efa",
          "symbol": "circle"
         },
         "mode": "markers",
         "name": "",
         "showlegend": false,
         "type": "scattergl",
         "x": {
          "bdata": "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",
          "dtype": "i4"
         },
         "xaxis": "x",
         "y": {
          "bdata": "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",
          "dtype": "i4"
         },
         "yaxis": "y"
        }
       ],
       "layout": {
        "legend": {
         "tracegroupgap": 0
        },
        "margin": {
         "t": 60
        },
        "showlegend": false,
        "template": {
         "data": {
          "bar": [
           {
            "error_x": {
             "color": "#2a3f5f"
            },
            "error_y": {
             "color": "#2a3f5f"
            },
            "marker": {
             "line": {
              "color": "#E5ECF6",
              "width": 0.5
             },
             "pattern": {
              "fillmode": "overlay",
              "size": 10,
              "solidity": 0.2
             }
            },
            "type": "bar"
           }
          ],
          "barpolar": [
           {
            "marker": {
             "line": {
              "color": "#E5ECF6",
              "width": 0.5
             },
             "pattern": {
              "fillmode": "overlay",
              "size": 10,
              "solidity": 0.2
             }
            },
            "type": "barpolar"
           }
          ],
          "carpet": [
           {
            "aaxis": {
             "endlinecolor": "#2a3f5f",
             "gridcolor": "white",
             "linecolor": "white",
             "minorgridcolor": "white",
             "startlinecolor": "#2a3f5f"
            },
            "baxis": {
             "endlinecolor": "#2a3f5f",
             "gridcolor": "white",
             "linecolor": "white",
             "minorgridcolor": "white",
             "startlinecolor": "#2a3f5f"
            },
            "type": "carpet"
           }
          ],
          "choropleth": [
           {
            "colorbar": {
             "outlinewidth": 0,
             "ticks": ""
            },
            "type": "choropleth"
           }
          ],
          "contour": [
           {
            "colorbar": {
             "outlinewidth": 0,
             "ticks": ""
            },
            "colorscale": [
             [
              0,
              "#0d0887"
             ],
             [
              0.1111111111111111,
              "#46039f"
             ],
             [
              0.2222222222222222,
              "#7201a8"
             ],
             [
              0.3333333333333333,
              "#9c179e"
             ],
             [
              0.4444444444444444,
              "#bd3786"
             ],
             [
              0.5555555555555556,
              "#d8576b"
             ],
             [
              0.6666666666666666,
              "#ed7953"
             ],
             [
              0.7777777777777778,
              "#fb9f3a"
             ],
             [
              0.8888888888888888,
              "#fdca26"
             ],
             [
              1,
              "#f0f921"
             ]
            ],
            "type": "contour"
           }
          ],
          "contourcarpet": [
           {
            "colorbar": {
             "outlinewidth": 0,
             "ticks": ""
            },
            "type": "contourcarpet"
           }
          ],
          "heatmap": [
           {
            "colorbar": {
             "outlinewidth": 0,
             "ticks": ""
            },
            "colorscale": [
             [
              0,
              "#0d0887"
             ],
             [
              0.1111111111111111,
              "#46039f"
             ],
             [
              0.2222222222222222,
              "#7201a8"
             ],
             [
              0.3333333333333333,
              "#9c179e"
             ],
             [
              0.4444444444444444,
              "#bd3786"
             ],
             [
              0.5555555555555556,
              "#d8576b"
             ],
             [
              0.6666666666666666,
              "#ed7953"
             ],
             [
              0.7777777777777778,
              "#fb9f3a"
             ],
             [
              0.8888888888888888,
              "#fdca26"
             ],
             [
              1,
              "#f0f921"
             ]
            ],
            "type": "heatmap"
           }
          ],
          "histogram": [
           {
            "marker": {
             "pattern": {
              "fillmode": "overlay",
              "size": 10,
              "solidity": 0.2
             }
            },
            "type": "histogram"
           }
          ],
          "histogram2d": [
           {
            "colorbar": {
             "outlinewidth": 0,
             "ticks": ""
            },
            "colorscale": [
             [
              0,
              "#0d0887"
             ],
             [
              0.1111111111111111,
              "#46039f"
             ],
             [
              0.2222222222222222,
              "#7201a8"
             ],
             [
              0.3333333333333333,
              "#9c179e"
             ],
             [
              0.4444444444444444,
              "#bd3786"
             ],
             [
              0.5555555555555556,
              "#d8576b"
             ],
             [
              0.6666666666666666,
              "#ed7953"
             ],
             [
              0.7777777777777778,
              "#fb9f3a"
             ],
             [
              0.8888888888888888,
              "#fdca26"
             ],
             [
              1,
              "#f0f921"
             ]
            ],
            "type": "histogram2d"
           }
          ],
          "histogram2dcontour": [
           {
            "colorbar": {
             "outlinewidth": 0,
             "ticks": ""
            },
            "colorscale": [
             [
              0,
              "#0d0887"
             ],
             [
              0.1111111111111111,
              "#46039f"
             ],
             [
              0.2222222222222222,
              "#7201a8"
             ],
             [
              0.3333333333333333,
              "#9c179e"
             ],
             [
              0.4444444444444444,
              "#bd3786"
             ],
             [
              0.5555555555555556,
              "#d8576b"
             ],
             [
              0.6666666666666666,
              "#ed7953"
             ],
             [
              0.7777777777777778,
              "#fb9f3a"
             ],
             [
              0.8888888888888888,
              "#fdca26"
             ],
             [
              1,
              "#f0f921"
             ]
            ],
            "type": "histogram2dcontour"
           }
          ],
          "mesh3d": [
           {
            "colorbar": {
             "outlinewidth": 0,
             "ticks": ""
            },
            "type": "mesh3d"
           }
          ],
          "parcoords": [
           {
            "line": {
             "colorbar": {
              "outlinewidth": 0,
              "ticks": ""
             }
            },
            "type": "parcoords"
           }
          ],
          "pie": [
           {
            "automargin": true,
            "type": "pie"
           }
          ],
          "scatter": [
           {
            "fillpattern": {
             "fillmode": "overlay",
             "size": 10,
             "solidity": 0.2
            },
            "type": "scatter"
           }
          ],
          "scatter3d": [
           {
            "line": {
             "colorbar": {
              "outlinewidth": 0,
              "ticks": ""
             }
            },
            "marker": {
             "colorbar": {
              "outlinewidth": 0,
              "ticks": ""
             }
            },
            "type": "scatter3d"
           }
          ],
          "scattercarpet": [
           {
            "marker": {
             "colorbar": {
              "outlinewidth": 0,
              "ticks": ""
             }
            },
            "type": "scattercarpet"
           }
          ],
          "scattergeo": [
           {
            "marker": {
             "colorbar": {
              "outlinewidth": 0,
              "ticks": ""
             }
            },
            "type": "scattergeo"
           }
          ],
          "scattergl": [
           {
            "marker": {
             "colorbar": {
              "outlinewidth": 0,
              "ticks": ""
             }
            },
            "type": "scattergl"
           }
          ],
          "scattermap": [
           {
            "marker": {
             "colorbar": {
              "outlinewidth": 0,
              "ticks": ""
             }
            },
            "type": "scattermap"
           }
          ],
          "scattermapbox": [
           {
            "marker": {
             "colorbar": {
              "outlinewidth": 0,
              "ticks": ""
             }
            },
            "type": "scattermapbox"
           }
          ],
          "scatterpolar": [
           {
            "marker": {
             "colorbar": {
              "outlinewidth": 0,
              "ticks": ""
             }
            },
            "type": "scatterpolar"
           }
          ],
          "scatterpolargl": [
           {
            "marker": {
             "colorbar": {
              "outlinewidth": 0,
              "ticks": ""
             }
            },
            "type": "scatterpolargl"
           }
          ],
          "scatterternary": [
           {
            "marker": {
             "colorbar": {
              "outlinewidth": 0,
              "ticks": ""
             }
            },
            "type": "scatterternary"
           }
          ],
          "surface": [
           {
            "colorbar": {
             "outlinewidth": 0,
             "ticks": ""
            },
            "colorscale": [
             [
              0,
              "#0d0887"
             ],
             [
              0.1111111111111111,
              "#46039f"
             ],
             [
              0.2222222222222222,
              "#7201a8"
             ],
             [
              0.3333333333333333,
              "#9c179e"
             ],
             [
              0.4444444444444444,
              "#bd3786"
             ],
             [
              0.5555555555555556,
              "#d8576b"
             ],
             [
              0.6666666666666666,
              "#ed7953"
             ],
             [
              0.7777777777777778,
              "#fb9f3a"
             ],
             [
              0.8888888888888888,
              "#fdca26"
             ],
             [
              1,
              "#f0f921"
             ]
            ],
            "type": "surface"
           }
          ],
          "table": [
           {
            "cells": {
             "fill": {
              "color": "#EBF0F8"
             },
             "line": {
              "color": "white"
             }
            },
            "header": {
             "fill": {
              "color": "#C8D4E3"
             },
             "line": {
              "color": "white"
             }
            },
            "type": "table"
           }
          ]
         },
         "layout": {
          "annotationdefaults": {
           "arrowcolor": "#2a3f5f",
           "arrowhead": 0,
           "arrowwidth": 1
          },
          "autotypenumbers": "strict",
          "coloraxis": {
           "colorbar": {
            "outlinewidth": 0,
            "ticks": ""
           }
          },
          "colorscale": {
           "diverging": [
            [
             0,
             "#8e0152"
            ],
            [
             0.1,
             "#c51b7d"
            ],
            [
             0.2,
             "#de77ae"
            ],
            [
             0.3,
             "#f1b6da"
            ],
            [
             0.4,
             "#fde0ef"
            ],
            [
             0.5,
             "#f7f7f7"
            ],
            [
             0.6,
             "#e6f5d0"
            ],
            [
             0.7,
             "#b8e186"
            ],
            [
             0.8,
             "#7fbc41"
            ],
            [
             0.9,
             "#4d9221"
            ],
            [
             1,
             "#276419"
            ]
           ],
           "sequential": [
            [
             0,
             "#0d0887"
            ],
            [
             0.1111111111111111,
             "#46039f"
            ],
            [
             0.2222222222222222,
             "#7201a8"
            ],
            [
             0.3333333333333333,
             "#9c179e"
            ],
            [
             0.4444444444444444,
             "#bd3786"
            ],
            [
             0.5555555555555556,
             "#d8576b"
            ],
            [
             0.6666666666666666,
             "#ed7953"
            ],
            [
             0.7777777777777778,
             "#fb9f3a"
            ],
            [
             0.8888888888888888,
             "#fdca26"
            ],
            [
             1,
             "#f0f921"
            ]
           ],
           "sequentialminus": [
            [
             0,
             "#0d0887"
            ],
            [
             0.1111111111111111,
             "#46039f"
            ],
            [
             0.2222222222222222,
             "#7201a8"
            ],
            [
             0.3333333333333333,
             "#9c179e"
            ],
            [
             0.4444444444444444,
             "#bd3786"
            ],
            [
             0.5555555555555556,
             "#d8576b"
            ],
            [
             0.6666666666666666,
             "#ed7953"
            ],
            [
             0.7777777777777778,
             "#fb9f3a"
            ],
            [
             0.8888888888888888,
             "#fdca26"
            ],
            [
             1,
             "#f0f921"
            ]
           ]
          },
          "colorway": [
           "#636efa",
           "#EF553B",
           "#00cc96",
           "#ab63fa",
           "#FFA15A",
           "#19d3f3",
           "#FF6692",
           "#B6E880",
           "#FF97FF",
           "#FECB52"
          ],
          "font": {
           "color": "#2a3f5f"
          },
          "geo": {
           "bgcolor": "white",
           "lakecolor": "white",
           "landcolor": "#E5ECF6",
           "showlakes": true,
           "showland": true,
           "subunitcolor": "white"
          },
          "hoverlabel": {
           "align": "left"
          },
          "hovermode": "closest",
          "mapbox": {
           "style": "light"
          },
          "paper_bgcolor": "white",
          "plot_bgcolor": "#E5ECF6",
          "polar": {
           "angularaxis": {
            "gridcolor": "white",
            "linecolor": "white",
            "ticks": ""
           },
           "bgcolor": "#E5ECF6",
           "radialaxis": {
            "gridcolor": "white",
            "linecolor": "white",
            "ticks": ""
           }
          },
          "scene": {
           "xaxis": {
            "backgroundcolor": "#E5ECF6",
            "gridcolor": "white",
            "gridwidth": 2,
            "linecolor": "white",
            "showbackground": true,
            "ticks": "",
            "zerolinecolor": "white"
           },
           "yaxis": {
            "backgroundcolor": "#E5ECF6",
            "gridcolor": "white",
            "gridwidth": 2,
            "linecolor": "white",
            "showbackground": true,
            "ticks": "",
            "zerolinecolor": "white"
           },
           "zaxis": {
            "backgroundcolor": "#E5ECF6",
            "gridcolor": "white",
            "gridwidth": 2,
            "linecolor": "white",
            "showbackground": true,
            "ticks": "",
            "zerolinecolor": "white"
           }
          },
          "shapedefaults": {
           "line": {
            "color": "#2a3f5f"
           }
          },
          "ternary": {
           "aaxis": {
            "gridcolor": "white",
            "linecolor": "white",
            "ticks": ""
           },
           "baxis": {
            "gridcolor": "white",
            "linecolor": "white",
            "ticks": ""
           },
           "bgcolor": "#E5ECF6",
           "caxis": {
            "gridcolor": "white",
            "linecolor": "white",
            "ticks": ""
           }
          },
          "title": {
           "x": 0.05
          },
          "xaxis": {
           "automargin": true,
           "gridcolor": "white",
           "linecolor": "white",
           "ticks": "",
           "title": {
            "standoff": 15
           },
           "zerolinecolor": "white",
           "zerolinewidth": 2
          },
          "yaxis": {
           "automargin": true,
           "gridcolor": "white",
           "linecolor": "white",
           "ticks": "",
           "title": {
            "standoff": 15
           },
           "zerolinecolor": "white",
           "zerolinewidth": 2
          }
         }
        },
        "xaxis": {
         "anchor": "y",
         "domain": [
          0,
          1
         ],
         "title": {
          "text": "stars"
         }
        },
        "yaxis": {
         "anchor": "x",
         "domain": [
          0,
          1
         ],
         "title": {
          "text": "forks"
         }
        }
       }
      }
     },
     "metadata": {},
     "output_type": "display_data"
    }
   ],
   "source": [
    "px.scatter(data,\n",
    "           x='stars',\n",
    "           y='forks',\n",
    "          #  color='Main Programming Language'\n",
    "           ).update_layout(showlegend=False)"
   ]
  },
  {
   "cell_type": "code",
   "execution_count": null,
   "id": "3188211d",
   "metadata": {},
   "outputs": [
    {
     "data": {
      "application/vnd.plotly.v1+json": {
       "config": {
        "plotlyServerURL": "https://plot.ly"
       },
       "data": [
        {
         "alignmentgroup": "True",
         "hovertemplate": "variable=forks<br>Full Name=%{x}<br>value=%{y}<extra></extra>",
         "legendgroup": "forks",
         "marker": {
          "color": "#636efa",
          "pattern": {
           "shape": ""
          }
         },
         "name": "forks",
         "offsetgroup": "forks",
         "orientation": "v",
         "showlegend": true,
         "textposition": "auto",
         "type": "bar",
         "x": [
          "freeCodeCamp/freeCodeCamp",
          "codecrafters-io/build-your-own-x",
          "sindresorhus/awesome",
          "EbookFoundation/free-programming-books",
          "public-apis/public-apis",
          "kamranahmedse/developer-roadmap",
          "jwasham/coding-interview-university",
          "donnemartin/system-design-primer",
          "996icu/996.ICU",
          "vinta/awesome-python",
          "facebook/react",
          "awesome-selfhosted/awesome-selfhosted",
          "practical-tutorials/project-based-learning",
          "vuejs/vue",
          "TheAlgorithms/Python"
         ],
         "xaxis": "x",
         "y": {
          "bdata": "bJwAALiJAACFcQAAWPcAAKyLAAAYoQAAfTMAALvBAABnUgAAMGQAAC29AACTKQAA4nMAANWDAACEtgAA",
          "dtype": "i4"
         },
         "yaxis": "y"
        },
        {
         "alignmentgroup": "True",
         "hovertemplate": "variable=stars<br>Full Name=%{x}<br>value=%{y}<extra></extra>",
         "legendgroup": "stars",
         "marker": {
          "color": "#EF553B",
          "pattern": {
           "shape": ""
          }
         },
         "name": "stars",
         "offsetgroup": "stars",
         "orientation": "v",
         "showlegend": true,
         "textposition": "auto",
         "type": "bar",
         "x": [
          "freeCodeCamp/freeCodeCamp",
          "codecrafters-io/build-your-own-x",
          "sindresorhus/awesome",
          "EbookFoundation/free-programming-books",
          "public-apis/public-apis",
          "kamranahmedse/developer-roadmap",
          "jwasham/coding-interview-university",
          "donnemartin/system-design-primer",
          "996icu/996.ICU",
          "vinta/awesome-python",
          "facebook/react",
          "awesome-selfhosted/awesome-selfhosted",
          "practical-tutorials/project-based-learning",
          "vuejs/vue",
          "TheAlgorithms/Python"
         ],
         "xaxis": "x",
         "y": {
          "bdata": "xV8GABLHBQAMfQUAWHIFAM8rBQDf2gQAQtcEAA6PBADzJAQAwrQDAP2WAwDPeQMAKXcDAMwvAwBwDgMA",
          "dtype": "i4"
         },
         "yaxis": "y"
        }
       ],
       "layout": {
        "barmode": "group",
        "legend": {
         "title": {
          "text": "variable"
         },
         "tracegroupgap": 0
        },
        "margin": {
         "t": 60
        },
        "template": {
         "data": {
          "bar": [
           {
            "error_x": {
             "color": "#2a3f5f"
            },
            "error_y": {
             "color": "#2a3f5f"
            },
            "marker": {
             "line": {
              "color": "#E5ECF6",
              "width": 0.5
             },
             "pattern": {
              "fillmode": "overlay",
              "size": 10,
              "solidity": 0.2
             }
            },
            "type": "bar"
           }
          ],
          "barpolar": [
           {
            "marker": {
             "line": {
              "color": "#E5ECF6",
              "width": 0.5
             },
             "pattern": {
              "fillmode": "overlay",
              "size": 10,
              "solidity": 0.2
             }
            },
            "type": "barpolar"
           }
          ],
          "carpet": [
           {
            "aaxis": {
             "endlinecolor": "#2a3f5f",
             "gridcolor": "white",
             "linecolor": "white",
             "minorgridcolor": "white",
             "startlinecolor": "#2a3f5f"
            },
            "baxis": {
             "endlinecolor": "#2a3f5f",
             "gridcolor": "white",
             "linecolor": "white",
             "minorgridcolor": "white",
             "startlinecolor": "#2a3f5f"
            },
            "type": "carpet"
           }
          ],
          "choropleth": [
           {
            "colorbar": {
             "outlinewidth": 0,
             "ticks": ""
            },
            "type": "choropleth"
           }
          ],
          "contour": [
           {
            "colorbar": {
             "outlinewidth": 0,
             "ticks": ""
            },
            "colorscale": [
             [
              0,
              "#0d0887"
             ],
             [
              0.1111111111111111,
              "#46039f"
             ],
             [
              0.2222222222222222,
              "#7201a8"
             ],
             [
              0.3333333333333333,
              "#9c179e"
             ],
             [
              0.4444444444444444,
              "#bd3786"
             ],
             [
              0.5555555555555556,
              "#d8576b"
             ],
             [
              0.6666666666666666,
              "#ed7953"
             ],
             [
              0.7777777777777778,
              "#fb9f3a"
             ],
             [
              0.8888888888888888,
              "#fdca26"
             ],
             [
              1,
              "#f0f921"
             ]
            ],
            "type": "contour"
           }
          ],
          "contourcarpet": [
           {
            "colorbar": {
             "outlinewidth": 0,
             "ticks": ""
            },
            "type": "contourcarpet"
           }
          ],
          "heatmap": [
           {
            "colorbar": {
             "outlinewidth": 0,
             "ticks": ""
            },
            "colorscale": [
             [
              0,
              "#0d0887"
             ],
             [
              0.1111111111111111,
              "#46039f"
             ],
             [
              0.2222222222222222,
              "#7201a8"
             ],
             [
              0.3333333333333333,
              "#9c179e"
             ],
             [
              0.4444444444444444,
              "#bd3786"
             ],
             [
              0.5555555555555556,
              "#d8576b"
             ],
             [
              0.6666666666666666,
              "#ed7953"
             ],
             [
              0.7777777777777778,
              "#fb9f3a"
             ],
             [
              0.8888888888888888,
              "#fdca26"
             ],
             [
              1,
              "#f0f921"
             ]
            ],
            "type": "heatmap"
           }
          ],
          "histogram": [
           {
            "marker": {
             "pattern": {
              "fillmode": "overlay",
              "size": 10,
              "solidity": 0.2
             }
            },
            "type": "histogram"
           }
          ],
          "histogram2d": [
           {
            "colorbar": {
             "outlinewidth": 0,
             "ticks": ""
            },
            "colorscale": [
             [
              0,
              "#0d0887"
             ],
             [
              0.1111111111111111,
              "#46039f"
             ],
             [
              0.2222222222222222,
              "#7201a8"
             ],
             [
              0.3333333333333333,
              "#9c179e"
             ],
             [
              0.4444444444444444,
              "#bd3786"
             ],
             [
              0.5555555555555556,
              "#d8576b"
             ],
             [
              0.6666666666666666,
              "#ed7953"
             ],
             [
              0.7777777777777778,
              "#fb9f3a"
             ],
             [
              0.8888888888888888,
              "#fdca26"
             ],
             [
              1,
              "#f0f921"
             ]
            ],
            "type": "histogram2d"
           }
          ],
          "histogram2dcontour": [
           {
            "colorbar": {
             "outlinewidth": 0,
             "ticks": ""
            },
            "colorscale": [
             [
              0,
              "#0d0887"
             ],
             [
              0.1111111111111111,
              "#46039f"
             ],
             [
              0.2222222222222222,
              "#7201a8"
             ],
             [
              0.3333333333333333,
              "#9c179e"
             ],
             [
              0.4444444444444444,
              "#bd3786"
             ],
             [
              0.5555555555555556,
              "#d8576b"
             ],
             [
              0.6666666666666666,
              "#ed7953"
             ],
             [
              0.7777777777777778,
              "#fb9f3a"
             ],
             [
              0.8888888888888888,
              "#fdca26"
             ],
             [
              1,
              "#f0f921"
             ]
            ],
            "type": "histogram2dcontour"
           }
          ],
          "mesh3d": [
           {
            "colorbar": {
             "outlinewidth": 0,
             "ticks": ""
            },
            "type": "mesh3d"
           }
          ],
          "parcoords": [
           {
            "line": {
             "colorbar": {
              "outlinewidth": 0,
              "ticks": ""
             }
            },
            "type": "parcoords"
           }
          ],
          "pie": [
           {
            "automargin": true,
            "type": "pie"
           }
          ],
          "scatter": [
           {
            "fillpattern": {
             "fillmode": "overlay",
             "size": 10,
             "solidity": 0.2
            },
            "type": "scatter"
           }
          ],
          "scatter3d": [
           {
            "line": {
             "colorbar": {
              "outlinewidth": 0,
              "ticks": ""
             }
            },
            "marker": {
             "colorbar": {
              "outlinewidth": 0,
              "ticks": ""
             }
            },
            "type": "scatter3d"
           }
          ],
          "scattercarpet": [
           {
            "marker": {
             "colorbar": {
              "outlinewidth": 0,
              "ticks": ""
             }
            },
            "type": "scattercarpet"
           }
          ],
          "scattergeo": [
           {
            "marker": {
             "colorbar": {
              "outlinewidth": 0,
              "ticks": ""
             }
            },
            "type": "scattergeo"
           }
          ],
          "scattergl": [
           {
            "marker": {
             "colorbar": {
              "outlinewidth": 0,
              "ticks": ""
             }
            },
            "type": "scattergl"
           }
          ],
          "scattermap": [
           {
            "marker": {
             "colorbar": {
              "outlinewidth": 0,
              "ticks": ""
             }
            },
            "type": "scattermap"
           }
          ],
          "scattermapbox": [
           {
            "marker": {
             "colorbar": {
              "outlinewidth": 0,
              "ticks": ""
             }
            },
            "type": "scattermapbox"
           }
          ],
          "scatterpolar": [
           {
            "marker": {
             "colorbar": {
              "outlinewidth": 0,
              "ticks": ""
             }
            },
            "type": "scatterpolar"
           }
          ],
          "scatterpolargl": [
           {
            "marker": {
             "colorbar": {
              "outlinewidth": 0,
              "ticks": ""
             }
            },
            "type": "scatterpolargl"
           }
          ],
          "scatterternary": [
           {
            "marker": {
             "colorbar": {
              "outlinewidth": 0,
              "ticks": ""
             }
            },
            "type": "scatterternary"
           }
          ],
          "surface": [
           {
            "colorbar": {
             "outlinewidth": 0,
             "ticks": ""
            },
            "colorscale": [
             [
              0,
              "#0d0887"
             ],
             [
              0.1111111111111111,
              "#46039f"
             ],
             [
              0.2222222222222222,
              "#7201a8"
             ],
             [
              0.3333333333333333,
              "#9c179e"
             ],
             [
              0.4444444444444444,
              "#bd3786"
             ],
             [
              0.5555555555555556,
              "#d8576b"
             ],
             [
              0.6666666666666666,
              "#ed7953"
             ],
             [
              0.7777777777777778,
              "#fb9f3a"
             ],
             [
              0.8888888888888888,
              "#fdca26"
             ],
             [
              1,
              "#f0f921"
             ]
            ],
            "type": "surface"
           }
          ],
          "table": [
           {
            "cells": {
             "fill": {
              "color": "#EBF0F8"
             },
             "line": {
              "color": "white"
             }
            },
            "header": {
             "fill": {
              "color": "#C8D4E3"
             },
             "line": {
              "color": "white"
             }
            },
            "type": "table"
           }
          ]
         },
         "layout": {
          "annotationdefaults": {
           "arrowcolor": "#2a3f5f",
           "arrowhead": 0,
           "arrowwidth": 1
          },
          "autotypenumbers": "strict",
          "coloraxis": {
           "colorbar": {
            "outlinewidth": 0,
            "ticks": ""
           }
          },
          "colorscale": {
           "diverging": [
            [
             0,
             "#8e0152"
            ],
            [
             0.1,
             "#c51b7d"
            ],
            [
             0.2,
             "#de77ae"
            ],
            [
             0.3,
             "#f1b6da"
            ],
            [
             0.4,
             "#fde0ef"
            ],
            [
             0.5,
             "#f7f7f7"
            ],
            [
             0.6,
             "#e6f5d0"
            ],
            [
             0.7,
             "#b8e186"
            ],
            [
             0.8,
             "#7fbc41"
            ],
            [
             0.9,
             "#4d9221"
            ],
            [
             1,
             "#276419"
            ]
           ],
           "sequential": [
            [
             0,
             "#0d0887"
            ],
            [
             0.1111111111111111,
             "#46039f"
            ],
            [
             0.2222222222222222,
             "#7201a8"
            ],
            [
             0.3333333333333333,
             "#9c179e"
            ],
            [
             0.4444444444444444,
             "#bd3786"
            ],
            [
             0.5555555555555556,
             "#d8576b"
            ],
            [
             0.6666666666666666,
             "#ed7953"
            ],
            [
             0.7777777777777778,
             "#fb9f3a"
            ],
            [
             0.8888888888888888,
             "#fdca26"
            ],
            [
             1,
             "#f0f921"
            ]
           ],
           "sequentialminus": [
            [
             0,
             "#0d0887"
            ],
            [
             0.1111111111111111,
             "#46039f"
            ],
            [
             0.2222222222222222,
             "#7201a8"
            ],
            [
             0.3333333333333333,
             "#9c179e"
            ],
            [
             0.4444444444444444,
             "#bd3786"
            ],
            [
             0.5555555555555556,
             "#d8576b"
            ],
            [
             0.6666666666666666,
             "#ed7953"
            ],
            [
             0.7777777777777778,
             "#fb9f3a"
            ],
            [
             0.8888888888888888,
             "#fdca26"
            ],
            [
             1,
             "#f0f921"
            ]
           ]
          },
          "colorway": [
           "#636efa",
           "#EF553B",
           "#00cc96",
           "#ab63fa",
           "#FFA15A",
           "#19d3f3",
           "#FF6692",
           "#B6E880",
           "#FF97FF",
           "#FECB52"
          ],
          "font": {
           "color": "#2a3f5f"
          },
          "geo": {
           "bgcolor": "white",
           "lakecolor": "white",
           "landcolor": "#E5ECF6",
           "showlakes": true,
           "showland": true,
           "subunitcolor": "white"
          },
          "hoverlabel": {
           "align": "left"
          },
          "hovermode": "closest",
          "mapbox": {
           "style": "light"
          },
          "paper_bgcolor": "white",
          "plot_bgcolor": "#E5ECF6",
          "polar": {
           "angularaxis": {
            "gridcolor": "white",
            "linecolor": "white",
            "ticks": ""
           },
           "bgcolor": "#E5ECF6",
           "radialaxis": {
            "gridcolor": "white",
            "linecolor": "white",
            "ticks": ""
           }
          },
          "scene": {
           "xaxis": {
            "backgroundcolor": "#E5ECF6",
            "gridcolor": "white",
            "gridwidth": 2,
            "linecolor": "white",
            "showbackground": true,
            "ticks": "",
            "zerolinecolor": "white"
           },
           "yaxis": {
            "backgroundcolor": "#E5ECF6",
            "gridcolor": "white",
            "gridwidth": 2,
            "linecolor": "white",
            "showbackground": true,
            "ticks": "",
            "zerolinecolor": "white"
           },
           "zaxis": {
            "backgroundcolor": "#E5ECF6",
            "gridcolor": "white",
            "gridwidth": 2,
            "linecolor": "white",
            "showbackground": true,
            "ticks": "",
            "zerolinecolor": "white"
           }
          },
          "shapedefaults": {
           "line": {
            "color": "#2a3f5f"
           }
          },
          "ternary": {
           "aaxis": {
            "gridcolor": "white",
            "linecolor": "white",
            "ticks": ""
           },
           "baxis": {
            "gridcolor": "white",
            "linecolor": "white",
            "ticks": ""
           },
           "bgcolor": "#E5ECF6",
           "caxis": {
            "gridcolor": "white",
            "linecolor": "white",
            "ticks": ""
           }
          },
          "title": {
           "x": 0.05
          },
          "xaxis": {
           "automargin": true,
           "gridcolor": "white",
           "linecolor": "white",
           "ticks": "",
           "title": {
            "standoff": 15
           },
           "zerolinecolor": "white",
           "zerolinewidth": 2
          },
          "yaxis": {
           "automargin": true,
           "gridcolor": "white",
           "linecolor": "white",
           "ticks": "",
           "title": {
            "standoff": 15
           },
           "zerolinecolor": "white",
           "zerolinewidth": 2
          }
         }
        },
        "xaxis": {
         "anchor": "y",
         "domain": [
          0,
          1
         ],
         "title": {
          "text": "Full Name"
         }
        },
        "yaxis": {
         "anchor": "x",
         "domain": [
          0,
          1
         ],
         "title": {
          "text": "value"
         }
        }
       }
      }
     },
     "metadata": {},
     "output_type": "display_data"
    }
   ],
   "source": [
    "if 10 in data.index:\n",
    "       data = data.drop(10)\n",
    "if 15 in data.index:\n",
    "   data = data.drop(15)    \n",
    "px.bar(data[(data['forks'] >5e5) | (data['stars'] > 2e5)].sort_values('stars',ascending=False),\n",
    "       x='Name',\n",
    "       y=['forks', 'stars'],\n",
    "       barmode='group',\n",
    "       title='')"
   ]
  },
  {
   "cell_type": "markdown",
   "id": "38d7791c",
   "metadata": {},
   "source": [
    "### The Celebrities (High Stars, Low Forks)\n",
    "Documentation projects like \"Awesome\" get bookmarked but rarely modified. They're the coffee table books of open source—admired, not built upon.\n",
    "\n",
    "### The Workhorses (High Forks, Moderate Stars)\n",
    "Educational repos like \"freeCodeCamp\" get forked constantly as learners make personal copies. Their value is in replication, not originality.\n",
    "\n",
    "### The Unicorns (High Stars AND Forks)\n",
    "Projects like \"React\" and \"Vue\" sit in the upper-right quadrant—both admired and actively used. These rare projects define entire ecosystems."
   ]
  },
  {
   "cell_type": "code",
   "execution_count": null,
   "id": "5c405b55",
   "metadata": {},
   "outputs": [],
   "source": [
    "px.bar(data[(data['forks'])])"
   ]
  },
  {
   "cell_type": "markdown",
   "id": "c1428036",
   "metadata": {},
   "source": [
    "## Conclusion: What the Data Tells Us About Tomorrow\n",
    "Three insights emerge:\n",
    "\n",
    "Open source won\n",
    "It's no longer alternative—it's default. Even proprietary companies now embrace open core models.\n",
    "\n",
    "The rules have changed\n",
    "Individual maintainers struggle against corporate-backed projects with full-time teams.\n",
    "\n",
    "The next battle is sustainability\n",
    "As open source becomes infrastructure, questions about funding and maintenance grow louder.\n",
    "\n",
    "The story continues to unfold. One thing remains certain: GitHub's data will be there to document it. What chapter will we write next?\n",
    "\n"
   ]
  }
 ],
 "metadata": {
  "kernelspec": {
   "display_name": "CCDProyecto",
   "language": "python",
   "name": "python3"
  },
  "language_info": {
   "codemirror_mode": {
    "name": "ipython",
    "version": 3
   },
   "file_extension": ".py",
   "mimetype": "text/x-python",
   "name": "python",
   "nbconvert_exporter": "python",
   "pygments_lexer": "ipython3",
   "version": "3.12.3"
  }
 },
 "nbformat": 4,
 "nbformat_minor": 5
}
