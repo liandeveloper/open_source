{
 "cells": [
  {
   "cell_type": "markdown",
   "id": "780a64b2",
   "metadata": {},
   "source": [
    "# Repo Radar | FOSS Analytics"
   ]
  },
  {
   "cell_type": "code",
   "execution_count": 1,
   "id": "6d1a3d9b",
   "metadata": {},
   "outputs": [],
   "source": [
    "import pandas as pd\n",
    "import plotly as ply\n",
    "import plotly.subplots as plys\n",
    "import plotly.express as px\n",
    "from datetime import datetime\n",
    "from library import *"
   ]
  },
  {
   "cell_type": "code",
   "execution_count": 2,
   "id": "8d65e330",
   "metadata": {},
   "outputs": [],
   "source": [
    "data = pd.read_csv('repo_data_clean.csv', sep=';')\n",
    "data[['created_at', 'updated_at', 'pushed_at']] = data[['created_at', 'updated_at', 'pushed_at']].map(lambda x: datetime.strptime(x[:10], '%Y-%m-%d').year)\n",
    "data.iloc[:,-9:-3] = data.iloc[:,-9:-3].map(lambda x: x.split('//') if isinstance(x,str) else x)"
   ]
  },
  {
   "cell_type": "markdown",
   "id": "92f98802",
   "metadata": {},
   "source": [
    "## The industry standard\n",
    "\n",
    "GitHub has become the heart of open-source software (OSS) development, hosting millions of projects that power modern technology. But how has open source evolved on GitHub over the years? Let’s explore the trends, growth, and impact of OSS through data.\n",
    "\n",
    "### The Rise of Github\n",
    "\n",
    "GitHub was founded in 2008, and since then, it has grown exponentially:  \n",
    "- [**2010**](https://github.blog/news-insights/one-million-repositories/): ~1M repositories  \n",
    "- **2015**: ~20M repositories\n",
    "- [**2023**](https://octoverse.github.com/2023): **Over 420M repositories** (with ~28M public ones)"
   ]
  },
  {
   "cell_type": "markdown",
   "id": "05981dc6",
   "metadata": {},
   "source": [
    "## Open-source adoption has skyrocketed\n",
    "\n",
    "For our analysis we have scrapped the top 1000 open source repositories with the most stars and forks, obviously there is a lot of overlap in these areas and we ended up with a total of 1505 repositories to analyze."
   ]
  },
  {
   "cell_type": "code",
   "execution_count": 3,
   "id": "b4319d8e",
   "metadata": {},
   "outputs": [
    {
     "data": {
      "application/vnd.plotly.v1+json": {
       "config": {
        "plotlyServerURL": "https://plot.ly"
       },
       "data": [
        {
         "hovertemplate": "created_at=%{x}<br>count=%{y}<extra></extra>",
         "legendgroup": "",
         "marker": {
          "color": "#000001",
          "pattern": {
           "shape": ""
          }
         },
         "name": "",
         "orientation": "v",
         "showlegend": false,
         "textposition": "auto",
         "type": "bar",
         "x": {
          "bdata": "2gfbB9wH3QfeB98H4AfhB+IH4wfkB+UH5gfnB+gH6Qc=",
          "dtype": "i2"
         },
         "xaxis": "x",
         "y": {
          "bdata": "LgA7AEMAWwB8AIUAlwCBAH4AcgBwAGsASgBkADQABQA=",
          "dtype": "i2"
         },
         "yaxis": "y"
        }
       ],
       "layout": {
        "barmode": "relative",
        "legend": {
         "tracegroupgap": 0
        },
        "template": {
         "data": {
          "candlestick": [
           {
            "decreasing": {
             "line": {
              "color": "#000033"
             }
            },
            "increasing": {
             "line": {
              "color": "#000032"
             }
            },
            "type": "candlestick"
           }
          ],
          "contour": [
           {
            "colorscale": [
             [
              0,
              "#000011"
             ],
             [
              0.1111111111111111,
              "#000012"
             ],
             [
              0.2222222222222222,
              "#000013"
             ],
             [
              0.3333333333333333,
              "#000014"
             ],
             [
              0.4444444444444444,
              "#000015"
             ],
             [
              0.5555555555555556,
              "#000016"
             ],
             [
              0.6666666666666666,
              "#000017"
             ],
             [
              0.7777777777777778,
              "#000018"
             ],
             [
              0.8888888888888888,
              "#000019"
             ],
             [
              1,
              "#000020"
             ]
            ],
            "type": "contour"
           }
          ],
          "contourcarpet": [
           {
            "colorscale": [
             [
              0,
              "#000011"
             ],
             [
              0.1111111111111111,
              "#000012"
             ],
             [
              0.2222222222222222,
              "#000013"
             ],
             [
              0.3333333333333333,
              "#000014"
             ],
             [
              0.4444444444444444,
              "#000015"
             ],
             [
              0.5555555555555556,
              "#000016"
             ],
             [
              0.6666666666666666,
              "#000017"
             ],
             [
              0.7777777777777778,
              "#000018"
             ],
             [
              0.8888888888888888,
              "#000019"
             ],
             [
              1,
              "#000020"
             ]
            ],
            "type": "contourcarpet"
           }
          ],
          "heatmap": [
           {
            "colorscale": [
             [
              0,
              "#000011"
             ],
             [
              0.1111111111111111,
              "#000012"
             ],
             [
              0.2222222222222222,
              "#000013"
             ],
             [
              0.3333333333333333,
              "#000014"
             ],
             [
              0.4444444444444444,
              "#000015"
             ],
             [
              0.5555555555555556,
              "#000016"
             ],
             [
              0.6666666666666666,
              "#000017"
             ],
             [
              0.7777777777777778,
              "#000018"
             ],
             [
              0.8888888888888888,
              "#000019"
             ],
             [
              1,
              "#000020"
             ]
            ],
            "type": "heatmap"
           }
          ],
          "histogram2d": [
           {
            "colorscale": [
             [
              0,
              "#000011"
             ],
             [
              0.1111111111111111,
              "#000012"
             ],
             [
              0.2222222222222222,
              "#000013"
             ],
             [
              0.3333333333333333,
              "#000014"
             ],
             [
              0.4444444444444444,
              "#000015"
             ],
             [
              0.5555555555555556,
              "#000016"
             ],
             [
              0.6666666666666666,
              "#000017"
             ],
             [
              0.7777777777777778,
              "#000018"
             ],
             [
              0.8888888888888888,
              "#000019"
             ],
             [
              1,
              "#000020"
             ]
            ],
            "type": "histogram2d"
           }
          ],
          "icicle": [
           {
            "textfont": {
             "color": "white"
            },
            "type": "icicle"
           }
          ],
          "sankey": [
           {
            "textfont": {
             "color": "#000036"
            },
            "type": "sankey"
           }
          ],
          "scatter": [
           {
            "marker": {
             "line": {
              "width": 0
             }
            },
            "type": "scatter"
           }
          ],
          "table": [
           {
            "cells": {
             "fill": {
              "color": "#000038"
             },
             "font": {
              "color": "#000037"
             },
             "line": {
              "color": "#000039"
             }
            },
            "header": {
             "fill": {
              "color": "#000040"
             },
             "font": {
              "color": "#000036"
             },
             "line": {
              "color": "#000039"
             }
            },
            "type": "table"
           }
          ],
          "waterfall": [
           {
            "connector": {
             "line": {
              "color": "#000036",
              "width": 2
             }
            },
            "decreasing": {
             "marker": {
              "color": "#000033"
             }
            },
            "increasing": {
             "marker": {
              "color": "#000032"
             }
            },
            "totals": {
             "marker": {
              "color": "#000034"
             }
            },
            "type": "waterfall"
           }
          ]
         },
         "layout": {
          "coloraxis": {
           "colorscale": [
            [
             0,
             "#000011"
            ],
            [
             0.1111111111111111,
             "#000012"
            ],
            [
             0.2222222222222222,
             "#000013"
            ],
            [
             0.3333333333333333,
             "#000014"
            ],
            [
             0.4444444444444444,
             "#000015"
            ],
            [
             0.5555555555555556,
             "#000016"
            ],
            [
             0.6666666666666666,
             "#000017"
            ],
            [
             0.7777777777777778,
             "#000018"
            ],
            [
             0.8888888888888888,
             "#000019"
            ],
            [
             1,
             "#000020"
            ]
           ]
          },
          "colorscale": {
           "diverging": [
            [
             0,
             "#000021"
            ],
            [
             0.1,
             "#000022"
            ],
            [
             0.2,
             "#000023"
            ],
            [
             0.3,
             "#000024"
            ],
            [
             0.4,
             "#000025"
            ],
            [
             0.5,
             "#000026"
            ],
            [
             0.6,
             "#000027"
            ],
            [
             0.7,
             "#000028"
            ],
            [
             0.8,
             "#000029"
            ],
            [
             0.9,
             "#000030"
            ],
            [
             1,
             "#000031"
            ]
           ],
           "sequential": [
            [
             0,
             "#000011"
            ],
            [
             0.1111111111111111,
             "#000012"
            ],
            [
             0.2222222222222222,
             "#000013"
            ],
            [
             0.3333333333333333,
             "#000014"
            ],
            [
             0.4444444444444444,
             "#000015"
            ],
            [
             0.5555555555555556,
             "#000016"
            ],
            [
             0.6666666666666666,
             "#000017"
            ],
            [
             0.7777777777777778,
             "#000018"
            ],
            [
             0.8888888888888888,
             "#000019"
            ],
            [
             1,
             "#000020"
            ]
           ],
           "sequentialminus": [
            [
             0,
             "#000011"
            ],
            [
             0.1111111111111111,
             "#000012"
            ],
            [
             0.2222222222222222,
             "#000013"
            ],
            [
             0.3333333333333333,
             "#000014"
            ],
            [
             0.4444444444444444,
             "#000015"
            ],
            [
             0.5555555555555556,
             "#000016"
            ],
            [
             0.6666666666666666,
             "#000017"
            ],
            [
             0.7777777777777778,
             "#000018"
            ],
            [
             0.8888888888888888,
             "#000019"
            ],
            [
             1,
             "#000020"
            ]
           ]
          },
          "colorway": [
           "#000001",
           "#000002",
           "#000003",
           "#000004",
           "#000005",
           "#000006",
           "#000007",
           "#000008",
           "#000009",
           "#000010"
          ]
         }
        },
        "title": {
         "subtitle": {
          "text": "Heavy hitters are the 1505 repos with the most amount of stars and forks as of 2025"
         },
         "text": "Amount of heavy hitters in 2025 by date of creation"
        },
        "xaxis": {
         "anchor": "y",
         "domain": [
          0,
          1
         ],
         "title": {
          "text": "created_at"
         }
        },
        "yaxis": {
         "anchor": "x",
         "domain": [
          0,
          1
         ],
         "title": {
          "text": "count"
         }
        }
       }
      }
     },
     "metadata": {},
     "output_type": "display_data"
    }
   ],
   "source": [
    "date_data = data.value_counts('created_at').sort_index().reset_index()\n",
    "\n",
    "px.bar(date_data[(date_data['created_at'] >= 2010) & (date_data['created_at'] <=2025)],\n",
    "  x='created_at',\n",
    "  y='count',\n",
    "  title='Amount of heavy hitters in 2025 by date of creation',\n",
    "  subtitle='Heavy hitters are the 1505 repos with the most amount of stars and forks as of 2025'\n",
    ")"
   ]
  },
  {
   "cell_type": "markdown",
   "id": "0dd09377",
   "metadata": {},
   "source": [
    "### Notice the bump around 2016?\n",
    "2016 was a year of many changes for the open source community characterized by:\n",
    "- The requirement from many schools and universities to use GitHub for student projects in STEM fields.\n",
    "- A cultural shift in the developer world towards open source software.\n",
    "- The adoption of open source software from big tech companies like Microsoft, Google, Facebook, IBM. \n",
    "  - Companies realized that open-sourcing tools could drive adoption, attract talent, and improve software quality through community contributions.\n",
    "  - Projects like Kubernetes (Google, 2014) and React (Facebook, 2013) were gaining training on the octocat platform.\n",
    "\n",
    "This led to an inmense growth in open source project in this year making those repositories stand out in terms of stars and forks which are the metrics we chose to analyze."
   ]
  },
  {
   "cell_type": "markdown",
   "id": "192dff4c",
   "metadata": {},
   "source": [
    "### The Battle of Languages. What developers loved ... and what they hated"
   ]
  },
  {
   "cell_type": "code",
   "execution_count": null,
   "id": "636bf39b",
   "metadata": {},
   "outputs": [
    {
     "data": {
      "application/vnd.plotly.v1+json": {
       "config": {
        "plotlyServerURL": "https://plot.ly"
       },
       "data": [
        {
         "customdata": {
          "bdata": "AAAAAAAAAAAJbV+vGYm6PwAAAAAAAAAACW1frxmJuj8=",
          "dtype": "f8",
          "shape": "2, 2"
         },
         "hovertemplate": "<b>%{hovertext}</b><br><br>Language=%{x}<br>value=%{y}<br>Used %=%{customdata[0]:.2%}<br>As Main %=%{customdata[1]:.2%}<extra></extra>",
         "hovertext": [
          "TypeScript",
          "TypeScript"
         ],
         "legendgroup": "TypeScript",
         "marker": {
          "color": "#000001",
          "opacity": 0.5,
          "pattern": {
           "shape": ""
          }
         },
         "name": "TypeScript",
         "orientation": "v",
         "showlegend": true,
         "textposition": "auto",
         "texttemplate": "%{y}",
         "type": "bar",
         "x": [
          "TypeScript",
          "TypeScript"
         ],
         "xaxis": "x",
         "y": {
          "bdata": "AACcAA==",
          "dtype": "i2"
         },
         "yaxis": "y"
        },
        {
         "customdata": {
          "bdata": "AAAAAAAAAADgnprTpBelPwAAAAAAAAAA4J6a06QXpT8=",
          "dtype": "f8",
          "shape": "2, 2"
         },
         "hovertemplate": "<b>%{hovertext}</b><br><br>Language=%{x}<br>value=%{y}<br>Used %=%{customdata[0]:.2%}<br>As Main %=%{customdata[1]:.2%}<extra></extra>",
         "hovertext": [
          "HTML",
          "HTML"
         ],
         "legendgroup": "HTML",
         "marker": {
          "color": "#000002",
          "opacity": 0.5,
          "pattern": {
           "shape": ""
          }
         },
         "name": "HTML",
         "orientation": "v",
         "showlegend": true,
         "textposition": "auto",
         "texttemplate": "%{y}",
         "type": "bar",
         "x": [
          "HTML",
          "HTML"
         ],
         "xaxis": "x",
         "y": {
          "bdata": "AD4=",
          "dtype": "i1"
         },
         "yaxis": "y"
        },
        {
         "customdata": {
          "bdata": "AAAAAAAAAAB7ak6TXlSAPwAAAAAAAAAAe2pOk15UgD8=",
          "dtype": "f8",
          "shape": "2, 2"
         },
         "hovertemplate": "<b>%{hovertext}</b><br><br>Language=%{x}<br>value=%{y}<br>Used %=%{customdata[0]:.2%}<br>As Main %=%{customdata[1]:.2%}<extra></extra>",
         "hovertext": [
          "CSS",
          "CSS"
         ],
         "legendgroup": "CSS",
         "marker": {
          "color": "#000003",
          "opacity": 0.5,
          "pattern": {
           "shape": ""
          }
         },
         "name": "CSS",
         "orientation": "v",
         "showlegend": true,
         "textposition": "auto",
         "texttemplate": "%{y}",
         "type": "bar",
         "x": [
          "CSS",
          "CSS"
         ],
         "xaxis": "x",
         "y": {
          "bdata": "AAw=",
          "dtype": "i1"
         },
         "yaxis": "y"
        },
        {
         "customdata": {
          "bdata": "AAAAAAAAAACeP8q7sBHIPwAAAAAAAAAAnj/Ku7ARyD8=",
          "dtype": "f8",
          "shape": "2, 2"
         },
         "hovertemplate": "<b>%{hovertext}</b><br><br>Language=%{x}<br>value=%{y}<br>Used %=%{customdata[0]:.2%}<br>As Main %=%{customdata[1]:.2%}<extra></extra>",
         "hovertext": [
          "JavaScript",
          "JavaScript"
         ],
         "legendgroup": "JavaScript",
         "marker": {
          "color": "#000004",
          "opacity": 0.5,
          "pattern": {
           "shape": ""
          }
         },
         "name": "JavaScript",
         "orientation": "v",
         "showlegend": true,
         "textposition": "auto",
         "texttemplate": "%{y}",
         "type": "bar",
         "x": [
          "JavaScript",
          "JavaScript"
         ],
         "xaxis": "x",
         "y": {
          "bdata": "AAAbAQ==",
          "dtype": "i2"
         },
         "yaxis": "y"
        },
        {
         "customdata": {
          "bdata": "AAAAAAAAAAAKRHDs0ijQPwAAAAAAAAAACkRw7NIo0D8=",
          "dtype": "f8",
          "shape": "2, 2"
         },
         "hovertemplate": "<b>%{hovertext}</b><br><br>Language=%{x}<br>value=%{y}<br>Used %=%{customdata[0]:.2%}<br>As Main %=%{customdata[1]:.2%}<extra></extra>",
         "hovertext": [
          "Java",
          "Java"
         ],
         "legendgroup": "Java",
         "marker": {
          "color": "#000005",
          "opacity": 0.5,
          "pattern": {
           "shape": ""
          }
         },
         "name": "Java",
         "orientation": "v",
         "showlegend": true,
         "textposition": "auto",
         "texttemplate": "%{y}",
         "type": "bar",
         "x": [
          "Java",
          "Java"
         ],
         "xaxis": "x",
         "y": {
          "bdata": "AAB8AQ==",
          "dtype": "i2"
         },
         "yaxis": "y"
        },
        {
         "customdata": {
          "bdata": "AAAAAAAAAAA7h4XPvOqsPwAAAAAAAAAAO4eFz7zqrD8=",
          "dtype": "f8",
          "shape": "2, 2"
         },
         "hovertemplate": "<b>%{hovertext}</b><br><br>Language=%{x}<br>value=%{y}<br>Used %=%{customdata[0]:.2%}<br>As Main %=%{customdata[1]:.2%}<extra></extra>",
         "hovertext": [
          "Go",
          "Go"
         ],
         "legendgroup": "Go",
         "marker": {
          "color": "#000006",
          "opacity": 0.5,
          "pattern": {
           "shape": ""
          }
         },
         "name": "Go",
         "orientation": "v",
         "showlegend": true,
         "textposition": "auto",
         "texttemplate": "%{y}",
         "type": "bar",
         "x": [
          "Go",
          "Go"
         ],
         "xaxis": "x",
         "y": {
          "bdata": "AFU=",
          "dtype": "i1"
         },
         "yaxis": "y"
        },
        {
         "customdata": {
          "bdata": "AAAAAAAAAABhhirG04OpPwAAAAAAAAAAYYYqxtODqT8=",
          "dtype": "f8",
          "shape": "2, 2"
         },
         "hovertemplate": "<b>%{hovertext}</b><br><br>Language=%{x}<br>value=%{y}<br>Used %=%{customdata[0]:.2%}<br>As Main %=%{customdata[1]:.2%}<extra></extra>",
         "hovertext": [
          "C++",
          "C++"
         ],
         "legendgroup": "C++",
         "marker": {
          "color": "#000007",
          "opacity": 0.5,
          "pattern": {
           "shape": ""
          }
         },
         "name": "C++",
         "orientation": "v",
         "showlegend": true,
         "textposition": "auto",
         "texttemplate": "%{y}",
         "type": "bar",
         "x": [
          "C++",
          "C++"
         ],
         "xaxis": "x",
         "y": {
          "bdata": "AEs=",
          "dtype": "i1"
         },
         "yaxis": "y"
        },
        {
         "customdata": {
          "bdata": "AAAAAAAAAAAdWDrJgaXDPwAAAAAAAAAAHVg6yYGlwz8=",
          "dtype": "f8",
          "shape": "2, 2"
         },
         "hovertemplate": "<b>%{hovertext}</b><br><br>Language=%{x}<br>value=%{y}<br>Used %=%{customdata[0]:.2%}<br>As Main %=%{customdata[1]:.2%}<extra></extra>",
         "hovertext": [
          "Python",
          "Python"
         ],
         "legendgroup": "Python",
         "marker": {
          "color": "#000008",
          "opacity": 0.5,
          "pattern": {
           "shape": ""
          }
         },
         "name": "Python",
         "orientation": "v",
         "showlegend": true,
         "textposition": "auto",
         "texttemplate": "%{y}",
         "type": "bar",
         "x": [
          "Python",
          "Python"
         ],
         "xaxis": "x",
         "y": {
          "bdata": "AADnAA==",
          "dtype": "i2"
         },
         "yaxis": "y"
        },
        {
         "customdata": {
          "bdata": "AAAAAAAAAAC5n/XcjX54PwAAAAAAAAAAuZ/13I1+eD8=",
          "dtype": "f8",
          "shape": "2, 2"
         },
         "hovertemplate": "<b>%{hovertext}</b><br><br>Language=%{x}<br>value=%{y}<br>Used %=%{customdata[0]:.2%}<br>As Main %=%{customdata[1]:.2%}<extra></extra>",
         "hovertext": [
          "Swift",
          "Swift"
         ],
         "legendgroup": "Swift",
         "marker": {
          "color": "#000009",
          "opacity": 0.5,
          "pattern": {
           "shape": ""
          }
         },
         "name": "Swift",
         "orientation": "v",
         "showlegend": true,
         "textposition": "auto",
         "texttemplate": "%{y}",
         "type": "bar",
         "x": [
          "Swift",
          "Swift"
         ],
         "xaxis": "x",
         "y": {
          "bdata": "AAk=",
          "dtype": "i1"
         },
         "yaxis": "y"
        },
        {
         "customdata": {
          "bdata": "AAAAAAAAAACQ0TABGQ2DPwAAAAAAAAAAkNEwARkNgz8=",
          "dtype": "f8",
          "shape": "2, 2"
         },
         "hovertemplate": "<b>%{hovertext}</b><br><br>Language=%{x}<br>value=%{y}<br>Used %=%{customdata[0]:.2%}<br>As Main %=%{customdata[1]:.2%}<extra></extra>",
         "hovertext": [
          "Kotlin",
          "Kotlin"
         ],
         "legendgroup": "Kotlin",
         "marker": {
          "color": "#000010",
          "opacity": 0.5,
          "pattern": {
           "shape": ""
          }
         },
         "name": "Kotlin",
         "orientation": "v",
         "showlegend": true,
         "textposition": "auto",
         "texttemplate": "%{y}",
         "type": "bar",
         "x": [
          "Kotlin",
          "Kotlin"
         ],
         "xaxis": "x",
         "y": {
          "bdata": "AA4=",
          "dtype": "i1"
         },
         "yaxis": "y"
        },
        {
         "customdata": {
          "bdata": "AAAAAAAAAAC5n/XcjX6IPwAAAAAAAAAAuZ/13I1+iD8=",
          "dtype": "f8",
          "shape": "2, 2"
         },
         "hovertemplate": "<b>%{hovertext}</b><br><br>Language=%{x}<br>value=%{y}<br>Used %=%{customdata[0]:.2%}<br>As Main %=%{customdata[1]:.2%}<extra></extra>",
         "hovertext": [
          "C#",
          "C#"
         ],
         "legendgroup": "C#",
         "marker": {
          "color": "#000001",
          "opacity": 0.5,
          "pattern": {
           "shape": ""
          }
         },
         "name": "C#",
         "orientation": "v",
         "showlegend": true,
         "textposition": "auto",
         "texttemplate": "%{y}",
         "type": "bar",
         "x": [
          "C#",
          "C#"
         ],
         "xaxis": "x",
         "y": {
          "bdata": "ABI=",
          "dtype": "i1"
         },
         "yaxis": "y"
        },
        {
         "customdata": {
          "bdata": "AAAAAAAAAAAAAAAAAAAAAAAAAAAAAAAAAAAAAAAAAAA=",
          "dtype": "f8",
          "shape": "2, 2"
         },
         "hovertemplate": "<b>%{hovertext}</b><br><br>Language=%{x}<br>value=%{y}<br>Used %=%{customdata[0]:.2%}<br>As Main %=%{customdata[1]:.2%}<extra></extra>",
         "hovertext": [
          "Markdown",
          "Markdown"
         ],
         "legendgroup": "Markdown",
         "marker": {
          "color": "#000002",
          "opacity": 0.5,
          "pattern": {
           "shape": ""
          }
         },
         "name": "Markdown",
         "orientation": "v",
         "showlegend": true,
         "textposition": "auto",
         "texttemplate": "%{y}",
         "type": "bar",
         "x": [
          "Markdown",
          "Markdown"
         ],
         "xaxis": "x",
         "y": {
          "bdata": "AAA=",
          "dtype": "i1"
         },
         "yaxis": "y"
        },
        {
         "customdata": {
          "bdata": "AAAAAAAAAAAAAAAAAAAAAAAAAAAAAAAAAAAAAAAAAAA=",
          "dtype": "f8",
          "shape": "2, 2"
         },
         "hovertemplate": "<b>%{hovertext}</b><br><br>Language=%{x}<br>value=%{y}<br>Used %=%{customdata[0]:.2%}<br>As Main %=%{customdata[1]:.2%}<extra></extra>",
         "hovertext": [
          "Json",
          "Json"
         ],
         "legendgroup": "Json",
         "marker": {
          "color": "#000003",
          "opacity": 0.5,
          "pattern": {
           "shape": ""
          }
         },
         "name": "Json",
         "orientation": "v",
         "showlegend": true,
         "textposition": "auto",
         "texttemplate": "%{y}",
         "type": "bar",
         "x": [
          "Json",
          "Json"
         ],
         "xaxis": "x",
         "y": {
          "bdata": "AAA=",
          "dtype": "i1"
         },
         "yaxis": "y"
        },
        {
         "customdata": {
          "bdata": "AAAAAAAAAAClOBNv08WFPwAAAAAAAAAApTgTb9PFhT8=",
          "dtype": "f8",
          "shape": "2, 2"
         },
         "hovertemplate": "<b>%{hovertext}</b><br><br>Language=%{x}<br>value=%{y}<br>Used %=%{customdata[0]:.2%}<br>As Main %=%{customdata[1]:.2%}<extra></extra>",
         "hovertext": [
          "PHP",
          "PHP"
         ],
         "legendgroup": "PHP",
         "marker": {
          "color": "#000004",
          "opacity": 0.5,
          "pattern": {
           "shape": ""
          }
         },
         "name": "PHP",
         "orientation": "v",
         "showlegend": true,
         "textposition": "auto",
         "texttemplate": "%{y}",
         "type": "bar",
         "x": [
          "PHP",
          "PHP"
         ],
         "xaxis": "x",
         "y": {
          "bdata": "ABA=",
          "dtype": "i1"
         },
         "yaxis": "y"
        },
        {
         "customdata": {
          "bdata": "AAAAAAAAAADOBthKSDeLPwAAAAAAAAAAzgbYSkg3iz8=",
          "dtype": "f8",
          "shape": "2, 2"
         },
         "hovertemplate": "<b>%{hovertext}</b><br><br>Language=%{x}<br>value=%{y}<br>Used %=%{customdata[0]:.2%}<br>As Main %=%{customdata[1]:.2%}<extra></extra>",
         "hovertext": [
          "Ruby",
          "Ruby"
         ],
         "legendgroup": "Ruby",
         "marker": {
          "color": "#000005",
          "opacity": 0.5,
          "pattern": {
           "shape": ""
          }
         },
         "name": "Ruby",
         "orientation": "v",
         "showlegend": true,
         "textposition": "auto",
         "texttemplate": "%{y}",
         "type": "bar",
         "x": [
          "Ruby",
          "Ruby"
         ],
         "xaxis": "x",
         "y": {
          "bdata": "ABQ=",
          "dtype": "i1"
         },
         "yaxis": "y"
        },
        {
         "customdata": {
          "bdata": "AAAAAAAAAAAAAAAAAAAAAAAAAAAAAAAAAAAAAAAAAAA=",
          "dtype": "f8",
          "shape": "2, 2"
         },
         "hovertemplate": "<b>%{hovertext}</b><br><br>Language=%{x}<br>value=%{y}<br>Used %=%{customdata[0]:.2%}<br>As Main %=%{customdata[1]:.2%}<extra></extra>",
         "hovertext": [
          "Cuda",
          "Cuda"
         ],
         "legendgroup": "Cuda",
         "marker": {
          "color": "#000006",
          "opacity": 0.5,
          "pattern": {
           "shape": ""
          }
         },
         "name": "Cuda",
         "orientation": "v",
         "showlegend": true,
         "textposition": "auto",
         "texttemplate": "%{y}",
         "type": "bar",
         "x": [
          "Cuda",
          "Cuda"
         ],
         "xaxis": "x",
         "y": {
          "bdata": "AAA=",
          "dtype": "i1"
         },
         "yaxis": "y"
        },
        {
         "customdata": {
          "bdata": "AAAAAAAAAAAAAAAAAAAAAAAAAAAAAAAAAAAAAAAAAAA=",
          "dtype": "f8",
          "shape": "2, 2"
         },
         "hovertemplate": "<b>%{hovertext}</b><br><br>Language=%{x}<br>value=%{y}<br>Used %=%{customdata[0]:.2%}<br>As Main %=%{customdata[1]:.2%}<extra></extra>",
         "hovertext": [
          "ECMAScript",
          "ECMAScript"
         ],
         "legendgroup": "ECMAScript",
         "marker": {
          "color": "#000007",
          "opacity": 0.5,
          "pattern": {
           "shape": ""
          }
         },
         "name": "ECMAScript",
         "orientation": "v",
         "showlegend": true,
         "textposition": "auto",
         "texttemplate": "%{y}",
         "type": "bar",
         "x": [
          "ECMAScript",
          "ECMAScript"
         ],
         "xaxis": "x",
         "y": {
          "bdata": "AAA=",
          "dtype": "i1"
         },
         "yaxis": "y"
        },
        {
         "customdata": {
          "bdata": "AAAAAAAAAAAAAAAAAAAAAAAAAAAAAAAAAAAAAAAAAAA=",
          "dtype": "f8",
          "shape": "2, 2"
         },
         "hovertemplate": "<b>%{hovertext}</b><br><br>Language=%{x}<br>value=%{y}<br>Used %=%{customdata[0]:.2%}<br>As Main %=%{customdata[1]:.2%}<extra></extra>",
         "hovertext": [
          "SQL",
          "SQL"
         ],
         "legendgroup": "SQL",
         "marker": {
          "color": "#000008",
          "opacity": 0.5,
          "pattern": {
           "shape": ""
          }
         },
         "name": "SQL",
         "orientation": "v",
         "showlegend": true,
         "textposition": "auto",
         "texttemplate": "%{y}",
         "type": "bar",
         "x": [
          "SQL",
          "SQL"
         ],
         "xaxis": "x",
         "y": {
          "bdata": "AAA=",
          "dtype": "i1"
         },
         "yaxis": "y"
        },
        {
         "customdata": {
          "bdata": "AAAAAAAAAAAAAAAAAAAAAAAAAAAAAAAAAAAAAAAAAAA=",
          "dtype": "f8",
          "shape": "2, 2"
         },
         "hovertemplate": "<b>%{hovertext}</b><br><br>Language=%{x}<br>value=%{y}<br>Used %=%{customdata[0]:.2%}<br>As Main %=%{customdata[1]:.2%}<extra></extra>",
         "hovertext": [
          "Redis",
          "Redis"
         ],
         "legendgroup": "Redis",
         "marker": {
          "color": "#000009",
          "opacity": 0.5,
          "pattern": {
           "shape": ""
          }
         },
         "name": "Redis",
         "orientation": "v",
         "showlegend": true,
         "textposition": "auto",
         "texttemplate": "%{y}",
         "type": "bar",
         "x": [
          "Redis",
          "Redis"
         ],
         "xaxis": "x",
         "y": {
          "bdata": "AAA=",
          "dtype": "i1"
         },
         "yaxis": "y"
        },
        {
         "customdata": {
          "bdata": "AAAAAAAAAAAAAAAAAAAAAAAAAAAAAAAAAAAAAAAAAAA=",
          "dtype": "f8",
          "shape": "2, 2"
         },
         "hovertemplate": "<b>%{hovertext}</b><br><br>Language=%{x}<br>value=%{y}<br>Used %=%{customdata[0]:.2%}<br>As Main %=%{customdata[1]:.2%}<extra></extra>",
         "hovertext": [
          "ZSH",
          "ZSH"
         ],
         "legendgroup": "ZSH",
         "marker": {
          "color": "#000010",
          "opacity": 0.5,
          "pattern": {
           "shape": ""
          }
         },
         "name": "ZSH",
         "orientation": "v",
         "showlegend": true,
         "textposition": "auto",
         "texttemplate": "%{y}",
         "type": "bar",
         "x": [
          "ZSH",
          "ZSH"
         ],
         "xaxis": "x",
         "y": {
          "bdata": "AAA=",
          "dtype": "i1"
         },
         "yaxis": "y"
        },
        {
         "customdata": {
          "bdata": "AAAAAAAAAABE0+YT69qZPwAAAAAAAAAARNPmE+vamT8=",
          "dtype": "f8",
          "shape": "2, 2"
         },
         "hovertemplate": "<b>%{hovertext}</b><br><br>Language=%{x}<br>value=%{y}<br>Used %=%{customdata[0]:.2%}<br>As Main %=%{customdata[1]:.2%}<extra></extra>",
         "hovertext": [
          "Bash",
          "Bash"
         ],
         "legendgroup": "Bash",
         "marker": {
          "color": "#000001",
          "opacity": 0.5,
          "pattern": {
           "shape": ""
          }
         },
         "name": "Bash",
         "orientation": "v",
         "showlegend": true,
         "textposition": "auto",
         "texttemplate": "%{y}",
         "type": "bar",
         "x": [
          "Bash",
          "Bash"
         ],
         "xaxis": "x",
         "y": {
          "bdata": "ACY=",
          "dtype": "i1"
         },
         "yaxis": "y"
        },
        {
         "customdata": {
          "bdata": "AAAAAAAAAAClOBNv08VFPwAAAAAAAAAApTgTb9PFRT8=",
          "dtype": "f8",
          "shape": "2, 2"
         },
         "hovertemplate": "<b>%{hovertext}</b><br><br>Language=%{x}<br>value=%{y}<br>Used %=%{customdata[0]:.2%}<br>As Main %=%{customdata[1]:.2%}<extra></extra>",
         "hovertext": [
          "Dart",
          "Dart"
         ],
         "legendgroup": "Dart",
         "marker": {
          "color": "#000002",
          "opacity": 0.5,
          "pattern": {
           "shape": ""
          }
         },
         "name": "Dart",
         "orientation": "v",
         "showlegend": true,
         "textposition": "auto",
         "texttemplate": "%{y}",
         "type": "bar",
         "x": [
          "Dart",
          "Dart"
         ],
         "xaxis": "x",
         "y": {
          "bdata": "AAE=",
          "dtype": "i1"
         },
         "yaxis": "y"
        },
        {
         "customdata": {
          "bdata": "AAAAAAAAAACToFDmduWbPwAAAAAAAAAAk6BQ5nblmz8=",
          "dtype": "f8",
          "shape": "2, 2"
         },
         "hovertemplate": "<b>%{hovertext}</b><br><br>Language=%{x}<br>value=%{y}<br>Used %=%{customdata[0]:.2%}<br>As Main %=%{customdata[1]:.2%}<extra></extra>",
         "hovertext": [
          "Rust",
          "Rust"
         ],
         "legendgroup": "Rust",
         "marker": {
          "color": "#000003",
          "opacity": 0.5,
          "pattern": {
           "shape": ""
          }
         },
         "name": "Rust",
         "orientation": "v",
         "showlegend": true,
         "textposition": "auto",
         "texttemplate": "%{y}",
         "type": "bar",
         "x": [
          "Rust",
          "Rust"
         ],
         "xaxis": "x",
         "y": {
          "bdata": "ACk=",
          "dtype": "i1"
         },
         "yaxis": "y"
        },
        {
         "customdata": {
          "bdata": "AAAAAAAAAAAAAAAAAAAAAAAAAAAAAAAAAAAAAAAAAAA=",
          "dtype": "f8",
          "shape": "2, 2"
         },
         "hovertemplate": "<b>%{hovertext}</b><br><br>Language=%{x}<br>value=%{y}<br>Used %=%{customdata[0]:.2%}<br>As Main %=%{customdata[1]:.2%}<extra></extra>",
         "hovertext": [
          "TCL",
          "TCL"
         ],
         "legendgroup": "TCL",
         "marker": {
          "color": "#000004",
          "opacity": 0.5,
          "pattern": {
           "shape": ""
          }
         },
         "name": "TCL",
         "orientation": "v",
         "showlegend": true,
         "textposition": "auto",
         "texttemplate": "%{y}",
         "type": "bar",
         "x": [
          "TCL",
          "TCL"
         ],
         "xaxis": "x",
         "y": {
          "bdata": "AAA=",
          "dtype": "i1"
         },
         "yaxis": "y"
        },
        {
         "customdata": {
          "bdata": "AAAAAAAAAAAAAAAAAAAAAAAAAAAAAAAAAAAAAAAAAAA=",
          "dtype": "f8",
          "shape": "2, 2"
         },
         "hovertemplate": "<b>%{hovertext}</b><br><br>Language=%{x}<br>value=%{y}<br>Used %=%{customdata[0]:.2%}<br>As Main %=%{customdata[1]:.2%}<extra></extra>",
         "hovertext": [
          "Other",
          "Other"
         ],
         "legendgroup": "Other",
         "marker": {
          "color": "#000005",
          "opacity": 0.5,
          "pattern": {
           "shape": ""
          }
         },
         "name": "Other",
         "orientation": "v",
         "showlegend": true,
         "textposition": "auto",
         "texttemplate": "%{y}",
         "type": "bar",
         "x": [
          "Other",
          "Other"
         ],
         "xaxis": "x",
         "y": {
          "bdata": "AAA=",
          "dtype": "i1"
         },
         "yaxis": "y"
        },
        {
         "customdata": {
          "bdata": "AAAAAAAAAAAAAAAAAAAAAAAAAAAAAAAAAAAAAAAAAAA=",
          "dtype": "f8",
          "shape": "2, 2"
         },
         "hovertemplate": "<b>%{hovertext}</b><br><br>Language=%{x}<br>value=%{y}<br>Used %=%{customdata[0]:.2%}<br>As Main %=%{customdata[1]:.2%}<extra></extra>",
         "hovertext": [
          "Golang",
          "Golang"
         ],
         "legendgroup": "Golang",
         "marker": {
          "color": "#000006",
          "opacity": 0.5,
          "pattern": {
           "shape": ""
          }
         },
         "name": "Golang",
         "orientation": "v",
         "showlegend": true,
         "textposition": "auto",
         "texttemplate": "%{y}",
         "type": "bar",
         "x": [
          "Golang",
          "Golang"
         ],
         "xaxis": "x",
         "y": {
          "bdata": "AAA=",
          "dtype": "i1"
         },
         "yaxis": "y"
        },
        {
         "customdata": {
          "bdata": "AAAAAAAAAAClOBNv08VVPwAAAAAAAAAApTgTb9PFVT8=",
          "dtype": "f8",
          "shape": "2, 2"
         },
         "hovertemplate": "<b>%{hovertext}</b><br><br>Language=%{x}<br>value=%{y}<br>Used %=%{customdata[0]:.2%}<br>As Main %=%{customdata[1]:.2%}<extra></extra>",
         "hovertext": [
          "Batch",
          "Batch"
         ],
         "legendgroup": "Batch",
         "marker": {
          "color": "#000007",
          "opacity": 0.5,
          "pattern": {
           "shape": ""
          }
         },
         "name": "Batch",
         "orientation": "v",
         "showlegend": true,
         "textposition": "auto",
         "texttemplate": "%{y}",
         "type": "bar",
         "x": [
          "Batch",
          "Batch"
         ],
         "xaxis": "x",
         "y": {
          "bdata": "AAI=",
          "dtype": "i1"
         },
         "yaxis": "y"
        },
        {
         "customdata": {
          "bdata": "AAAAAAAAAAClOBNv08VFPwAAAAAAAAAApTgTb9PFRT8=",
          "dtype": "f8",
          "shape": "2, 2"
         },
         "hovertemplate": "<b>%{hovertext}</b><br><br>Language=%{x}<br>value=%{y}<br>Used %=%{customdata[0]:.2%}<br>As Main %=%{customdata[1]:.2%}<extra></extra>",
         "hovertext": [
          "PowerShell",
          "PowerShell"
         ],
         "legendgroup": "PowerShell",
         "marker": {
          "color": "#000008",
          "opacity": 0.5,
          "pattern": {
           "shape": ""
          }
         },
         "name": "PowerShell",
         "orientation": "v",
         "showlegend": true,
         "textposition": "auto",
         "texttemplate": "%{y}",
         "type": "bar",
         "x": [
          "PowerShell",
          "PowerShell"
         ],
         "xaxis": "x",
         "y": {
          "bdata": "AAE=",
          "dtype": "i1"
         },
         "yaxis": "y"
        },
        {
         "customdata": {
          "bdata": "AAAAAAAAAADC61YhvG6lPwAAAAAAAAAAwutWIbxupT8=",
          "dtype": "f8",
          "shape": "2, 2"
         },
         "hovertemplate": "<b>%{hovertext}</b><br><br>Language=%{x}<br>value=%{y}<br>Used %=%{customdata[0]:.2%}<br>As Main %=%{customdata[1]:.2%}<extra></extra>",
         "hovertext": [
          "R",
          "R"
         ],
         "legendgroup": "R",
         "marker": {
          "color": "#000009",
          "opacity": 0.5,
          "pattern": {
           "shape": ""
          }
         },
         "name": "R",
         "orientation": "v",
         "showlegend": true,
         "textposition": "auto",
         "texttemplate": "%{y}",
         "type": "bar",
         "x": [
          "R",
          "R"
         ],
         "xaxis": "x",
         "y": {
          "bdata": "AD8=",
          "dtype": "i1"
         },
         "yaxis": "y"
        },
        {
         "customdata": {
          "bdata": "AAAAAAAAAAAAAAAAAAAAAAAAAAAAAAAAAAAAAAAAAAA=",
          "dtype": "f8",
          "shape": "2, 2"
         },
         "hovertemplate": "<b>%{hovertext}</b><br><br>Language=%{x}<br>value=%{y}<br>Used %=%{customdata[0]:.2%}<br>As Main %=%{customdata[1]:.2%}<extra></extra>",
         "hovertext": [
          "Solidity",
          "Solidity"
         ],
         "legendgroup": "Solidity",
         "marker": {
          "color": "#000010",
          "opacity": 0.5,
          "pattern": {
           "shape": ""
          }
         },
         "name": "Solidity",
         "orientation": "v",
         "showlegend": true,
         "textposition": "auto",
         "texttemplate": "%{y}",
         "type": "bar",
         "x": [
          "Solidity",
          "Solidity"
         ],
         "xaxis": "x",
         "y": {
          "bdata": "AAA=",
          "dtype": "i1"
         },
         "yaxis": "y"
        },
        {
         "customdata": {
          "bdata": "AAAAAAAAAABhhirG04OpPwAAAAAAAAAAYYYqxtODqT8=",
          "dtype": "f8",
          "shape": "2, 2"
         },
         "hovertemplate": "<b>%{hovertext}</b><br><br>Language=%{x}<br>value=%{y}<br>Used %=%{customdata[0]:.2%}<br>As Main %=%{customdata[1]:.2%}<extra></extra>",
         "hovertext": [
          "C",
          "C"
         ],
         "legendgroup": "C",
         "marker": {
          "color": "#000001",
          "opacity": 0.5,
          "pattern": {
           "shape": ""
          }
         },
         "name": "C",
         "orientation": "v",
         "showlegend": true,
         "textposition": "auto",
         "texttemplate": "%{y}",
         "type": "bar",
         "x": [
          "C",
          "C"
         ],
         "xaxis": "x",
         "y": {
          "bdata": "AEs=",
          "dtype": "i1"
         },
         "yaxis": "y"
        },
        {
         "customdata": {
          "bdata": "AAAAAAAAAAAAAAAAAAAAAAAAAAAAAAAAAAAAAAAAAAA=",
          "dtype": "f8",
          "shape": "2, 2"
         },
         "hovertemplate": "<b>%{hovertext}</b><br><br>Language=%{x}<br>value=%{y}<br>Used %=%{customdata[0]:.2%}<br>As Main %=%{customdata[1]:.2%}<extra></extra>",
         "hovertext": [
          "Node.js",
          "Node.js"
         ],
         "legendgroup": "Node.js",
         "marker": {
          "color": "#000002",
          "opacity": 0.5,
          "pattern": {
           "shape": ""
          }
         },
         "name": "Node.js",
         "orientation": "v",
         "showlegend": true,
         "textposition": "auto",
         "texttemplate": "%{y}",
         "type": "bar",
         "x": [
          "Node.js",
          "Node.js"
         ],
         "xaxis": "x",
         "y": {
          "bdata": "AAA=",
          "dtype": "i1"
         },
         "yaxis": "y"
        },
        {
         "customdata": {
          "bdata": "AAAAAAAAAAAAAAAAAAAAAAAAAAAAAAAAAAAAAAAAAAA=",
          "dtype": "f8",
          "shape": "2, 2"
         },
         "hovertemplate": "<b>%{hovertext}</b><br><br>Language=%{x}<br>value=%{y}<br>Used %=%{customdata[0]:.2%}<br>As Main %=%{customdata[1]:.2%}<extra></extra>",
         "hovertext": [
          "Bourne",
          "Bourne"
         ],
         "legendgroup": "Bourne",
         "marker": {
          "color": "#000003",
          "opacity": 0.5,
          "pattern": {
           "shape": ""
          }
         },
         "name": "Bourne",
         "orientation": "v",
         "showlegend": true,
         "textposition": "auto",
         "texttemplate": "%{y}",
         "type": "bar",
         "x": [
          "Bourne",
          "Bourne"
         ],
         "xaxis": "x",
         "y": {
          "bdata": "AAA=",
          "dtype": "i1"
         },
         "yaxis": "y"
        },
        {
         "customdata": {
          "bdata": "AAAAAAAAAAAAAAAAAAAAAAAAAAAAAAAAAAAAAAAAAAA=",
          "dtype": "f8",
          "shape": "2, 2"
         },
         "hovertemplate": "<b>%{hovertext}</b><br><br>Language=%{x}<br>value=%{y}<br>Used %=%{customdata[0]:.2%}<br>As Main %=%{customdata[1]:.2%}<extra></extra>",
         "hovertext": [
          "WebGPU",
          "WebGPU"
         ],
         "legendgroup": "WebGPU",
         "marker": {
          "color": "#000004",
          "opacity": 0.5,
          "pattern": {
           "shape": ""
          }
         },
         "name": "WebGPU",
         "orientation": "v",
         "showlegend": true,
         "textposition": "auto",
         "texttemplate": "%{y}",
         "type": "bar",
         "x": [
          "WebGPU",
          "WebGPU"
         ],
         "xaxis": "x",
         "y": {
          "bdata": "AAA=",
          "dtype": "i1"
         },
         "yaxis": "y"
        },
        {
         "customdata": {
          "bdata": "AAAAAAAAAAB7ak6TXlRwPwAAAAAAAAAAe2pOk15UcD8=",
          "dtype": "f8",
          "shape": "2, 2"
         },
         "hovertemplate": "<b>%{hovertext}</b><br><br>Language=%{x}<br>value=%{y}<br>Used %=%{customdata[0]:.2%}<br>As Main %=%{customdata[1]:.2%}<extra></extra>",
         "hovertext": [
          "Docker",
          "Docker"
         ],
         "legendgroup": "Docker",
         "marker": {
          "color": "#000005",
          "opacity": 0.5,
          "pattern": {
           "shape": ""
          }
         },
         "name": "Docker",
         "orientation": "v",
         "showlegend": true,
         "textposition": "auto",
         "texttemplate": "%{y}",
         "type": "bar",
         "x": [
          "Docker",
          "Docker"
         ],
         "xaxis": "x",
         "y": {
          "bdata": "AAY=",
          "dtype": "i1"
         },
         "yaxis": "y"
        },
        {
         "customdata": {
          "bdata": "AAAAAAAAAAAAAAAAAAAAAAAAAAAAAAAAAAAAAAAAAAA=",
          "dtype": "f8",
          "shape": "2, 2"
         },
         "hovertemplate": "<b>%{hovertext}</b><br><br>Language=%{x}<br>value=%{y}<br>Used %=%{customdata[0]:.2%}<br>As Main %=%{customdata[1]:.2%}<extra></extra>",
         "hovertext": [
          "GDScript",
          "GDScript"
         ],
         "legendgroup": "GDScript",
         "marker": {
          "color": "#000006",
          "opacity": 0.5,
          "pattern": {
           "shape": ""
          }
         },
         "name": "GDScript",
         "orientation": "v",
         "showlegend": true,
         "textposition": "auto",
         "texttemplate": "%{y}",
         "type": "bar",
         "x": [
          "GDScript",
          "GDScript"
         ],
         "xaxis": "x",
         "y": {
          "bdata": "AAA=",
          "dtype": "i1"
         },
         "yaxis": "y"
        },
        {
         "customdata": {
          "bdata": "AAAAAAAAAAAAAAAAAAAAAAAAAAAAAAAAAAAAAAAAAAA=",
          "dtype": "f8",
          "shape": "2, 2"
         },
         "hovertemplate": "<b>%{hovertext}</b><br><br>Language=%{x}<br>value=%{y}<br>Used %=%{customdata[0]:.2%}<br>As Main %=%{customdata[1]:.2%}<extra></extra>",
         "hovertext": [
          "None",
          "None"
         ],
         "legendgroup": "None",
         "marker": {
          "color": "#000007",
          "opacity": 0.5,
          "pattern": {
           "shape": ""
          }
         },
         "name": "None",
         "orientation": "v",
         "showlegend": true,
         "textposition": "auto",
         "texttemplate": "%{y}",
         "type": "bar",
         "x": [
          "None",
          "None"
         ],
         "xaxis": "x",
         "y": {
          "bdata": "AAA=",
          "dtype": "i1"
         },
         "yaxis": "y"
        },
        {
         "customdata": {
          "bdata": "AAAAAAAAAAClOBNv08VFPwAAAAAAAAAApTgTb9PFRT8=",
          "dtype": "f8",
          "shape": "2, 2"
         },
         "hovertemplate": "<b>%{hovertext}</b><br><br>Language=%{x}<br>value=%{y}<br>Used %=%{customdata[0]:.2%}<br>As Main %=%{customdata[1]:.2%}<extra></extra>",
         "hovertext": [
          "Assembly",
          "Assembly"
         ],
         "legendgroup": "Assembly",
         "marker": {
          "color": "#000008",
          "opacity": 0.5,
          "pattern": {
           "shape": ""
          }
         },
         "name": "Assembly",
         "orientation": "v",
         "showlegend": true,
         "textposition": "auto",
         "texttemplate": "%{y}",
         "type": "bar",
         "x": [
          "Assembly",
          "Assembly"
         ],
         "xaxis": "x",
         "y": {
          "bdata": "AAE=",
          "dtype": "i1"
         },
         "yaxis": "y"
        },
        {
         "customdata": {
          "bdata": "AAAAAAAAAAAAAAAAAAAAAAAAAAAAAAAAAAAAAAAAAAA=",
          "dtype": "f8",
          "shape": "2, 2"
         },
         "hovertemplate": "<b>%{hovertext}</b><br><br>Language=%{x}<br>value=%{y}<br>Used %=%{customdata[0]:.2%}<br>As Main %=%{customdata[1]:.2%}<extra></extra>",
         "hovertext": [
          "CMake",
          "CMake"
         ],
         "legendgroup": "CMake",
         "marker": {
          "color": "#000009",
          "opacity": 0.5,
          "pattern": {
           "shape": ""
          }
         },
         "name": "CMake",
         "orientation": "v",
         "showlegend": true,
         "textposition": "auto",
         "texttemplate": "%{y}",
         "type": "bar",
         "x": [
          "CMake",
          "CMake"
         ],
         "xaxis": "x",
         "y": {
          "bdata": "AAA=",
          "dtype": "i1"
         },
         "yaxis": "y"
        },
        {
         "customdata": {
          "bdata": "AAAAAAAAAAAAAAAAAAAAAAAAAAAAAAAAAAAAAAAAAAA=",
          "dtype": "f8",
          "shape": "2, 2"
         },
         "hovertemplate": "<b>%{hovertext}</b><br><br>Language=%{x}<br>value=%{y}<br>Used %=%{customdata[0]:.2%}<br>As Main %=%{customdata[1]:.2%}<extra></extra>",
         "hovertext": [
          "Vim Script",
          "Vim Script"
         ],
         "legendgroup": "Vim Script",
         "marker": {
          "color": "#000010",
          "opacity": 0.5,
          "pattern": {
           "shape": ""
          }
         },
         "name": "Vim Script",
         "orientation": "v",
         "showlegend": true,
         "textposition": "auto",
         "texttemplate": "%{y}",
         "type": "bar",
         "x": [
          "Vim Script",
          "Vim Script"
         ],
         "xaxis": "x",
         "y": {
          "bdata": "AAA=",
          "dtype": "i1"
         },
         "yaxis": "y"
        },
        {
         "customdata": {
          "bdata": "AAAAAAAAAAAAAAAAAAAAAAAAAAAAAAAAAAAAAAAAAAA=",
          "dtype": "f8",
          "shape": "2, 2"
         },
         "hovertemplate": "<b>%{hovertext}</b><br><br>Language=%{x}<br>value=%{y}<br>Used %=%{customdata[0]:.2%}<br>As Main %=%{customdata[1]:.2%}<extra></extra>",
         "hovertext": [
          "Lua",
          "Lua"
         ],
         "legendgroup": "Lua",
         "marker": {
          "color": "#000001",
          "opacity": 0.5,
          "pattern": {
           "shape": ""
          }
         },
         "name": "Lua",
         "orientation": "v",
         "showlegend": true,
         "textposition": "auto",
         "texttemplate": "%{y}",
         "type": "bar",
         "x": [
          "Lua",
          "Lua"
         ],
         "xaxis": "x",
         "y": {
          "bdata": "AAA=",
          "dtype": "i1"
         },
         "yaxis": "y"
        },
        {
         "customdata": {
          "bdata": "AAAAAAAAAAC5n/XcjX54PwAAAAAAAAAAuZ/13I1+eD8=",
          "dtype": "f8",
          "shape": "2, 2"
         },
         "hovertemplate": "<b>%{hovertext}</b><br><br>Language=%{x}<br>value=%{y}<br>Used %=%{customdata[0]:.2%}<br>As Main %=%{customdata[1]:.2%}<extra></extra>",
         "hovertext": [
          "Vue",
          "Vue"
         ],
         "legendgroup": "Vue",
         "marker": {
          "color": "#000002",
          "opacity": 0.5,
          "pattern": {
           "shape": ""
          }
         },
         "name": "Vue",
         "orientation": "v",
         "showlegend": true,
         "textposition": "auto",
         "texttemplate": "%{y}",
         "type": "bar",
         "x": [
          "Vue",
          "Vue"
         ],
         "xaxis": "x",
         "y": {
          "bdata": "AAk=",
          "dtype": "i1"
         },
         "yaxis": "y"
        },
        {
         "customdata": {
          "bdata": "AAAAAAAAAAAAAAAAAAAAAAAAAAAAAAAAAAAAAAAAAAA=",
          "dtype": "f8",
          "shape": "2, 2"
         },
         "hovertemplate": "<b>%{hovertext}</b><br><br>Language=%{x}<br>value=%{y}<br>Used %=%{customdata[0]:.2%}<br>As Main %=%{customdata[1]:.2%}<extra></extra>",
         "hovertext": [
          "GraphQL",
          "GraphQL"
         ],
         "legendgroup": "GraphQL",
         "marker": {
          "color": "#000003",
          "opacity": 0.5,
          "pattern": {
           "shape": ""
          }
         },
         "name": "GraphQL",
         "orientation": "v",
         "showlegend": true,
         "textposition": "auto",
         "texttemplate": "%{y}",
         "type": "bar",
         "x": [
          "GraphQL",
          "GraphQL"
         ],
         "xaxis": "x",
         "y": {
          "bdata": "AAA=",
          "dtype": "i1"
         },
         "yaxis": "y"
        },
        {
         "customdata": {
          "bdata": "AAAAAAAAAAAAAAAAAAAAAAAAAAAAAAAAAAAAAAAAAAA=",
          "dtype": "f8",
          "shape": "2, 2"
         },
         "hovertemplate": "<b>%{hovertext}</b><br><br>Language=%{x}<br>value=%{y}<br>Used %=%{customdata[0]:.2%}<br>As Main %=%{customdata[1]:.2%}<extra></extra>",
         "hovertext": [
          "Angular",
          "Angular"
         ],
         "legendgroup": "Angular",
         "marker": {
          "color": "#000004",
          "opacity": 0.5,
          "pattern": {
           "shape": ""
          }
         },
         "name": "Angular",
         "orientation": "v",
         "showlegend": true,
         "textposition": "auto",
         "texttemplate": "%{y}",
         "type": "bar",
         "x": [
          "Angular",
          "Angular"
         ],
         "xaxis": "x",
         "y": {
          "bdata": "AAA=",
          "dtype": "i1"
         },
         "yaxis": "y"
        },
        {
         "customdata": {
          "bdata": "AAAAAAAAAAAAAAAAAAAAAAAAAAAAAAAAAAAAAAAAAAA=",
          "dtype": "f8",
          "shape": "2, 2"
         },
         "hovertemplate": "<b>%{hovertext}</b><br><br>Language=%{x}<br>value=%{y}<br>Used %=%{customdata[0]:.2%}<br>As Main %=%{customdata[1]:.2%}<extra></extra>",
         "hovertext": [
          "Perl",
          "Perl"
         ],
         "legendgroup": "Perl",
         "marker": {
          "color": "#000005",
          "opacity": 0.5,
          "pattern": {
           "shape": ""
          }
         },
         "name": "Perl",
         "orientation": "v",
         "showlegend": true,
         "textposition": "auto",
         "texttemplate": "%{y}",
         "type": "bar",
         "x": [
          "Perl",
          "Perl"
         ],
         "xaxis": "x",
         "y": {
          "bdata": "AAA=",
          "dtype": "i1"
         },
         "yaxis": "y"
        },
        {
         "customdata": {
          "bdata": "AAAAAAAAAAAAAAAAAAAAAAAAAAAAAAAAAAAAAAAAAAA=",
          "dtype": "f8",
          "shape": "2, 2"
         },
         "hovertemplate": "<b>%{hovertext}</b><br><br>Language=%{x}<br>value=%{y}<br>Used %=%{customdata[0]:.2%}<br>As Main %=%{customdata[1]:.2%}<extra></extra>",
         "hovertext": [
          "GLSL",
          "GLSL"
         ],
         "legendgroup": "GLSL",
         "marker": {
          "color": "#000006",
          "opacity": 0.5,
          "pattern": {
           "shape": ""
          }
         },
         "name": "GLSL",
         "orientation": "v",
         "showlegend": true,
         "textposition": "auto",
         "texttemplate": "%{y}",
         "type": "bar",
         "x": [
          "GLSL",
          "GLSL"
         ],
         "xaxis": "x",
         "y": {
          "bdata": "AAA=",
          "dtype": "i1"
         },
         "yaxis": "y"
        },
        {
         "customdata": {
          "bdata": "AAAAAAAAAAAAAAAAAAAAAAAAAAAAAAAAAAAAAAAAAAA=",
          "dtype": "f8",
          "shape": "2, 2"
         },
         "hovertemplate": "<b>%{hovertext}</b><br><br>Language=%{x}<br>value=%{y}<br>Used %=%{customdata[0]:.2%}<br>As Main %=%{customdata[1]:.2%}<extra></extra>",
         "hovertext": [
          ".net",
          ".net"
         ],
         "legendgroup": ".net",
         "marker": {
          "color": "#000007",
          "opacity": 0.5,
          "pattern": {
           "shape": ""
          }
         },
         "name": ".net",
         "orientation": "v",
         "showlegend": true,
         "textposition": "auto",
         "texttemplate": "%{y}",
         "type": "bar",
         "x": [
          ".net",
          ".net"
         ],
         "xaxis": "x",
         "y": {
          "bdata": "AAA=",
          "dtype": "i1"
         },
         "yaxis": "y"
        },
        {
         "customdata": {
          "bdata": "AAAAAAAAAAClOBNv08VVPwAAAAAAAAAApTgTb9PFVT8=",
          "dtype": "f8",
          "shape": "2, 2"
         },
         "hovertemplate": "<b>%{hovertext}</b><br><br>Language=%{x}<br>value=%{y}<br>Used %=%{customdata[0]:.2%}<br>As Main %=%{customdata[1]:.2%}<extra></extra>",
         "hovertext": [
          "Objective-C",
          "Objective-C"
         ],
         "legendgroup": "Objective-C",
         "marker": {
          "color": "#000008",
          "opacity": 0.5,
          "pattern": {
           "shape": ""
          }
         },
         "name": "Objective-C",
         "orientation": "v",
         "showlegend": true,
         "textposition": "auto",
         "texttemplate": "%{y}",
         "type": "bar",
         "x": [
          "Objective-C",
          "Objective-C"
         ],
         "xaxis": "x",
         "y": {
          "bdata": "AAI=",
          "dtype": "i1"
         },
         "yaxis": "y"
        },
        {
         "customdata": {
          "bdata": "AAAAAAAAAAAAAAAAAAAAAAAAAAAAAAAAAAAAAAAAAAA=",
          "dtype": "f8",
          "shape": "2, 2"
         },
         "hovertemplate": "<b>%{hovertext}</b><br><br>Language=%{x}<br>value=%{y}<br>Used %=%{customdata[0]:.2%}<br>As Main %=%{customdata[1]:.2%}<extra></extra>",
         "hovertext": [
          "Flutter",
          "Flutter"
         ],
         "legendgroup": "Flutter",
         "marker": {
          "color": "#000009",
          "opacity": 0.5,
          "pattern": {
           "shape": ""
          }
         },
         "name": "Flutter",
         "orientation": "v",
         "showlegend": true,
         "textposition": "auto",
         "texttemplate": "%{y}",
         "type": "bar",
         "x": [
          "Flutter",
          "Flutter"
         ],
         "xaxis": "x",
         "y": {
          "bdata": "AAA=",
          "dtype": "i1"
         },
         "yaxis": "y"
        },
        {
         "customdata": {
          "bdata": "AAAAAAAAAAClOBNv08VFPwAAAAAAAAAApTgTb9PFRT8=",
          "dtype": "f8",
          "shape": "2, 2"
         },
         "hovertemplate": "<b>%{hovertext}</b><br><br>Language=%{x}<br>value=%{y}<br>Used %=%{customdata[0]:.2%}<br>As Main %=%{customdata[1]:.2%}<extra></extra>",
         "hovertext": [
          "Svelte",
          "Svelte"
         ],
         "legendgroup": "Svelte",
         "marker": {
          "color": "#000010",
          "opacity": 0.5,
          "pattern": {
           "shape": ""
          }
         },
         "name": "Svelte",
         "orientation": "v",
         "showlegend": true,
         "textposition": "auto",
         "texttemplate": "%{y}",
         "type": "bar",
         "x": [
          "Svelte",
          "Svelte"
         ],
         "xaxis": "x",
         "y": {
          "bdata": "AAE=",
          "dtype": "i1"
         },
         "yaxis": "y"
        },
        {
         "customdata": {
          "bdata": "AAAAAAAAAAAAAAAAAAAAAAAAAAAAAAAAAAAAAAAAAAA=",
          "dtype": "f8",
          "shape": "2, 2"
         },
         "hovertemplate": "<b>%{hovertext}</b><br><br>Language=%{x}<br>value=%{y}<br>Used %=%{customdata[0]:.2%}<br>As Main %=%{customdata[1]:.2%}<extra></extra>",
         "hovertext": [
          "YAML",
          "YAML"
         ],
         "legendgroup": "YAML",
         "marker": {
          "color": "#000001",
          "opacity": 0.5,
          "pattern": {
           "shape": ""
          }
         },
         "name": "YAML",
         "orientation": "v",
         "showlegend": true,
         "textposition": "auto",
         "texttemplate": "%{y}",
         "type": "bar",
         "x": [
          "YAML",
          "YAML"
         ],
         "xaxis": "x",
         "y": {
          "bdata": "AAA=",
          "dtype": "i1"
         },
         "yaxis": "y"
        },
        {
         "customdata": {
          "bdata": "AAAAAAAAAAClOBNv08VFPwAAAAAAAAAApTgTb9PFRT8=",
          "dtype": "f8",
          "shape": "2, 2"
         },
         "hovertemplate": "<b>%{hovertext}</b><br><br>Language=%{x}<br>value=%{y}<br>Used %=%{customdata[0]:.2%}<br>As Main %=%{customdata[1]:.2%}<extra></extra>",
         "hovertext": [
          "Scala",
          "Scala"
         ],
         "legendgroup": "Scala",
         "marker": {
          "color": "#000002",
          "opacity": 0.5,
          "pattern": {
           "shape": ""
          }
         },
         "name": "Scala",
         "orientation": "v",
         "showlegend": true,
         "textposition": "auto",
         "texttemplate": "%{y}",
         "type": "bar",
         "x": [
          "Scala",
          "Scala"
         ],
         "xaxis": "x",
         "y": {
          "bdata": "AAE=",
          "dtype": "i1"
         },
         "yaxis": "y"
        },
        {
         "customdata": {
          "bdata": "AAAAAAAAAAAGnj/Ku7CBPwAAAAAAAAAABp4/yruwgT8=",
          "dtype": "f8",
          "shape": "2, 2"
         },
         "hovertemplate": "<b>%{hovertext}</b><br><br>Language=%{x}<br>value=%{y}<br>Used %=%{customdata[0]:.2%}<br>As Main %=%{customdata[1]:.2%}<extra></extra>",
         "hovertext": [
          "Jupyter notebook",
          "Jupyter notebook"
         ],
         "legendgroup": "Jupyter notebook",
         "marker": {
          "color": "#000003",
          "opacity": 0.5,
          "pattern": {
           "shape": ""
          }
         },
         "name": "Jupyter notebook",
         "orientation": "v",
         "showlegend": true,
         "textposition": "auto",
         "texttemplate": "%{y}",
         "type": "bar",
         "x": [
          "Jupyter notebook",
          "Jupyter notebook"
         ],
         "xaxis": "x",
         "y": {
          "bdata": "AA0=",
          "dtype": "i1"
         },
         "yaxis": "y"
        },
        {
         "customdata": {
          "bdata": "AAAAAAAAAAAAAAAAAAAAAAAAAAAAAAAAAAAAAAAAAAA=",
          "dtype": "f8",
          "shape": "2, 2"
         },
         "hovertemplate": "<b>%{hovertext}</b><br><br>Language=%{x}<br>value=%{y}<br>Used %=%{customdata[0]:.2%}<br>As Main %=%{customdata[1]:.2%}<extra></extra>",
         "hovertext": [
          "Electron",
          "Electron"
         ],
         "legendgroup": "Electron",
         "marker": {
          "color": "#000004",
          "opacity": 0.5,
          "pattern": {
           "shape": ""
          }
         },
         "name": "Electron",
         "orientation": "v",
         "showlegend": true,
         "textposition": "auto",
         "texttemplate": "%{y}",
         "type": "bar",
         "x": [
          "Electron",
          "Electron"
         ],
         "xaxis": "x",
         "y": {
          "bdata": "AAA=",
          "dtype": "i1"
         },
         "yaxis": "y"
        },
        {
         "customdata": {
          "bdata": "AAAAAAAAAAClOBNv08VFPwAAAAAAAAAApTgTb9PFRT8=",
          "dtype": "f8",
          "shape": "2, 2"
         },
         "hovertemplate": "<b>%{hovertext}</b><br><br>Language=%{x}<br>value=%{y}<br>Used %=%{customdata[0]:.2%}<br>As Main %=%{customdata[1]:.2%}<extra></extra>",
         "hovertext": [
          "Julia",
          "Julia"
         ],
         "legendgroup": "Julia",
         "marker": {
          "color": "#000005",
          "opacity": 0.5,
          "pattern": {
           "shape": ""
          }
         },
         "name": "Julia",
         "orientation": "v",
         "showlegend": true,
         "textposition": "auto",
         "texttemplate": "%{y}",
         "type": "bar",
         "x": [
          "Julia",
          "Julia"
         ],
         "xaxis": "x",
         "y": {
          "bdata": "AAE=",
          "dtype": "i1"
         },
         "yaxis": "y"
        },
        {
         "customdata": {
          "bdata": "AAAAAAAAAAAAAAAAAAAAAAAAAAAAAAAAAAAAAAAAAAA=",
          "dtype": "f8",
          "shape": "2, 2"
         },
         "hovertemplate": "<b>%{hovertext}</b><br><br>Language=%{x}<br>value=%{y}<br>Used %=%{customdata[0]:.2%}<br>As Main %=%{customdata[1]:.2%}<extra></extra>",
         "hovertext": [
          "Scss",
          "Scss"
         ],
         "legendgroup": "Scss",
         "marker": {
          "color": "#000006",
          "opacity": 0.5,
          "pattern": {
           "shape": ""
          }
         },
         "name": "Scss",
         "orientation": "v",
         "showlegend": true,
         "textposition": "auto",
         "texttemplate": "%{y}",
         "type": "bar",
         "x": [
          "Scss",
          "Scss"
         ],
         "xaxis": "x",
         "y": {
          "bdata": "AAA=",
          "dtype": "i1"
         },
         "yaxis": "y"
        },
        {
         "customdata": {
          "bdata": "AAAAAAAAAAAAAAAAAAAAAAAAAAAAAAAAAAAAAAAAAAA=",
          "dtype": "f8",
          "shape": "2, 2"
         },
         "hovertemplate": "<b>%{hovertext}</b><br><br>Language=%{x}<br>value=%{y}<br>Used %=%{customdata[0]:.2%}<br>As Main %=%{customdata[1]:.2%}<extra></extra>",
         "hovertext": [
          "Jupyter Notebook",
          "Jupyter Notebook"
         ],
         "legendgroup": "Jupyter Notebook",
         "marker": {
          "color": "#000007",
          "opacity": 0.5,
          "pattern": {
           "shape": ""
          }
         },
         "name": "Jupyter Notebook",
         "orientation": "v",
         "showlegend": true,
         "textposition": "auto",
         "texttemplate": "%{y}",
         "type": "bar",
         "x": [
          "Jupyter Notebook",
          "Jupyter Notebook"
         ],
         "xaxis": "x",
         "y": {
          "bdata": "AAA=",
          "dtype": "i1"
         },
         "yaxis": "y"
        },
        {
         "customdata": {
          "bdata": "AAAAAAAAAAAAAAAAAAAAAAAAAAAAAAAAAAAAAAAAAAA=",
          "dtype": "f8",
          "shape": "2, 2"
         },
         "hovertemplate": "<b>%{hovertext}</b><br><br>Language=%{x}<br>value=%{y}<br>Used %=%{customdata[0]:.2%}<br>As Main %=%{customdata[1]:.2%}<extra></extra>",
         "hovertext": [
          "Jinja",
          "Jinja"
         ],
         "legendgroup": "Jinja",
         "marker": {
          "color": "#000008",
          "opacity": 0.5,
          "pattern": {
           "shape": ""
          }
         },
         "name": "Jinja",
         "orientation": "v",
         "showlegend": true,
         "textposition": "auto",
         "texttemplate": "%{y}",
         "type": "bar",
         "x": [
          "Jinja",
          "Jinja"
         ],
         "xaxis": "x",
         "y": {
          "bdata": "AAA=",
          "dtype": "i1"
         },
         "yaxis": "y"
        },
        {
         "customdata": {
          "bdata": "AAAAAAAAAAAAAAAAAAAAAAAAAAAAAAAAAAAAAAAAAAA=",
          "dtype": "f8",
          "shape": "2, 2"
         },
         "hovertemplate": "<b>%{hovertext}</b><br><br>Language=%{x}<br>value=%{y}<br>Used %=%{customdata[0]:.2%}<br>As Main %=%{customdata[1]:.2%}<extra></extra>",
         "hovertext": [
          "Bun",
          "Bun"
         ],
         "legendgroup": "Bun",
         "marker": {
          "color": "#000009",
          "opacity": 0.5,
          "pattern": {
           "shape": ""
          }
         },
         "name": "Bun",
         "orientation": "v",
         "showlegend": true,
         "textposition": "auto",
         "texttemplate": "%{y}",
         "type": "bar",
         "x": [
          "Bun",
          "Bun"
         ],
         "xaxis": "x",
         "y": {
          "bdata": "AAA=",
          "dtype": "i1"
         },
         "yaxis": "y"
        },
        {
         "customdata": {
          "bdata": "AAAAAAAAAAAAAAAAAAAAAAAAAAAAAAAAAAAAAAAAAAA=",
          "dtype": "f8",
          "shape": "2, 2"
         },
         "hovertemplate": "<b>%{hovertext}</b><br><br>Language=%{x}<br>value=%{y}<br>Used %=%{customdata[0]:.2%}<br>As Main %=%{customdata[1]:.2%}<extra></extra>",
         "hovertext": [
          "Clojure",
          "Clojure"
         ],
         "legendgroup": "Clojure",
         "marker": {
          "color": "#000010",
          "opacity": 0.5,
          "pattern": {
           "shape": ""
          }
         },
         "name": "Clojure",
         "orientation": "v",
         "showlegend": true,
         "textposition": "auto",
         "texttemplate": "%{y}",
         "type": "bar",
         "x": [
          "Clojure",
          "Clojure"
         ],
         "xaxis": "x",
         "y": {
          "bdata": "AAA=",
          "dtype": "i1"
         },
         "yaxis": "y"
        },
        {
         "customdata": {
          "bdata": "AAAAAAAAAAClOBNv08VFPwAAAAAAAAAApTgTb9PFRT8=",
          "dtype": "f8",
          "shape": "2, 2"
         },
         "hovertemplate": "<b>%{hovertext}</b><br><br>Language=%{x}<br>value=%{y}<br>Used %=%{customdata[0]:.2%}<br>As Main %=%{customdata[1]:.2%}<extra></extra>",
         "hovertext": [
          "Zig",
          "Zig"
         ],
         "legendgroup": "Zig",
         "marker": {
          "color": "#000001",
          "opacity": 0.5,
          "pattern": {
           "shape": ""
          }
         },
         "name": "Zig",
         "orientation": "v",
         "showlegend": true,
         "textposition": "auto",
         "texttemplate": "%{y}",
         "type": "bar",
         "x": [
          "Zig",
          "Zig"
         ],
         "xaxis": "x",
         "y": {
          "bdata": "AAE=",
          "dtype": "i1"
         },
         "yaxis": "y"
        },
        {
         "customdata": {
          "bdata": "AAAAAAAAAAAAAAAAAAAAAAAAAAAAAAAAAAAAAAAAAAA=",
          "dtype": "f8",
          "shape": "2, 2"
         },
         "hovertemplate": "<b>%{hovertext}</b><br><br>Language=%{x}<br>value=%{y}<br>Used %=%{customdata[0]:.2%}<br>As Main %=%{customdata[1]:.2%}<extra></extra>",
         "hovertext": [
          "Haskell",
          "Haskell"
         ],
         "legendgroup": "Haskell",
         "marker": {
          "color": "#000002",
          "opacity": 0.5,
          "pattern": {
           "shape": ""
          }
         },
         "name": "Haskell",
         "orientation": "v",
         "showlegend": true,
         "textposition": "auto",
         "texttemplate": "%{y}",
         "type": "bar",
         "x": [
          "Haskell",
          "Haskell"
         ],
         "xaxis": "x",
         "y": {
          "bdata": "AAA=",
          "dtype": "i1"
         },
         "yaxis": "y"
        },
        {
         "customdata": {
          "bdata": "AAAAAAAAAAAAAAAAAAAAAAAAAAAAAAAAAAAAAAAAAAA=",
          "dtype": "f8",
          "shape": "2, 2"
         },
         "hovertemplate": "<b>%{hovertext}</b><br><br>Language=%{x}<br>value=%{y}<br>Used %=%{customdata[0]:.2%}<br>As Main %=%{customdata[1]:.2%}<extra></extra>",
         "hovertext": [
          "Nextjs",
          "Nextjs"
         ],
         "legendgroup": "Nextjs",
         "marker": {
          "color": "#000003",
          "opacity": 0.5,
          "pattern": {
           "shape": ""
          }
         },
         "name": "Nextjs",
         "orientation": "v",
         "showlegend": true,
         "textposition": "auto",
         "texttemplate": "%{y}",
         "type": "bar",
         "x": [
          "Nextjs",
          "Nextjs"
         ],
         "xaxis": "x",
         "y": {
          "bdata": "AAA=",
          "dtype": "i1"
         },
         "yaxis": "y"
        },
        {
         "customdata": {
          "bdata": "AAAAAAAAAAAAAAAAAAAAAAAAAAAAAAAAAAAAAAAAAAA=",
          "dtype": "f8",
          "shape": "2, 2"
         },
         "hovertemplate": "<b>%{hovertext}</b><br><br>Language=%{x}<br>value=%{y}<br>Used %=%{customdata[0]:.2%}<br>As Main %=%{customdata[1]:.2%}<extra></extra>",
         "hovertext": [
          "Tkinter",
          "Tkinter"
         ],
         "legendgroup": "Tkinter",
         "marker": {
          "color": "#000004",
          "opacity": 0.5,
          "pattern": {
           "shape": ""
          }
         },
         "name": "Tkinter",
         "orientation": "v",
         "showlegend": true,
         "textposition": "auto",
         "texttemplate": "%{y}",
         "type": "bar",
         "x": [
          "Tkinter",
          "Tkinter"
         ],
         "xaxis": "x",
         "y": {
          "bdata": "AAA=",
          "dtype": "i1"
         },
         "yaxis": "y"
        },
        {
         "customdata": {
          "bdata": "AAAAAAAAAAAAAAAAAAAAAAAAAAAAAAAAAAAAAAAAAAA=",
          "dtype": "f8",
          "shape": "2, 2"
         },
         "hovertemplate": "<b>%{hovertext}</b><br><br>Language=%{x}<br>value=%{y}<br>Used %=%{customdata[0]:.2%}<br>As Main %=%{customdata[1]:.2%}<extra></extra>",
         "hovertext": [
          "Umi",
          "Umi"
         ],
         "legendgroup": "Umi",
         "marker": {
          "color": "#000005",
          "opacity": 0.5,
          "pattern": {
           "shape": ""
          }
         },
         "name": "Umi",
         "orientation": "v",
         "showlegend": true,
         "textposition": "auto",
         "texttemplate": "%{y}",
         "type": "bar",
         "x": [
          "Umi",
          "Umi"
         ],
         "xaxis": "x",
         "y": {
          "bdata": "AAA=",
          "dtype": "i1"
         },
         "yaxis": "y"
        },
        {
         "customdata": {
          "bdata": "AAAAAAAAAAAAAAAAAAAAAAAAAAAAAAAAAAAAAAAAAAA=",
          "dtype": "f8",
          "shape": "2, 2"
         },
         "hovertemplate": "<b>%{hovertext}</b><br><br>Language=%{x}<br>value=%{y}<br>Used %=%{customdata[0]:.2%}<br>As Main %=%{customdata[1]:.2%}<extra></extra>",
         "hovertext": [
          "Tsx",
          "Tsx"
         ],
         "legendgroup": "Tsx",
         "marker": {
          "color": "#000006",
          "opacity": 0.5,
          "pattern": {
           "shape": ""
          }
         },
         "name": "Tsx",
         "orientation": "v",
         "showlegend": true,
         "textposition": "auto",
         "texttemplate": "%{y}",
         "type": "bar",
         "x": [
          "Tsx",
          "Tsx"
         ],
         "xaxis": "x",
         "y": {
          "bdata": "AAA=",
          "dtype": "i1"
         },
         "yaxis": "y"
        },
        {
         "customdata": {
          "bdata": "AAAAAAAAAAAAAAAAAAAAAAAAAAAAAAAAAAAAAAAAAAA=",
          "dtype": "f8",
          "shape": "2, 2"
         },
         "hovertemplate": "<b>%{hovertext}</b><br><br>Language=%{x}<br>value=%{y}<br>Used %=%{customdata[0]:.2%}<br>As Main %=%{customdata[1]:.2%}<extra></extra>",
         "hovertext": [
          "Nervjs",
          "Nervjs"
         ],
         "legendgroup": "Nervjs",
         "marker": {
          "color": "#000007",
          "opacity": 0.5,
          "pattern": {
           "shape": ""
          }
         },
         "name": "Nervjs",
         "orientation": "v",
         "showlegend": true,
         "textposition": "auto",
         "texttemplate": "%{y}",
         "type": "bar",
         "x": [
          "Nervjs",
          "Nervjs"
         ],
         "xaxis": "x",
         "y": {
          "bdata": "AAA=",
          "dtype": "i1"
         },
         "yaxis": "y"
        },
        {
         "customdata": {
          "bdata": "AAAAAAAAAAC5n/XcjX54PwAAAAAAAAAAuZ/13I1+eD8=",
          "dtype": "f8",
          "shape": "2, 2"
         },
         "hovertemplate": "<b>%{hovertext}</b><br><br>Language=%{x}<br>value=%{y}<br>Used %=%{customdata[0]:.2%}<br>As Main %=%{customdata[1]:.2%}<extra></extra>",
         "hovertext": [
          "V",
          "V"
         ],
         "legendgroup": "V",
         "marker": {
          "color": "#000008",
          "opacity": 0.5,
          "pattern": {
           "shape": ""
          }
         },
         "name": "V",
         "orientation": "v",
         "showlegend": true,
         "textposition": "auto",
         "texttemplate": "%{y}",
         "type": "bar",
         "x": [
          "V",
          "V"
         ],
         "xaxis": "x",
         "y": {
          "bdata": "AAk=",
          "dtype": "i1"
         },
         "yaxis": "y"
        },
        {
         "customdata": {
          "bdata": "AAAAAAAAAAAAAAAAAAAAAAAAAAAAAAAAAAAAAAAAAAA=",
          "dtype": "f8",
          "shape": "2, 2"
         },
         "hovertemplate": "<b>%{hovertext}</b><br><br>Language=%{x}<br>value=%{y}<br>Used %=%{customdata[0]:.2%}<br>As Main %=%{customdata[1]:.2%}<extra></extra>",
         "hovertext": [
          "Django",
          "Django"
         ],
         "legendgroup": "Django",
         "marker": {
          "color": "#000009",
          "opacity": 0.5,
          "pattern": {
           "shape": ""
          }
         },
         "name": "Django",
         "orientation": "v",
         "showlegend": true,
         "textposition": "auto",
         "texttemplate": "%{y}",
         "type": "bar",
         "x": [
          "Django",
          "Django"
         ],
         "xaxis": "x",
         "y": {
          "bdata": "AAA=",
          "dtype": "i1"
         },
         "yaxis": "y"
        },
        {
         "customdata": {
          "bdata": "AAAAAAAAAAAAAAAAAAAAAAAAAAAAAAAAAAAAAAAAAAA=",
          "dtype": "f8",
          "shape": "2, 2"
         },
         "hovertemplate": "<b>%{hovertext}</b><br><br>Language=%{x}<br>value=%{y}<br>Used %=%{customdata[0]:.2%}<br>As Main %=%{customdata[1]:.2%}<extra></extra>",
         "hovertext": [
          "Groovy",
          "Groovy"
         ],
         "legendgroup": "Groovy",
         "marker": {
          "color": "#000010",
          "opacity": 0.5,
          "pattern": {
           "shape": ""
          }
         },
         "name": "Groovy",
         "orientation": "v",
         "showlegend": true,
         "textposition": "auto",
         "texttemplate": "%{y}",
         "type": "bar",
         "x": [
          "Groovy",
          "Groovy"
         ],
         "xaxis": "x",
         "y": {
          "bdata": "AAA=",
          "dtype": "i1"
         },
         "yaxis": "y"
        },
        {
         "customdata": {
          "bdata": "AAAAAAAAAAAAAAAAAAAAAAAAAAAAAAAAAAAAAAAAAAA=",
          "dtype": "f8",
          "shape": "2, 2"
         },
         "hovertemplate": "<b>%{hovertext}</b><br><br>Language=%{x}<br>value=%{y}<br>Used %=%{customdata[0]:.2%}<br>As Main %=%{customdata[1]:.2%}<extra></extra>",
         "hovertext": [
          "Android",
          "Android"
         ],
         "legendgroup": "Android",
         "marker": {
          "color": "#000001",
          "opacity": 0.5,
          "pattern": {
           "shape": ""
          }
         },
         "name": "Android",
         "orientation": "v",
         "showlegend": true,
         "textposition": "auto",
         "texttemplate": "%{y}",
         "type": "bar",
         "x": [
          "Android",
          "Android"
         ],
         "xaxis": "x",
         "y": {
          "bdata": "AAA=",
          "dtype": "i1"
         },
         "yaxis": "y"
        },
        {
         "customdata": {
          "bdata": "AAAAAAAAAAAAAAAAAAAAAAAAAAAAAAAAAAAAAAAAAAA=",
          "dtype": "f8",
          "shape": "2, 2"
         },
         "hovertemplate": "<b>%{hovertext}</b><br><br>Language=%{x}<br>value=%{y}<br>Used %=%{customdata[0]:.2%}<br>As Main %=%{customdata[1]:.2%}<extra></extra>",
         "hovertext": [
          "TOML",
          "TOML"
         ],
         "legendgroup": "TOML",
         "marker": {
          "color": "#000002",
          "opacity": 0.5,
          "pattern": {
           "shape": ""
          }
         },
         "name": "TOML",
         "orientation": "v",
         "showlegend": true,
         "textposition": "auto",
         "texttemplate": "%{y}",
         "type": "bar",
         "x": [
          "TOML",
          "TOML"
         ],
         "xaxis": "x",
         "y": {
          "bdata": "AAA=",
          "dtype": "i1"
         },
         "yaxis": "y"
        },
        {
         "customdata": {
          "bdata": "AAAAAAAAAAAAAAAAAAAAAAAAAAAAAAAAAAAAAAAAAAA=",
          "dtype": "f8",
          "shape": "2, 2"
         },
         "hovertemplate": "<b>%{hovertext}</b><br><br>Language=%{x}<br>value=%{y}<br>Used %=%{customdata[0]:.2%}<br>As Main %=%{customdata[1]:.2%}<extra></extra>",
         "hovertext": [
          "Carbon",
          "Carbon"
         ],
         "legendgroup": "Carbon",
         "marker": {
          "color": "#000003",
          "opacity": 0.5,
          "pattern": {
           "shape": ""
          }
         },
         "name": "Carbon",
         "orientation": "v",
         "showlegend": true,
         "textposition": "auto",
         "texttemplate": "%{y}",
         "type": "bar",
         "x": [
          "Carbon",
          "Carbon"
         ],
         "xaxis": "x",
         "y": {
          "bdata": "AAA=",
          "dtype": "i1"
         },
         "yaxis": "y"
        },
        {
         "customdata": {
          "bdata": "AAAAAAAAAAAAAAAAAAAAAAAAAAAAAAAAAAAAAAAAAAA=",
          "dtype": "f8",
          "shape": "2, 2"
         },
         "hovertemplate": "<b>%{hovertext}</b><br><br>Language=%{x}<br>value=%{y}<br>Used %=%{customdata[0]:.2%}<br>As Main %=%{customdata[1]:.2%}<extra></extra>",
         "hovertext": [
          "Dll",
          "Dll"
         ],
         "legendgroup": "Dll",
         "marker": {
          "color": "#000004",
          "opacity": 0.5,
          "pattern": {
           "shape": ""
          }
         },
         "name": "Dll",
         "orientation": "v",
         "showlegend": true,
         "textposition": "auto",
         "texttemplate": "%{y}",
         "type": "bar",
         "x": [
          "Dll",
          "Dll"
         ],
         "xaxis": "x",
         "y": {
          "bdata": "AAA=",
          "dtype": "i1"
         },
         "yaxis": "y"
        },
        {
         "customdata": {
          "bdata": "AAAAAAAAAAAAAAAAAAAAAAAAAAAAAAAAAAAAAAAAAAA=",
          "dtype": "f8",
          "shape": "2, 2"
         },
         "hovertemplate": "<b>%{hovertext}</b><br><br>Language=%{x}<br>value=%{y}<br>Used %=%{customdata[0]:.2%}<br>As Main %=%{customdata[1]:.2%}<extra></extra>",
         "hovertext": [
          "Ssh",
          "Ssh"
         ],
         "legendgroup": "Ssh",
         "marker": {
          "color": "#000005",
          "opacity": 0.5,
          "pattern": {
           "shape": ""
          }
         },
         "name": "Ssh",
         "orientation": "v",
         "showlegend": true,
         "textposition": "auto",
         "texttemplate": "%{y}",
         "type": "bar",
         "x": [
          "Ssh",
          "Ssh"
         ],
         "xaxis": "x",
         "y": {
          "bdata": "AAA=",
          "dtype": "i1"
         },
         "yaxis": "y"
        },
        {
         "customdata": {
          "bdata": "AAAAAAAAAAAAAAAAAAAAAAAAAAAAAAAAAAAAAAAAAAA=",
          "dtype": "f8",
          "shape": "2, 2"
         },
         "hovertemplate": "<b>%{hovertext}</b><br><br>Language=%{x}<br>value=%{y}<br>Used %=%{customdata[0]:.2%}<br>As Main %=%{customdata[1]:.2%}<extra></extra>",
         "hovertext": [
          "Dockerfile",
          "Dockerfile"
         ],
         "legendgroup": "Dockerfile",
         "marker": {
          "color": "#000006",
          "opacity": 0.5,
          "pattern": {
           "shape": ""
          }
         },
         "name": "Dockerfile",
         "orientation": "v",
         "showlegend": true,
         "textposition": "auto",
         "texttemplate": "%{y}",
         "type": "bar",
         "x": [
          "Dockerfile",
          "Dockerfile"
         ],
         "xaxis": "x",
         "y": {
          "bdata": "AAA=",
          "dtype": "i1"
         },
         "yaxis": "y"
        },
        {
         "customdata": {
          "bdata": "AAAAAAAAAAAAAAAAAAAAAAAAAAAAAAAAAAAAAAAAAAA=",
          "dtype": "f8",
          "shape": "2, 2"
         },
         "hovertemplate": "<b>%{hovertext}</b><br><br>Language=%{x}<br>value=%{y}<br>Used %=%{customdata[0]:.2%}<br>As Main %=%{customdata[1]:.2%}<extra></extra>",
         "hovertext": [
          "Caffe2",
          "Caffe2"
         ],
         "legendgroup": "Caffe2",
         "marker": {
          "color": "#000007",
          "opacity": 0.5,
          "pattern": {
           "shape": ""
          }
         },
         "name": "Caffe2",
         "orientation": "v",
         "showlegend": true,
         "textposition": "auto",
         "texttemplate": "%{y}",
         "type": "bar",
         "x": [
          "Caffe2",
          "Caffe2"
         ],
         "xaxis": "x",
         "y": {
          "bdata": "AAA=",
          "dtype": "i1"
         },
         "yaxis": "y"
        },
        {
         "customdata": {
          "bdata": "AAAAAAAAAAAAAAAAAAAAAAAAAAAAAAAAAAAAAAAAAAA=",
          "dtype": "f8",
          "shape": "2, 2"
         },
         "hovertemplate": "<b>%{hovertext}</b><br><br>Language=%{x}<br>value=%{y}<br>Used %=%{customdata[0]:.2%}<br>As Main %=%{customdata[1]:.2%}<extra></extra>",
         "hovertext": [
          "Nestjs",
          "Nestjs"
         ],
         "legendgroup": "Nestjs",
         "marker": {
          "color": "#000008",
          "opacity": 0.5,
          "pattern": {
           "shape": ""
          }
         },
         "name": "Nestjs",
         "orientation": "v",
         "showlegend": true,
         "textposition": "auto",
         "texttemplate": "%{y}",
         "type": "bar",
         "x": [
          "Nestjs",
          "Nestjs"
         ],
         "xaxis": "x",
         "y": {
          "bdata": "AAA=",
          "dtype": "i1"
         },
         "yaxis": "y"
        },
        {
         "customdata": {
          "bdata": "AAAAAAAAAAAAAAAAAAAAAAAAAAAAAAAAAAAAAAAAAAA=",
          "dtype": "f8",
          "shape": "2, 2"
         },
         "hovertemplate": "<b>%{hovertext}</b><br><br>Language=%{x}<br>value=%{y}<br>Used %=%{customdata[0]:.2%}<br>As Main %=%{customdata[1]:.2%}<extra></extra>",
         "hovertext": [
          "Mysql",
          "Mysql"
         ],
         "legendgroup": "Mysql",
         "marker": {
          "color": "#000009",
          "opacity": 0.5,
          "pattern": {
           "shape": ""
          }
         },
         "name": "Mysql",
         "orientation": "v",
         "showlegend": true,
         "textposition": "auto",
         "texttemplate": "%{y}",
         "type": "bar",
         "x": [
          "Mysql",
          "Mysql"
         ],
         "xaxis": "x",
         "y": {
          "bdata": "AAA=",
          "dtype": "i1"
         },
         "yaxis": "y"
        },
        {
         "customdata": {
          "bdata": "AAAAAAAAAAAAAAAAAAAAAAAAAAAAAAAAAAAAAAAAAAA=",
          "dtype": "f8",
          "shape": "2, 2"
         },
         "hovertemplate": "<b>%{hovertext}</b><br><br>Language=%{x}<br>value=%{y}<br>Used %=%{customdata[0]:.2%}<br>As Main %=%{customdata[1]:.2%}<extra></extra>",
         "hovertext": [
          "Springboot",
          "Springboot"
         ],
         "legendgroup": "Springboot",
         "marker": {
          "color": "#000010",
          "opacity": 0.5,
          "pattern": {
           "shape": ""
          }
         },
         "name": "Springboot",
         "orientation": "v",
         "showlegend": true,
         "textposition": "auto",
         "texttemplate": "%{y}",
         "type": "bar",
         "x": [
          "Springboot",
          "Springboot"
         ],
         "xaxis": "x",
         "y": {
          "bdata": "AAA=",
          "dtype": "i1"
         },
         "yaxis": "y"
        },
        {
         "customdata": {
          "bdata": "AAAAAAAAAAAAAAAAAAAAAAAAAAAAAAAAAAAAAAAAAAA=",
          "dtype": "f8",
          "shape": "2, 2"
         },
         "hovertemplate": "<b>%{hovertext}</b><br><br>Language=%{x}<br>value=%{y}<br>Used %=%{customdata[0]:.2%}<br>As Main %=%{customdata[1]:.2%}<extra></extra>",
         "hovertext": [
          "Swiftui",
          "Swiftui"
         ],
         "legendgroup": "Swiftui",
         "marker": {
          "color": "#000001",
          "opacity": 0.5,
          "pattern": {
           "shape": ""
          }
         },
         "name": "Swiftui",
         "orientation": "v",
         "showlegend": true,
         "textposition": "auto",
         "texttemplate": "%{y}",
         "type": "bar",
         "x": [
          "Swiftui",
          "Swiftui"
         ],
         "xaxis": "x",
         "y": {
          "bdata": "AAA=",
          "dtype": "i1"
         },
         "yaxis": "y"
        },
        {
         "customdata": {
          "bdata": "AAAAAAAAAAAAAAAAAAAAAAAAAAAAAAAAAAAAAAAAAAA=",
          "dtype": "f8",
          "shape": "2, 2"
         },
         "hovertemplate": "<b>%{hovertext}</b><br><br>Language=%{x}<br>value=%{y}<br>Used %=%{customdata[0]:.2%}<br>As Main %=%{customdata[1]:.2%}<extra></extra>",
         "hovertext": [
          "Gtk",
          "Gtk"
         ],
         "legendgroup": "Gtk",
         "marker": {
          "color": "#000002",
          "opacity": 0.5,
          "pattern": {
           "shape": ""
          }
         },
         "name": "Gtk",
         "orientation": "v",
         "showlegend": true,
         "textposition": "auto",
         "texttemplate": "%{y}",
         "type": "bar",
         "x": [
          "Gtk",
          "Gtk"
         ],
         "xaxis": "x",
         "y": {
          "bdata": "AAA=",
          "dtype": "i1"
         },
         "yaxis": "y"
        },
        {
         "customdata": {
          "bdata": "AAAAAAAAAAAAAAAAAAAAAAAAAAAAAAAAAAAAAAAAAAA=",
          "dtype": "f8",
          "shape": "2, 2"
         },
         "hovertemplate": "<b>%{hovertext}</b><br><br>Language=%{x}<br>value=%{y}<br>Used %=%{customdata[0]:.2%}<br>As Main %=%{customdata[1]:.2%}<extra></extra>",
         "hovertext": [
          "Prosemirror",
          "Prosemirror"
         ],
         "legendgroup": "Prosemirror",
         "marker": {
          "color": "#000003",
          "opacity": 0.5,
          "pattern": {
           "shape": ""
          }
         },
         "name": "Prosemirror",
         "orientation": "v",
         "showlegend": true,
         "textposition": "auto",
         "texttemplate": "%{y}",
         "type": "bar",
         "x": [
          "Prosemirror",
          "Prosemirror"
         ],
         "xaxis": "x",
         "y": {
          "bdata": "AAA=",
          "dtype": "i1"
         },
         "yaxis": "y"
        },
        {
         "customdata": {
          "bdata": "AAAAAAAAAAAAAAAAAAAAAAAAAAAAAAAAAAAAAAAAAAA=",
          "dtype": "f8",
          "shape": "2, 2"
         },
         "hovertemplate": "<b>%{hovertext}</b><br><br>Language=%{x}<br>value=%{y}<br>Used %=%{customdata[0]:.2%}<br>As Main %=%{customdata[1]:.2%}<extra></extra>",
         "hovertext": [
          "Firefox",
          "Firefox"
         ],
         "legendgroup": "Firefox",
         "marker": {
          "color": "#000004",
          "opacity": 0.5,
          "pattern": {
           "shape": ""
          }
         },
         "name": "Firefox",
         "orientation": "v",
         "showlegend": true,
         "textposition": "auto",
         "texttemplate": "%{y}",
         "type": "bar",
         "x": [
          "Firefox",
          "Firefox"
         ],
         "xaxis": "x",
         "y": {
          "bdata": "AAA=",
          "dtype": "i1"
         },
         "yaxis": "y"
        },
        {
         "customdata": {
          "bdata": "AAAAAAAAAAAAAAAAAAAAAAAAAAAAAAAAAAAAAAAAAAA=",
          "dtype": "f8",
          "shape": "2, 2"
         },
         "hovertemplate": "<b>%{hovertext}</b><br><br>Language=%{x}<br>value=%{y}<br>Used %=%{customdata[0]:.2%}<br>As Main %=%{customdata[1]:.2%}<extra></extra>",
         "hovertext": [
          "Makefile",
          "Makefile"
         ],
         "legendgroup": "Makefile",
         "marker": {
          "color": "#000005",
          "opacity": 0.5,
          "pattern": {
           "shape": ""
          }
         },
         "name": "Makefile",
         "orientation": "v",
         "showlegend": true,
         "textposition": "auto",
         "texttemplate": "%{y}",
         "type": "bar",
         "x": [
          "Makefile",
          "Makefile"
         ],
         "xaxis": "x",
         "y": {
          "bdata": "AAA=",
          "dtype": "i1"
         },
         "yaxis": "y"
        },
        {
         "customdata": {
          "bdata": "AAAAAAAAAAAAAAAAAAAAAAAAAAAAAAAAAAAAAAAAAAA=",
          "dtype": "f8",
          "shape": "2, 2"
         },
         "hovertemplate": "<b>%{hovertext}</b><br><br>Language=%{x}<br>value=%{y}<br>Used %=%{customdata[0]:.2%}<br>As Main %=%{customdata[1]:.2%}<extra></extra>",
         "hovertext": [
          "Ansible",
          "Ansible"
         ],
         "legendgroup": "Ansible",
         "marker": {
          "color": "#000006",
          "opacity": 0.5,
          "pattern": {
           "shape": ""
          }
         },
         "name": "Ansible",
         "orientation": "v",
         "showlegend": true,
         "textposition": "auto",
         "texttemplate": "%{y}",
         "type": "bar",
         "x": [
          "Ansible",
          "Ansible"
         ],
         "xaxis": "x",
         "y": {
          "bdata": "AAA=",
          "dtype": "i1"
         },
         "yaxis": "y"
        },
        {
         "customdata": {
          "bdata": "AAAAAAAAAAAAAAAAAAAAAAAAAAAAAAAAAAAAAAAAAAA=",
          "dtype": "f8",
          "shape": "2, 2"
         },
         "hovertemplate": "<b>%{hovertext}</b><br><br>Language=%{x}<br>value=%{y}<br>Used %=%{customdata[0]:.2%}<br>As Main %=%{customdata[1]:.2%}<extra></extra>",
         "hovertext": [
          "Vuejs",
          "Vuejs"
         ],
         "legendgroup": "Vuejs",
         "marker": {
          "color": "#000007",
          "opacity": 0.5,
          "pattern": {
           "shape": ""
          }
         },
         "name": "Vuejs",
         "orientation": "v",
         "showlegend": true,
         "textposition": "auto",
         "texttemplate": "%{y}",
         "type": "bar",
         "x": [
          "Vuejs",
          "Vuejs"
         ],
         "xaxis": "x",
         "y": {
          "bdata": "AAA=",
          "dtype": "i1"
         },
         "yaxis": "y"
        },
        {
         "customdata": {
          "bdata": "AAAAAAAAAAAAAAAAAAAAAAAAAAAAAAAAAAAAAAAAAAA=",
          "dtype": "f8",
          "shape": "2, 2"
         },
         "hovertemplate": "<b>%{hovertext}</b><br><br>Language=%{x}<br>value=%{y}<br>Used %=%{customdata[0]:.2%}<br>As Main %=%{customdata[1]:.2%}<extra></extra>",
         "hovertext": [
          "Flax",
          "Flax"
         ],
         "legendgroup": "Flax",
         "marker": {
          "color": "#000008",
          "opacity": 0.5,
          "pattern": {
           "shape": ""
          }
         },
         "name": "Flax",
         "orientation": "v",
         "showlegend": true,
         "textposition": "auto",
         "texttemplate": "%{y}",
         "type": "bar",
         "x": [
          "Flax",
          "Flax"
         ],
         "xaxis": "x",
         "y": {
          "bdata": "AAA=",
          "dtype": "i1"
         },
         "yaxis": "y"
        },
        {
         "customdata": {
          "bdata": "AAAAAAAAAAAAAAAAAAAAAAAAAAAAAAAAAAAAAAAAAAA=",
          "dtype": "f8",
          "shape": "2, 2"
         },
         "hovertemplate": "<b>%{hovertext}</b><br><br>Language=%{x}<br>value=%{y}<br>Used %=%{customdata[0]:.2%}<br>As Main %=%{customdata[1]:.2%}<extra></extra>",
         "hovertext": [
          "Elixir",
          "Elixir"
         ],
         "legendgroup": "Elixir",
         "marker": {
          "color": "#000009",
          "opacity": 0.5,
          "pattern": {
           "shape": ""
          }
         },
         "name": "Elixir",
         "orientation": "v",
         "showlegend": true,
         "textposition": "auto",
         "texttemplate": "%{y}",
         "type": "bar",
         "x": [
          "Elixir",
          "Elixir"
         ],
         "xaxis": "x",
         "y": {
          "bdata": "AAA=",
          "dtype": "i1"
         },
         "yaxis": "y"
        },
        {
         "customdata": {
          "bdata": "AAAAAAAAAAAAAAAAAAAAAAAAAAAAAAAAAAAAAAAAAAA=",
          "dtype": "f8",
          "shape": "2, 2"
         },
         "hovertemplate": "<b>%{hovertext}</b><br><br>Language=%{x}<br>value=%{y}<br>Used %=%{customdata[0]:.2%}<br>As Main %=%{customdata[1]:.2%}<extra></extra>",
         "hovertext": [
          "Spring boot",
          "Spring boot"
         ],
         "legendgroup": "Spring boot",
         "marker": {
          "color": "#000010",
          "opacity": 0.5,
          "pattern": {
           "shape": ""
          }
         },
         "name": "Spring boot",
         "orientation": "v",
         "showlegend": true,
         "textposition": "auto",
         "texttemplate": "%{y}",
         "type": "bar",
         "x": [
          "Spring boot",
          "Spring boot"
         ],
         "xaxis": "x",
         "y": {
          "bdata": "AAA=",
          "dtype": "i1"
         },
         "yaxis": "y"
        },
        {
         "customdata": {
          "bdata": "AAAAAAAAAAAAAAAAAAAAAAAAAAAAAAAAAAAAAAAAAAA=",
          "dtype": "f8",
          "shape": "2, 2"
         },
         "hovertemplate": "<b>%{hovertext}</b><br><br>Language=%{x}<br>value=%{y}<br>Used %=%{customdata[0]:.2%}<br>As Main %=%{customdata[1]:.2%}<extra></extra>",
         "hovertext": [
          "Deno",
          "Deno"
         ],
         "legendgroup": "Deno",
         "marker": {
          "color": "#000001",
          "opacity": 0.5,
          "pattern": {
           "shape": ""
          }
         },
         "name": "Deno",
         "orientation": "v",
         "showlegend": true,
         "textposition": "auto",
         "texttemplate": "%{y}",
         "type": "bar",
         "x": [
          "Deno",
          "Deno"
         ],
         "xaxis": "x",
         "y": {
          "bdata": "AAA=",
          "dtype": "i1"
         },
         "yaxis": "y"
        },
        {
         "customdata": {
          "bdata": "AAAAAAAAAAAAAAAAAAAAAAAAAAAAAAAAAAAAAAAAAAA=",
          "dtype": "f8",
          "shape": "2, 2"
         },
         "hovertemplate": "<b>%{hovertext}</b><br><br>Language=%{x}<br>value=%{y}<br>Used %=%{customdata[0]:.2%}<br>As Main %=%{customdata[1]:.2%}<extra></extra>",
         "hovertext": [
          "Jekyll",
          "Jekyll"
         ],
         "legendgroup": "Jekyll",
         "marker": {
          "color": "#000002",
          "opacity": 0.5,
          "pattern": {
           "shape": ""
          }
         },
         "name": "Jekyll",
         "orientation": "v",
         "showlegend": true,
         "textposition": "auto",
         "texttemplate": "%{y}",
         "type": "bar",
         "x": [
          "Jekyll",
          "Jekyll"
         ],
         "xaxis": "x",
         "y": {
          "bdata": "AAA=",
          "dtype": "i1"
         },
         "yaxis": "y"
        },
        {
         "customdata": {
          "bdata": "AAAAAAAAAAAAAAAAAAAAAAAAAAAAAAAAAAAAAAAAAAA=",
          "dtype": "f8",
          "shape": "2, 2"
         },
         "hovertemplate": "<b>%{hovertext}</b><br><br>Language=%{x}<br>value=%{y}<br>Used %=%{customdata[0]:.2%}<br>As Main %=%{customdata[1]:.2%}<extra></extra>",
         "hovertext": [
          "Nginx",
          "Nginx"
         ],
         "legendgroup": "Nginx",
         "marker": {
          "color": "#000003",
          "opacity": 0.5,
          "pattern": {
           "shape": ""
          }
         },
         "name": "Nginx",
         "orientation": "v",
         "showlegend": true,
         "textposition": "auto",
         "texttemplate": "%{y}",
         "type": "bar",
         "x": [
          "Nginx",
          "Nginx"
         ],
         "xaxis": "x",
         "y": {
          "bdata": "AAA=",
          "dtype": "i1"
         },
         "yaxis": "y"
        },
        {
         "customdata": {
          "bdata": "AAAAAAAAAAAAAAAAAAAAAAAAAAAAAAAAAAAAAAAAAAA=",
          "dtype": "f8",
          "shape": "2, 2"
         },
         "hovertemplate": "<b>%{hovertext}</b><br><br>Language=%{x}<br>value=%{y}<br>Used %=%{customdata[0]:.2%}<br>As Main %=%{customdata[1]:.2%}<extra></extra>",
         "hovertext": [
          "Helm",
          "Helm"
         ],
         "legendgroup": "Helm",
         "marker": {
          "color": "#000004",
          "opacity": 0.5,
          "pattern": {
           "shape": ""
          }
         },
         "name": "Helm",
         "orientation": "v",
         "showlegend": true,
         "textposition": "auto",
         "texttemplate": "%{y}",
         "type": "bar",
         "x": [
          "Helm",
          "Helm"
         ],
         "xaxis": "x",
         "y": {
          "bdata": "AAA=",
          "dtype": "i1"
         },
         "yaxis": "y"
        },
        {
         "customdata": {
          "bdata": "AAAAAAAAAAClOBNv08VFPwAAAAAAAAAApTgTb9PFRT8=",
          "dtype": "f8",
          "shape": "2, 2"
         },
         "hovertemplate": "<b>%{hovertext}</b><br><br>Language=%{x}<br>value=%{y}<br>Used %=%{customdata[0]:.2%}<br>As Main %=%{customdata[1]:.2%}<extra></extra>",
         "hovertext": [
          "Bicep",
          "Bicep"
         ],
         "legendgroup": "Bicep",
         "marker": {
          "color": "#000005",
          "opacity": 0.5,
          "pattern": {
           "shape": ""
          }
         },
         "name": "Bicep",
         "orientation": "v",
         "showlegend": true,
         "textposition": "auto",
         "texttemplate": "%{y}",
         "type": "bar",
         "x": [
          "Bicep",
          "Bicep"
         ],
         "xaxis": "x",
         "y": {
          "bdata": "AAE=",
          "dtype": "i1"
         },
         "yaxis": "y"
        },
        {
         "customdata": {
          "bdata": "AAAAAAAAAAAAAAAAAAAAAAAAAAAAAAAAAAAAAAAAAAA=",
          "dtype": "f8",
          "shape": "2, 2"
         },
         "hovertemplate": "<b>%{hovertext}</b><br><br>Language=%{x}<br>value=%{y}<br>Used %=%{customdata[0]:.2%}<br>As Main %=%{customdata[1]:.2%}<extra></extra>",
         "hovertext": [
          "Github-actions",
          "Github-actions"
         ],
         "legendgroup": "Github-actions",
         "marker": {
          "color": "#000006",
          "opacity": 0.5,
          "pattern": {
           "shape": ""
          }
         },
         "name": "Github-actions",
         "orientation": "v",
         "showlegend": true,
         "textposition": "auto",
         "texttemplate": "%{y}",
         "type": "bar",
         "x": [
          "Github-actions",
          "Github-actions"
         ],
         "xaxis": "x",
         "y": {
          "bdata": "AAA=",
          "dtype": "i1"
         },
         "yaxis": "y"
        },
        {
         "customdata": {
          "bdata": "AAAAAAAAAAAAAAAAAAAAAAAAAAAAAAAAAAAAAAAAAAA=",
          "dtype": "f8",
          "shape": "2, 2"
         },
         "hovertemplate": "<b>%{hovertext}</b><br><br>Language=%{x}<br>value=%{y}<br>Used %=%{customdata[0]:.2%}<br>As Main %=%{customdata[1]:.2%}<extra></extra>",
         "hovertext": [
          "Nix",
          "Nix"
         ],
         "legendgroup": "Nix",
         "marker": {
          "color": "#000007",
          "opacity": 0.5,
          "pattern": {
           "shape": ""
          }
         },
         "name": "Nix",
         "orientation": "v",
         "showlegend": true,
         "textposition": "auto",
         "texttemplate": "%{y}",
         "type": "bar",
         "x": [
          "Nix",
          "Nix"
         ],
         "xaxis": "x",
         "y": {
          "bdata": "AAA=",
          "dtype": "i1"
         },
         "yaxis": "y"
        },
        {
         "customdata": {
          "bdata": "AAAAAAAAAAAAAAAAAAAAAAAAAAAAAAAAAAAAAAAAAAA=",
          "dtype": "f8",
          "shape": "2, 2"
         },
         "hovertemplate": "<b>%{hovertext}</b><br><br>Language=%{x}<br>value=%{y}<br>Used %=%{customdata[0]:.2%}<br>As Main %=%{customdata[1]:.2%}<extra></extra>",
         "hovertext": [
          "Terraform",
          "Terraform"
         ],
         "legendgroup": "Terraform",
         "marker": {
          "color": "#000008",
          "opacity": 0.5,
          "pattern": {
           "shape": ""
          }
         },
         "name": "Terraform",
         "orientation": "v",
         "showlegend": true,
         "textposition": "auto",
         "texttemplate": "%{y}",
         "type": "bar",
         "x": [
          "Terraform",
          "Terraform"
         ],
         "xaxis": "x",
         "y": {
          "bdata": "AAA=",
          "dtype": "i1"
         },
         "yaxis": "y"
        },
        {
         "customdata": {
          "bdata": "AAAAAAAAAAB7ak6TXlRgPwAAAAAAAAAAe2pOk15UYD8=",
          "dtype": "f8",
          "shape": "2, 2"
         },
         "hovertemplate": "<b>%{hovertext}</b><br><br>Language=%{x}<br>value=%{y}<br>Used %=%{customdata[0]:.2%}<br>As Main %=%{customdata[1]:.2%}<extra></extra>",
         "hovertext": [
          "Hcl",
          "Hcl"
         ],
         "legendgroup": "Hcl",
         "marker": {
          "color": "#000009",
          "opacity": 0.5,
          "pattern": {
           "shape": ""
          }
         },
         "name": "Hcl",
         "orientation": "v",
         "showlegend": true,
         "textposition": "auto",
         "texttemplate": "%{y}",
         "type": "bar",
         "x": [
          "Hcl",
          "Hcl"
         ],
         "xaxis": "x",
         "y": {
          "bdata": "AAM=",
          "dtype": "i1"
         },
         "yaxis": "y"
        },
        {
         "customdata": {
          "bdata": "AAAAAAAAAAAAAAAAAAAAAAAAAAAAAAAAAAAAAAAAAAA=",
          "dtype": "f8",
          "shape": "2, 2"
         },
         "hovertemplate": "<b>%{hovertext}</b><br><br>Language=%{x}<br>value=%{y}<br>Used %=%{customdata[0]:.2%}<br>As Main %=%{customdata[1]:.2%}<extra></extra>",
         "hovertext": [
          "Arduino",
          "Arduino"
         ],
         "legendgroup": "Arduino",
         "marker": {
          "color": "#000010",
          "opacity": 0.5,
          "pattern": {
           "shape": ""
          }
         },
         "name": "Arduino",
         "orientation": "v",
         "showlegend": true,
         "textposition": "auto",
         "texttemplate": "%{y}",
         "type": "bar",
         "x": [
          "Arduino",
          "Arduino"
         ],
         "xaxis": "x",
         "y": {
          "bdata": "AAA=",
          "dtype": "i1"
         },
         "yaxis": "y"
        },
        {
         "customdata": {
          "bdata": "AAAAAAAAAAAAAAAAAAAAAAAAAAAAAAAAAAAAAAAAAAA=",
          "dtype": "f8",
          "shape": "2, 2"
         },
         "hovertemplate": "<b>%{hovertext}</b><br><br>Language=%{x}<br>value=%{y}<br>Used %=%{customdata[0]:.2%}<br>As Main %=%{customdata[1]:.2%}<extra></extra>",
         "hovertext": [
          "Dotnet",
          "Dotnet"
         ],
         "legendgroup": "Dotnet",
         "marker": {
          "color": "#000001",
          "opacity": 0.5,
          "pattern": {
           "shape": ""
          }
         },
         "name": "Dotnet",
         "orientation": "v",
         "showlegend": true,
         "textposition": "auto",
         "texttemplate": "%{y}",
         "type": "bar",
         "x": [
          "Dotnet",
          "Dotnet"
         ],
         "xaxis": "x",
         "y": {
          "bdata": "AAA=",
          "dtype": "i1"
         },
         "yaxis": "y"
        },
        {
         "customdata": {
          "bdata": "AAAAAAAAAAClOBNv08VFPwAAAAAAAAAApTgTb9PFRT8=",
          "dtype": "f8",
          "shape": "2, 2"
         },
         "hovertemplate": "<b>%{hovertext}</b><br><br>Language=%{x}<br>value=%{y}<br>Used %=%{customdata[0]:.2%}<br>As Main %=%{customdata[1]:.2%}<extra></extra>",
         "hovertext": [
          "Smarty",
          "Smarty"
         ],
         "legendgroup": "Smarty",
         "marker": {
          "color": "#000002",
          "opacity": 0.5,
          "pattern": {
           "shape": ""
          }
         },
         "name": "Smarty",
         "orientation": "v",
         "showlegend": true,
         "textposition": "auto",
         "texttemplate": "%{y}",
         "type": "bar",
         "x": [
          "Smarty",
          "Smarty"
         ],
         "xaxis": "x",
         "y": {
          "bdata": "AAE=",
          "dtype": "i1"
         },
         "yaxis": "y"
        },
        {
         "customdata": {
          "bdata": "AAAAAAAAAAAAAAAAAAAAAAAAAAAAAAAAAAAAAAAAAAA=",
          "dtype": "f8",
          "shape": "2, 2"
         },
         "hovertemplate": "<b>%{hovertext}</b><br><br>Language=%{x}<br>value=%{y}<br>Used %=%{customdata[0]:.2%}<br>As Main %=%{customdata[1]:.2%}<extra></extra>",
         "hovertext": [
          "Express",
          "Express"
         ],
         "legendgroup": "Express",
         "marker": {
          "color": "#000003",
          "opacity": 0.5,
          "pattern": {
           "shape": ""
          }
         },
         "name": "Express",
         "orientation": "v",
         "showlegend": true,
         "textposition": "auto",
         "texttemplate": "%{y}",
         "type": "bar",
         "x": [
          "Express",
          "Express"
         ],
         "xaxis": "x",
         "y": {
          "bdata": "AAA=",
          "dtype": "i1"
         },
         "yaxis": "y"
        },
        {
         "customdata": {
          "bdata": "AAAAAAAAAAAAAAAAAAAAAAAAAAAAAAAAAAAAAAAAAAA=",
          "dtype": "f8",
          "shape": "2, 2"
         },
         "hovertemplate": "<b>%{hovertext}</b><br><br>Language=%{x}<br>value=%{y}<br>Used %=%{customdata[0]:.2%}<br>As Main %=%{customdata[1]:.2%}<extra></extra>",
         "hovertext": [
          "Mongodb",
          "Mongodb"
         ],
         "legendgroup": "Mongodb",
         "marker": {
          "color": "#000004",
          "opacity": 0.5,
          "pattern": {
           "shape": ""
          }
         },
         "name": "Mongodb",
         "orientation": "v",
         "showlegend": true,
         "textposition": "auto",
         "texttemplate": "%{y}",
         "type": "bar",
         "x": [
          "Mongodb",
          "Mongodb"
         ],
         "xaxis": "x",
         "y": {
          "bdata": "AAA=",
          "dtype": "i1"
         },
         "yaxis": "y"
        },
        {
         "customdata": {
          "bdata": "AAAAAAAAAAAAAAAAAAAAAAAAAAAAAAAAAAAAAAAAAAA=",
          "dtype": "f8",
          "shape": "2, 2"
         },
         "hovertemplate": "<b>%{hovertext}</b><br><br>Language=%{x}<br>value=%{y}<br>Used %=%{customdata[0]:.2%}<br>As Main %=%{customdata[1]:.2%}<extra></extra>",
         "hovertext": [
          "Redux",
          "Redux"
         ],
         "legendgroup": "Redux",
         "marker": {
          "color": "#000005",
          "opacity": 0.5,
          "pattern": {
           "shape": ""
          }
         },
         "name": "Redux",
         "orientation": "v",
         "showlegend": true,
         "textposition": "auto",
         "texttemplate": "%{y}",
         "type": "bar",
         "x": [
          "Redux",
          "Redux"
         ],
         "xaxis": "x",
         "y": {
          "bdata": "AAA=",
          "dtype": "i1"
         },
         "yaxis": "y"
        },
        {
         "customdata": {
          "bdata": "AAAAAAAAAAAAAAAAAAAAAAAAAAAAAAAAAAAAAAAAAAA=",
          "dtype": "f8",
          "shape": "2, 2"
         },
         "hovertemplate": "<b>%{hovertext}</b><br><br>Language=%{x}<br>value=%{y}<br>Used %=%{customdata[0]:.2%}<br>As Main %=%{customdata[1]:.2%}<extra></extra>",
         "hovertext": [
          "Spring",
          "Spring"
         ],
         "legendgroup": "Spring",
         "marker": {
          "color": "#000006",
          "opacity": 0.5,
          "pattern": {
           "shape": ""
          }
         },
         "name": "Spring",
         "orientation": "v",
         "showlegend": true,
         "textposition": "auto",
         "texttemplate": "%{y}",
         "type": "bar",
         "x": [
          "Spring",
          "Spring"
         ],
         "xaxis": "x",
         "y": {
          "bdata": "AAA=",
          "dtype": "i1"
         },
         "yaxis": "y"
        },
        {
         "customdata": {
          "bdata": "AAAAAAAAAAAAAAAAAAAAAAAAAAAAAAAAAAAAAAAAAAA=",
          "dtype": "f8",
          "shape": "2, 2"
         },
         "hovertemplate": "<b>%{hovertext}</b><br><br>Language=%{x}<br>value=%{y}<br>Used %=%{customdata[0]:.2%}<br>As Main %=%{customdata[1]:.2%}<extra></extra>",
         "hovertext": [
          "Mybatis",
          "Mybatis"
         ],
         "legendgroup": "Mybatis",
         "marker": {
          "color": "#000007",
          "opacity": 0.5,
          "pattern": {
           "shape": ""
          }
         },
         "name": "Mybatis",
         "orientation": "v",
         "showlegend": true,
         "textposition": "auto",
         "texttemplate": "%{y}",
         "type": "bar",
         "x": [
          "Mybatis",
          "Mybatis"
         ],
         "xaxis": "x",
         "y": {
          "bdata": "AAA=",
          "dtype": "i1"
         },
         "yaxis": "y"
        },
        {
         "customdata": {
          "bdata": "AAAAAAAAAAAAAAAAAAAAAAAAAAAAAAAAAAAAAAAAAAA=",
          "dtype": "f8",
          "shape": "2, 2"
         },
         "hovertemplate": "<b>%{hovertext}</b><br><br>Language=%{x}<br>value=%{y}<br>Used %=%{customdata[0]:.2%}<br>As Main %=%{customdata[1]:.2%}<extra></extra>",
         "hovertext": [
          "Thymeleaf",
          "Thymeleaf"
         ],
         "legendgroup": "Thymeleaf",
         "marker": {
          "color": "#000008",
          "opacity": 0.5,
          "pattern": {
           "shape": ""
          }
         },
         "name": "Thymeleaf",
         "orientation": "v",
         "showlegend": true,
         "textposition": "auto",
         "texttemplate": "%{y}",
         "type": "bar",
         "x": [
          "Thymeleaf",
          "Thymeleaf"
         ],
         "xaxis": "x",
         "y": {
          "bdata": "AAA=",
          "dtype": "i1"
         },
         "yaxis": "y"
        },
        {
         "customdata": {
          "bdata": "AAAAAAAAAAAAAAAAAAAAAAAAAAAAAAAAAAAAAAAAAAA=",
          "dtype": "f8",
          "shape": "2, 2"
         },
         "hovertemplate": "<b>%{hovertext}</b><br><br>Language=%{x}<br>value=%{y}<br>Used %=%{customdata[0]:.2%}<br>As Main %=%{customdata[1]:.2%}<extra></extra>",
         "hovertext": [
          "Compose",
          "Compose"
         ],
         "legendgroup": "Compose",
         "marker": {
          "color": "#000009",
          "opacity": 0.5,
          "pattern": {
           "shape": ""
          }
         },
         "name": "Compose",
         "orientation": "v",
         "showlegend": true,
         "textposition": "auto",
         "texttemplate": "%{y}",
         "type": "bar",
         "x": [
          "Compose",
          "Compose"
         ],
         "xaxis": "x",
         "y": {
          "bdata": "AAA=",
          "dtype": "i1"
         },
         "yaxis": "y"
        },
        {
         "customdata": {
          "bdata": "AAAAAAAAAAAAAAAAAAAAAAAAAAAAAAAAAAAAAAAAAAA=",
          "dtype": "f8",
          "shape": "2, 2"
         },
         "hovertemplate": "<b>%{hovertext}</b><br><br>Language=%{x}<br>value=%{y}<br>Used %=%{customdata[0]:.2%}<br>As Main %=%{customdata[1]:.2%}<extra></extra>",
         "hovertext": [
          "Actions",
          "Actions"
         ],
         "legendgroup": "Actions",
         "marker": {
          "color": "#000010",
          "opacity": 0.5,
          "pattern": {
           "shape": ""
          }
         },
         "name": "Actions",
         "orientation": "v",
         "showlegend": true,
         "textposition": "auto",
         "texttemplate": "%{y}",
         "type": "bar",
         "x": [
          "Actions",
          "Actions"
         ],
         "xaxis": "x",
         "y": {
          "bdata": "AAA=",
          "dtype": "i1"
         },
         "yaxis": "y"
        },
        {
         "customdata": {
          "bdata": "AAAAAAAAAAAAAAAAAAAAAAAAAAAAAAAAAAAAAAAAAAA=",
          "dtype": "f8",
          "shape": "2, 2"
         },
         "hovertemplate": "<b>%{hovertext}</b><br><br>Language=%{x}<br>value=%{y}<br>Used %=%{customdata[0]:.2%}<br>As Main %=%{customdata[1]:.2%}<extra></extra>",
         "hovertext": [
          "Github",
          "Github"
         ],
         "legendgroup": "Github",
         "marker": {
          "color": "#000001",
          "opacity": 0.5,
          "pattern": {
           "shape": ""
          }
         },
         "name": "Github",
         "orientation": "v",
         "showlegend": true,
         "textposition": "auto",
         "texttemplate": "%{y}",
         "type": "bar",
         "x": [
          "Github",
          "Github"
         ],
         "xaxis": "x",
         "y": {
          "bdata": "AAA=",
          "dtype": "i1"
         },
         "yaxis": "y"
        },
        {
         "customdata": {
          "bdata": "AAAAAAAAAAAAAAAAAAAAAAAAAAAAAAAAAAAAAAAAAAA=",
          "dtype": "f8",
          "shape": "2, 2"
         },
         "hovertemplate": "<b>%{hovertext}</b><br><br>Language=%{x}<br>value=%{y}<br>Used %=%{customdata[0]:.2%}<br>As Main %=%{customdata[1]:.2%}<extra></extra>",
         "hovertext": [
          "Matlab",
          "Matlab"
         ],
         "legendgroup": "Matlab",
         "marker": {
          "color": "#000002",
          "opacity": 0.5,
          "pattern": {
           "shape": ""
          }
         },
         "name": "Matlab",
         "orientation": "v",
         "showlegend": true,
         "textposition": "auto",
         "texttemplate": "%{y}",
         "type": "bar",
         "x": [
          "Matlab",
          "Matlab"
         ],
         "xaxis": "x",
         "y": {
          "bdata": "AAA=",
          "dtype": "i1"
         },
         "yaxis": "y"
        },
        {
         "customdata": {
          "bdata": "AAAAAAAAAAAAAAAAAAAAAAAAAAAAAAAAAAAAAAAAAAA=",
          "dtype": "f8",
          "shape": "2, 2"
         },
         "hovertemplate": "<b>%{hovertext}</b><br><br>Language=%{x}<br>value=%{y}<br>Used %=%{customdata[0]:.2%}<br>As Main %=%{customdata[1]:.2%}<extra></extra>",
         "hovertext": [
          "Git",
          "Git"
         ],
         "legendgroup": "Git",
         "marker": {
          "color": "#000003",
          "opacity": 0.5,
          "pattern": {
           "shape": ""
          }
         },
         "name": "Git",
         "orientation": "v",
         "showlegend": true,
         "textposition": "auto",
         "texttemplate": "%{y}",
         "type": "bar",
         "x": [
          "Git",
          "Git"
         ],
         "xaxis": "x",
         "y": {
          "bdata": "AAA=",
          "dtype": "i1"
         },
         "yaxis": "y"
        },
        {
         "customdata": {
          "bdata": "AAAAAAAAAAAAAAAAAAAAAAAAAAAAAAAAAAAAAAAAAAA=",
          "dtype": "f8",
          "shape": "2, 2"
         },
         "hovertemplate": "<b>%{hovertext}</b><br><br>Language=%{x}<br>value=%{y}<br>Used %=%{customdata[0]:.2%}<br>As Main %=%{customdata[1]:.2%}<extra></extra>",
         "hovertext": [
          "Commandline",
          "Commandline"
         ],
         "legendgroup": "Commandline",
         "marker": {
          "color": "#000004",
          "opacity": 0.5,
          "pattern": {
           "shape": ""
          }
         },
         "name": "Commandline",
         "orientation": "v",
         "showlegend": true,
         "textposition": "auto",
         "texttemplate": "%{y}",
         "type": "bar",
         "x": [
          "Commandline",
          "Commandline"
         ],
         "xaxis": "x",
         "y": {
          "bdata": "AAA=",
          "dtype": "i1"
         },
         "yaxis": "y"
        },
        {
         "customdata": {
          "bdata": "AAAAAAAAAAAAAAAAAAAAAAAAAAAAAAAAAAAAAAAAAAA=",
          "dtype": "f8",
          "shape": "2, 2"
         },
         "hovertemplate": "<b>%{hovertext}</b><br><br>Language=%{x}<br>value=%{y}<br>Used %=%{customdata[0]:.2%}<br>As Main %=%{customdata[1]:.2%}<extra></extra>",
         "hovertext": [
          "Aws",
          "Aws"
         ],
         "legendgroup": "Aws",
         "marker": {
          "color": "#000005",
          "opacity": 0.5,
          "pattern": {
           "shape": ""
          }
         },
         "name": "Aws",
         "orientation": "v",
         "showlegend": true,
         "textposition": "auto",
         "texttemplate": "%{y}",
         "type": "bar",
         "x": [
          "Aws",
          "Aws"
         ],
         "xaxis": "x",
         "y": {
          "bdata": "AAA=",
          "dtype": "i1"
         },
         "yaxis": "y"
        },
        {
         "customdata": {
          "bdata": "AAAAAAAAAAAAAAAAAAAAAAAAAAAAAAAAAAAAAAAAAAA=",
          "dtype": "f8",
          "shape": "2, 2"
         },
         "hovertemplate": "<b>%{hovertext}</b><br><br>Language=%{x}<br>value=%{y}<br>Used %=%{customdata[0]:.2%}<br>As Main %=%{customdata[1]:.2%}<extra></extra>",
         "hovertext": [
          "Linux",
          "Linux"
         ],
         "legendgroup": "Linux",
         "marker": {
          "color": "#000006",
          "opacity": 0.5,
          "pattern": {
           "shape": ""
          }
         },
         "name": "Linux",
         "orientation": "v",
         "showlegend": true,
         "textposition": "auto",
         "texttemplate": "%{y}",
         "type": "bar",
         "x": [
          "Linux",
          "Linux"
         ],
         "xaxis": "x",
         "y": {
          "bdata": "AAA=",
          "dtype": "i1"
         },
         "yaxis": "y"
        }
       ],
       "layout": {
        "barmode": "overlay",
        "legend": {
         "title": {
          "text": "Language"
         },
         "tracegroupgap": 0
        },
        "margin": {
         "t": 60
        },
        "template": {
         "data": {
          "candlestick": [
           {
            "decreasing": {
             "line": {
              "color": "#000033"
             }
            },
            "increasing": {
             "line": {
              "color": "#000032"
             }
            },
            "type": "candlestick"
           }
          ],
          "contour": [
           {
            "colorscale": [
             [
              0,
              "#000011"
             ],
             [
              0.1111111111111111,
              "#000012"
             ],
             [
              0.2222222222222222,
              "#000013"
             ],
             [
              0.3333333333333333,
              "#000014"
             ],
             [
              0.4444444444444444,
              "#000015"
             ],
             [
              0.5555555555555556,
              "#000016"
             ],
             [
              0.6666666666666666,
              "#000017"
             ],
             [
              0.7777777777777778,
              "#000018"
             ],
             [
              0.8888888888888888,
              "#000019"
             ],
             [
              1,
              "#000020"
             ]
            ],
            "type": "contour"
           }
          ],
          "contourcarpet": [
           {
            "colorscale": [
             [
              0,
              "#000011"
             ],
             [
              0.1111111111111111,
              "#000012"
             ],
             [
              0.2222222222222222,
              "#000013"
             ],
             [
              0.3333333333333333,
              "#000014"
             ],
             [
              0.4444444444444444,
              "#000015"
             ],
             [
              0.5555555555555556,
              "#000016"
             ],
             [
              0.6666666666666666,
              "#000017"
             ],
             [
              0.7777777777777778,
              "#000018"
             ],
             [
              0.8888888888888888,
              "#000019"
             ],
             [
              1,
              "#000020"
             ]
            ],
            "type": "contourcarpet"
           }
          ],
          "heatmap": [
           {
            "colorscale": [
             [
              0,
              "#000011"
             ],
             [
              0.1111111111111111,
              "#000012"
             ],
             [
              0.2222222222222222,
              "#000013"
             ],
             [
              0.3333333333333333,
              "#000014"
             ],
             [
              0.4444444444444444,
              "#000015"
             ],
             [
              0.5555555555555556,
              "#000016"
             ],
             [
              0.6666666666666666,
              "#000017"
             ],
             [
              0.7777777777777778,
              "#000018"
             ],
             [
              0.8888888888888888,
              "#000019"
             ],
             [
              1,
              "#000020"
             ]
            ],
            "type": "heatmap"
           }
          ],
          "histogram2d": [
           {
            "colorscale": [
             [
              0,
              "#000011"
             ],
             [
              0.1111111111111111,
              "#000012"
             ],
             [
              0.2222222222222222,
              "#000013"
             ],
             [
              0.3333333333333333,
              "#000014"
             ],
             [
              0.4444444444444444,
              "#000015"
             ],
             [
              0.5555555555555556,
              "#000016"
             ],
             [
              0.6666666666666666,
              "#000017"
             ],
             [
              0.7777777777777778,
              "#000018"
             ],
             [
              0.8888888888888888,
              "#000019"
             ],
             [
              1,
              "#000020"
             ]
            ],
            "type": "histogram2d"
           }
          ],
          "icicle": [
           {
            "textfont": {
             "color": "white"
            },
            "type": "icicle"
           }
          ],
          "sankey": [
           {
            "textfont": {
             "color": "#000036"
            },
            "type": "sankey"
           }
          ],
          "scatter": [
           {
            "marker": {
             "line": {
              "width": 0
             }
            },
            "type": "scatter"
           }
          ],
          "table": [
           {
            "cells": {
             "fill": {
              "color": "#000038"
             },
             "font": {
              "color": "#000037"
             },
             "line": {
              "color": "#000039"
             }
            },
            "header": {
             "fill": {
              "color": "#000040"
             },
             "font": {
              "color": "#000036"
             },
             "line": {
              "color": "#000039"
             }
            },
            "type": "table"
           }
          ],
          "waterfall": [
           {
            "connector": {
             "line": {
              "color": "#000036",
              "width": 2
             }
            },
            "decreasing": {
             "marker": {
              "color": "#000033"
             }
            },
            "increasing": {
             "marker": {
              "color": "#000032"
             }
            },
            "totals": {
             "marker": {
              "color": "#000034"
             }
            },
            "type": "waterfall"
           }
          ]
         },
         "layout": {
          "coloraxis": {
           "colorscale": [
            [
             0,
             "#000011"
            ],
            [
             0.1111111111111111,
             "#000012"
            ],
            [
             0.2222222222222222,
             "#000013"
            ],
            [
             0.3333333333333333,
             "#000014"
            ],
            [
             0.4444444444444444,
             "#000015"
            ],
            [
             0.5555555555555556,
             "#000016"
            ],
            [
             0.6666666666666666,
             "#000017"
            ],
            [
             0.7777777777777778,
             "#000018"
            ],
            [
             0.8888888888888888,
             "#000019"
            ],
            [
             1,
             "#000020"
            ]
           ]
          },
          "colorscale": {
           "diverging": [
            [
             0,
             "#000021"
            ],
            [
             0.1,
             "#000022"
            ],
            [
             0.2,
             "#000023"
            ],
            [
             0.3,
             "#000024"
            ],
            [
             0.4,
             "#000025"
            ],
            [
             0.5,
             "#000026"
            ],
            [
             0.6,
             "#000027"
            ],
            [
             0.7,
             "#000028"
            ],
            [
             0.8,
             "#000029"
            ],
            [
             0.9,
             "#000030"
            ],
            [
             1,
             "#000031"
            ]
           ],
           "sequential": [
            [
             0,
             "#000011"
            ],
            [
             0.1111111111111111,
             "#000012"
            ],
            [
             0.2222222222222222,
             "#000013"
            ],
            [
             0.3333333333333333,
             "#000014"
            ],
            [
             0.4444444444444444,
             "#000015"
            ],
            [
             0.5555555555555556,
             "#000016"
            ],
            [
             0.6666666666666666,
             "#000017"
            ],
            [
             0.7777777777777778,
             "#000018"
            ],
            [
             0.8888888888888888,
             "#000019"
            ],
            [
             1,
             "#000020"
            ]
           ],
           "sequentialminus": [
            [
             0,
             "#000011"
            ],
            [
             0.1111111111111111,
             "#000012"
            ],
            [
             0.2222222222222222,
             "#000013"
            ],
            [
             0.3333333333333333,
             "#000014"
            ],
            [
             0.4444444444444444,
             "#000015"
            ],
            [
             0.5555555555555556,
             "#000016"
            ],
            [
             0.6666666666666666,
             "#000017"
            ],
            [
             0.7777777777777778,
             "#000018"
            ],
            [
             0.8888888888888888,
             "#000019"
            ],
            [
             1,
             "#000020"
            ]
           ]
          },
          "colorway": [
           "#000001",
           "#000002",
           "#000003",
           "#000004",
           "#000005",
           "#000006",
           "#000007",
           "#000008",
           "#000009",
           "#000010"
          ]
         }
        },
        "xaxis": {
         "anchor": "y",
         "categoryarray": [
          "TypeScript",
          "HTML",
          "CSS",
          "JavaScript",
          "Java",
          "Go",
          "C++",
          "Python",
          "Swift",
          "Kotlin",
          "C#",
          "Markdown",
          "Json",
          "PHP",
          "Ruby",
          "Cuda",
          "ECMAScript",
          "SQL",
          "Redis",
          "ZSH",
          "Bash",
          "Dart",
          "Rust",
          "TCL",
          "Other",
          "Golang",
          "Batch",
          "PowerShell",
          "R",
          "Solidity",
          "C",
          "Node.js",
          "Bourne",
          "WebGPU",
          "Docker",
          "GDScript",
          "None",
          "Assembly",
          "CMake",
          "Vim Script",
          "Lua",
          "Vue",
          "GraphQL",
          "Angular",
          "Perl",
          "GLSL",
          ".net",
          "Objective-C",
          "Flutter",
          "Svelte",
          "YAML",
          "Scala",
          "Jupyter notebook",
          "Electron",
          "Julia",
          "Scss",
          "Jupyter Notebook",
          "Jinja",
          "Bun",
          "Clojure",
          "Zig",
          "Haskell",
          "Nextjs",
          "Tkinter",
          "Umi",
          "Tsx",
          "Nervjs",
          "V",
          "Django",
          "Groovy",
          "Android",
          "TOML",
          "Carbon",
          "Dll",
          "Ssh",
          "Dockerfile",
          "Caffe2",
          "Nestjs",
          "Mysql",
          "Springboot",
          "Swiftui",
          "Gtk",
          "Prosemirror",
          "Firefox",
          "Makefile",
          "Ansible",
          "Vuejs",
          "Flax",
          "Elixir",
          "Spring boot",
          "Deno",
          "Jekyll",
          "Nginx",
          "Helm",
          "Bicep",
          "Github-actions",
          "Nix",
          "Terraform",
          "Hcl",
          "Arduino",
          "Dotnet",
          "Smarty",
          "Express",
          "Mongodb",
          "Redux",
          "Spring",
          "Mybatis",
          "Thymeleaf",
          "Compose",
          "Actions",
          "Github",
          "Matlab",
          "Git",
          "Commandline",
          "Aws",
          "Linux"
         ],
         "categoryorder": "array",
         "domain": [
          0,
          1
         ],
         "title": {
          "text": "Language"
         }
        },
        "yaxis": {
         "anchor": "x",
         "domain": [
          0,
          1
         ],
         "title": {
          "text": "value"
         }
        }
       }
      }
     },
     "metadata": {},
     "output_type": "display_data"
    }
   ],
   "source": [
    "count_langs = lambda column: {key: len(data[data[column].str.contains(key, na = False)]) \\\n",
    "                    for key in all_prog_langs}\n",
    "all_prog_langs = extract_unique(data['Programming Languages used'].map(parse_to_list))\n",
    "language_count = count_langs('Programming Languages used')\n",
    "as_main_language = count_langs('Main Programming Language')\n",
    "\n",
    "lang_data = data.explode('Programming Languages used').value_counts(['Programming Languages used', 'Main Programming Language']).sort_index().reset_index()\n",
    "language_count = pd.DataFrame(\n",
    "                    {'Language':  list(language_count.keys()),\n",
    "                     'Times Used': list(language_count.values()),\n",
    "                     'Used %': [num/len(repo_data) for num in language_count.values()],\n",
    "                     'As Main': list(as_main_language.values()),\n",
    "                     'As Main %': [num/len(repo_data) for num in as_main_language.values()]\n",
    "                     }).sort_values('Times Used', ascending=False)\n",
    "fig = px.bar(\n",
    "            language_count,\n",
    "            x='Language',\n",
    "            y=['Times Used', 'As Main'],\n",
    "            barmode = 'overlay',\n",
    "            color='Language',\n",
    "            text_auto=True,\n",
    "            hover_name='Language',\n",
    "            hover_data={\n",
    "                'Used %': ':.2%', 'As Main %': ':.2%',\n",
    "                }\n",
    "        )\n",
    "fig"
   ]
  },
  {
   "cell_type": "markdown",
   "id": "a1f290d6",
   "metadata": {},
   "source": [
    "Why is 2023"
   ]
  },
  {
   "cell_type": "markdown",
   "id": "c1428036",
   "metadata": {},
   "source": [
    "## Top 10 repositories for developers in 2025\n",
    "\n",
    "Github remains the go-to platform for developers to discover, share and collaborate. No matter if you are just beggining your developer journey or an experienced software guru seeking to stay ahead of the curve, these 10 essential GitHub repositories will charge your workflow in 2025."
   ]
  }
 ],
 "metadata": {
  "kernelspec": {
   "display_name": "CCDProyecto2",
   "language": "python",
   "name": "python3"
  },
  "language_info": {
   "codemirror_mode": {
    "name": "ipython",
    "version": 3
   },
   "file_extension": ".py",
   "mimetype": "text/x-python",
   "name": "python",
   "nbconvert_exporter": "python",
   "pygments_lexer": "ipython3",
   "version": "3.12.3"
  }
 },
 "nbformat": 4,
 "nbformat_minor": 5
}
