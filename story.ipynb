{
 "cells": [
  {
   "cell_type": "markdown",
   "id": "780a64b2",
   "metadata": {},
   "source": [
    "# Repo Radar | FOSS Analytics"
   ]
  },
  {
   "cell_type": "code",
   "execution_count": 1,
   "id": "6d1a3d9b",
   "metadata": {},
   "outputs": [],
   "source": [
    "import pandas as pd\n",
    "import plotly as ply\n",
    "import plotly.subplots as plys\n",
    "import plotly.express as px\n",
    "from datetime import datetime\n",
    "from library import *"
   ]
  },
  {
   "cell_type": "code",
   "execution_count": 2,
   "id": "8d65e330",
   "metadata": {},
   "outputs": [],
   "source": [
    "data = pd.read_csv('repo_data_clean.csv', sep=';')\n",
    "data[['created_at', 'updated_at', 'pushed_at']] = data[['created_at', 'updated_at', 'pushed_at']].map(lambda x: datetime.strptime(x[:10], '%Y-%m-%d').year)\n",
    "data.iloc[:,-9:-3] = data.iloc[:,-9:-3].map(lambda x: x.split('//') if isinstance(x,str) else x)"
   ]
  },
  {
   "cell_type": "markdown",
   "id": "92f98802",
   "metadata": {},
   "source": [
    "## The industry standard\n",
    "\n",
    "GitHub has become the heart of open-source software (OSS) development, hosting millions of projects that power modern technology. But how has open source evolved on GitHub over the years? Let’s explore the trends, growth, and impact of OSS through data.\n",
    "\n",
    "### The Rise of Github\n",
    "\n",
    "GitHub was founded in 2008, and since then, it has grown exponentially:  \n",
    "- [**2010**](https://github.blog/news-insights/one-million-repositories/): ~1M repositories  \n",
    "- **2015**: ~20M repositories\n",
    "- [**2023**](https://octoverse.github.com/2023): **Over 420M repositories** (with ~28M public ones)"
   ]
  },
  {
   "cell_type": "markdown",
   "id": "05981dc6",
   "metadata": {},
   "source": [
    "## Open-source adoption has skyrocketed\n",
    "\n",
    "For our analysis we have scrapped the top 1000 open source repositories with the most stars and forks, obviously there is a lot of overlap in these areas and we ended up with a total of 1505 repositories to analyze."
   ]
  },
  {
   "cell_type": "code",
   "execution_count": 11,
   "id": "b4319d8e",
   "metadata": {},
   "outputs": [
    {
     "data": {
      "application/vnd.plotly.v1+json": {
       "config": {
        "plotlyServerURL": "https://plot.ly"
       },
       "data": [
        {
         "hovertemplate": "created_at=%{x}<br>count=%{y}<extra></extra>",
         "legendgroup": "",
         "marker": {
          "color": "#000001",
          "pattern": {
           "shape": ""
          }
         },
         "name": "",
         "orientation": "v",
         "showlegend": false,
         "textposition": "auto",
         "type": "bar",
         "x": {
          "bdata": "2gfbB9wH3QfeB98H4AfhB+IH4wfkB+UH5gfnB+gH6Qc=",
          "dtype": "i2"
         },
         "xaxis": "x",
         "y": {
          "bdata": "LgA7AEMAWwB8AIUAlwCBAH4AcgBwAGsASgBkADQABQA=",
          "dtype": "i2"
         },
         "yaxis": "y"
        }
       ],
       "layout": {
        "barmode": "relative",
        "legend": {
         "tracegroupgap": 0
        },
        "template": {
         "data": {
          "candlestick": [
           {
            "decreasing": {
             "line": {
              "color": "#000033"
             }
            },
            "increasing": {
             "line": {
              "color": "#000032"
             }
            },
            "type": "candlestick"
           }
          ],
          "contour": [
           {
            "colorscale": [
             [
              0,
              "#000011"
             ],
             [
              0.1111111111111111,
              "#000012"
             ],
             [
              0.2222222222222222,
              "#000013"
             ],
             [
              0.3333333333333333,
              "#000014"
             ],
             [
              0.4444444444444444,
              "#000015"
             ],
             [
              0.5555555555555556,
              "#000016"
             ],
             [
              0.6666666666666666,
              "#000017"
             ],
             [
              0.7777777777777778,
              "#000018"
             ],
             [
              0.8888888888888888,
              "#000019"
             ],
             [
              1,
              "#000020"
             ]
            ],
            "type": "contour"
           }
          ],
          "contourcarpet": [
           {
            "colorscale": [
             [
              0,
              "#000011"
             ],
             [
              0.1111111111111111,
              "#000012"
             ],
             [
              0.2222222222222222,
              "#000013"
             ],
             [
              0.3333333333333333,
              "#000014"
             ],
             [
              0.4444444444444444,
              "#000015"
             ],
             [
              0.5555555555555556,
              "#000016"
             ],
             [
              0.6666666666666666,
              "#000017"
             ],
             [
              0.7777777777777778,
              "#000018"
             ],
             [
              0.8888888888888888,
              "#000019"
             ],
             [
              1,
              "#000020"
             ]
            ],
            "type": "contourcarpet"
           }
          ],
          "heatmap": [
           {
            "colorscale": [
             [
              0,
              "#000011"
             ],
             [
              0.1111111111111111,
              "#000012"
             ],
             [
              0.2222222222222222,
              "#000013"
             ],
             [
              0.3333333333333333,
              "#000014"
             ],
             [
              0.4444444444444444,
              "#000015"
             ],
             [
              0.5555555555555556,
              "#000016"
             ],
             [
              0.6666666666666666,
              "#000017"
             ],
             [
              0.7777777777777778,
              "#000018"
             ],
             [
              0.8888888888888888,
              "#000019"
             ],
             [
              1,
              "#000020"
             ]
            ],
            "type": "heatmap"
           }
          ],
          "histogram2d": [
           {
            "colorscale": [
             [
              0,
              "#000011"
             ],
             [
              0.1111111111111111,
              "#000012"
             ],
             [
              0.2222222222222222,
              "#000013"
             ],
             [
              0.3333333333333333,
              "#000014"
             ],
             [
              0.4444444444444444,
              "#000015"
             ],
             [
              0.5555555555555556,
              "#000016"
             ],
             [
              0.6666666666666666,
              "#000017"
             ],
             [
              0.7777777777777778,
              "#000018"
             ],
             [
              0.8888888888888888,
              "#000019"
             ],
             [
              1,
              "#000020"
             ]
            ],
            "type": "histogram2d"
           }
          ],
          "icicle": [
           {
            "textfont": {
             "color": "white"
            },
            "type": "icicle"
           }
          ],
          "sankey": [
           {
            "textfont": {
             "color": "#000036"
            },
            "type": "sankey"
           }
          ],
          "scatter": [
           {
            "marker": {
             "line": {
              "width": 0
             }
            },
            "type": "scatter"
           }
          ],
          "table": [
           {
            "cells": {
             "fill": {
              "color": "#000038"
             },
             "font": {
              "color": "#000037"
             },
             "line": {
              "color": "#000039"
             }
            },
            "header": {
             "fill": {
              "color": "#000040"
             },
             "font": {
              "color": "#000036"
             },
             "line": {
              "color": "#000039"
             }
            },
            "type": "table"
           }
          ],
          "waterfall": [
           {
            "connector": {
             "line": {
              "color": "#000036",
              "width": 2
             }
            },
            "decreasing": {
             "marker": {
              "color": "#000033"
             }
            },
            "increasing": {
             "marker": {
              "color": "#000032"
             }
            },
            "totals": {
             "marker": {
              "color": "#000034"
             }
            },
            "type": "waterfall"
           }
          ]
         },
         "layout": {
          "coloraxis": {
           "colorscale": [
            [
             0,
             "#000011"
            ],
            [
             0.1111111111111111,
             "#000012"
            ],
            [
             0.2222222222222222,
             "#000013"
            ],
            [
             0.3333333333333333,
             "#000014"
            ],
            [
             0.4444444444444444,
             "#000015"
            ],
            [
             0.5555555555555556,
             "#000016"
            ],
            [
             0.6666666666666666,
             "#000017"
            ],
            [
             0.7777777777777778,
             "#000018"
            ],
            [
             0.8888888888888888,
             "#000019"
            ],
            [
             1,
             "#000020"
            ]
           ]
          },
          "colorscale": {
           "diverging": [
            [
             0,
             "#000021"
            ],
            [
             0.1,
             "#000022"
            ],
            [
             0.2,
             "#000023"
            ],
            [
             0.3,
             "#000024"
            ],
            [
             0.4,
             "#000025"
            ],
            [
             0.5,
             "#000026"
            ],
            [
             0.6,
             "#000027"
            ],
            [
             0.7,
             "#000028"
            ],
            [
             0.8,
             "#000029"
            ],
            [
             0.9,
             "#000030"
            ],
            [
             1,
             "#000031"
            ]
           ],
           "sequential": [
            [
             0,
             "#000011"
            ],
            [
             0.1111111111111111,
             "#000012"
            ],
            [
             0.2222222222222222,
             "#000013"
            ],
            [
             0.3333333333333333,
             "#000014"
            ],
            [
             0.4444444444444444,
             "#000015"
            ],
            [
             0.5555555555555556,
             "#000016"
            ],
            [
             0.6666666666666666,
             "#000017"
            ],
            [
             0.7777777777777778,
             "#000018"
            ],
            [
             0.8888888888888888,
             "#000019"
            ],
            [
             1,
             "#000020"
            ]
           ],
           "sequentialminus": [
            [
             0,
             "#000011"
            ],
            [
             0.1111111111111111,
             "#000012"
            ],
            [
             0.2222222222222222,
             "#000013"
            ],
            [
             0.3333333333333333,
             "#000014"
            ],
            [
             0.4444444444444444,
             "#000015"
            ],
            [
             0.5555555555555556,
             "#000016"
            ],
            [
             0.6666666666666666,
             "#000017"
            ],
            [
             0.7777777777777778,
             "#000018"
            ],
            [
             0.8888888888888888,
             "#000019"
            ],
            [
             1,
             "#000020"
            ]
           ]
          },
          "colorway": [
           "#000001",
           "#000002",
           "#000003",
           "#000004",
           "#000005",
           "#000006",
           "#000007",
           "#000008",
           "#000009",
           "#000010"
          ]
         }
        },
        "title": {
         "subtitle": {
          "text": "Heavy hitters are the 1505 repos with the most amount of stars and forks as of 2025"
         },
         "text": "Amount of heavy hitters in 2025 by date of creation"
        },
        "xaxis": {
         "anchor": "y",
         "domain": [
          0,
          1
         ],
         "title": {
          "text": "created_at"
         }
        },
        "yaxis": {
         "anchor": "x",
         "domain": [
          0,
          1
         ],
         "title": {
          "text": "count"
         }
        }
       }
      }
     },
     "metadata": {},
     "output_type": "display_data"
    },
    {
     "data": {
      "image/png": "[encoded data removed]",
      "text/plain": [
       "<IPython.core.display.Image object>"
      ]
     },
     "execution_count": 11,
     "metadata": {},
     "output_type": "execute_result"
    }
   ],
   "source": [
    "from IPython.display import Image\n",
    "\n",
    "date_data = data.value_counts('created_at').sort_index().reset_index()\n",
    "fig = px.bar(date_data[(date_data['created_at'] >= 2010) & (date_data['created_at'] <=2025)],\n",
    "    x='created_at',\n",
    "    y='count',\n",
    "    title='Amount of heavy hitters in 2025 by date of creation',\n",
    "    subtitle='Heavy hitters are the 1505 repos with the most amount of stars and forks as of 2025'\n",
    ")\n",
    "fig.show()\n",
    "fig.write_image(\"plot.png\")  \n",
    "Image(filename=\"plot.png\")   "
   ]
  },
  {
   "cell_type": "markdown",
   "id": "0dd09377",
   "metadata": {},
   "source": [
    "### Notice the bump around 2016?\n",
    "2016 was a year of many changes for the open source community characterized by:\n",
    "- The requirement from many schools and universities to use GitHub for student projects in STEM fields.\n",
    "- A cultural shift in the developer world towards open source software.\n",
    "- The adoption of open source software from big tech companies like Microsoft, Google, Facebook, IBM. \n",
    "  - Companies realized that open-sourcing tools could drive adoption, attract talent, and improve software quality through community contributions.\n",
    "  - Projects like Kubernetes (Google, 2014) and React (Facebook, 2013) were gaining training on the octocat platform.\n",
    "\n",
    "This led to an inmense growth in open source project in this year making those repositories stand out in terms of stars and forks which are the metrics we chose to analyze."
   ]
  },
  {
   "cell_type": "markdown",
   "id": "192dff4c",
   "metadata": {},
   "source": [
    "### The Battle of Languages. What developers loved ... and what they hated"
   ]
  },
  {
   "cell_type": "code",
   "execution_count": 18,
   "id": "636bf39b",
   "metadata": {},
   "outputs": [
    {
     "data": {
      "image/png": "[encoded data removed]",
      "text/plain": [
       "<IPython.core.display.Image object>"
      ]
     },
     "execution_count": 18,
     "metadata": {},
     "output_type": "execute_result"
    }
   ],
   "source": [
    "count_langs = lambda column: {key: len(data[data[column].str.contains(key, na = False)]) \\\n",
    "                    for key in all_prog_langs}\n",
    "all_prog_langs = extract_unique(data['Programming Languages used'].map(parse_to_list))\n",
    "language_count = count_langs('Programming Languages used')\n",
    "as_main_language = count_langs('Main Programming Language')\n",
    "\n",
    "lang_data = data.explode('Programming Languages used').value_counts(['Programming Languages used', 'Main Programming Language']).sort_index().reset_index()\n",
    "language_count = pd.DataFrame(\n",
    "                    {'Language':  list(language_count.keys()),\n",
    "                     'Times Used': list(language_count.values()),\n",
    "                     'Used %': [num/len(repo_data) for num in language_count.values()],\n",
    "                     'As Main': list(as_main_language.values()),\n",
    "                     'As Main %': [num/len(repo_data) for num in as_main_language.values()]\n",
    "                     }).sort_values('Times Used', ascending=False)\n",
    "fig = px.bar(\n",
    "            language_count,\n",
    "            x='Language',\n",
    "            y=['Times Used', 'As Main'],\n",
    "            barmode = 'overlay',\n",
    "            color='Language',\n",
    "            text_auto=True,\n",
    "            hover_name='Language',\n",
    "            hover_data={\n",
    "                'Used %': ':.2%', 'As Main %': ':.2%',\n",
    "                }\n",
    "        )\n",
    "fig\n",
    "fig.write_image(\"language_stats.png\")\n",
    "Image(\"language_stats.png\")"
   ]
  },
  {
   "cell_type": "markdown",
   "id": "a1f290d6",
   "metadata": {},
   "source": [
    "Why is 2023"
   ]
  },
  {
   "cell_type": "markdown",
   "id": "c1428036",
   "metadata": {},
   "source": [
    "## Top 10 repositories for developers in 2025\n",
    "\n",
    "Github remains the go-to platform for developers to discover, share and collaborate. No matter if you are just beggining your developer journey or an experienced software guru seeking to stay ahead of the curve, these 10 essential GitHub repositories will charge your workflow in 2025."
   ]
  }
 ],
 "metadata": {
  "kernelspec": {
   "display_name": "Python 3",
   "language": "python",
   "name": "python3"
  },
  "language_info": {
   "codemirror_mode": {
    "name": "ipython",
    "version": 3
   },
   "file_extension": ".py",
   "mimetype": "text/x-python",
   "name": "python",
   "nbconvert_exporter": "python",
   "pygments_lexer": "ipython3",
   "version": "3.13.2"
  }
 },
 "nbformat": 4,
 "nbformat_minor": 5
}
